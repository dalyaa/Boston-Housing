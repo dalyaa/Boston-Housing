{
 "cells": [
  {
   "cell_type": "code",
   "execution_count": 0,
   "metadata": {
    "colab": {
     "autoexec": {
      "startup": false,
      "wait_interval": 0
     }
    },
    "colab_type": "code",
    "id": "VdPKVPpGB1xL"
   },
   "outputs": [],
   "source": [
    "#Authenticate into Google Drive and find file ids in order to read in data files\n",
    "!pip install -U -q PyDrive\n",
    "\n",
    "from pydrive.auth import GoogleAuth\n",
    "from pydrive.drive import GoogleDrive\n",
    "from google.colab import auth\n",
    "from oauth2client.client import GoogleCredentials\n",
    "\n",
    "# 1. Authenticate and create the PyDrive client.\n",
    "auth.authenticate_user()\n",
    "gauth = GoogleAuth()\n",
    "gauth.credentials = GoogleCredentials.get_application_default()\n",
    "drive = GoogleDrive(gauth)\n",
    "\n"
   ]
  },
  {
   "cell_type": "code",
   "execution_count": 55,
   "metadata": {
    "colab": {
     "autoexec": {
      "startup": false,
      "wait_interval": 0
     },
     "base_uri": "https://localhost:8080/",
     "height": 221
    },
    "colab_type": "code",
    "executionInfo": {
     "elapsed": 1829,
     "status": "ok",
     "timestamp": 1532183586274,
     "user": {
      "displayName": "dalya adams",
      "photoUrl": "https://lh3.googleusercontent.com/a/default-user=s128",
      "userId": "101705127410802501621"
     },
     "user_tz": 240
    },
    "id": "1T6wP_TqCWvI",
    "outputId": "6da3936e-bd57-43c9-f459-d0c16ee756f0"
   },
   "outputs": [
    {
     "name": "stdout",
     "output_type": "stream",
     "text": [
      "total 108K\r\n",
      "drwxr-xr-x 1 root root 4.0K Jul 21 12:46 .\r\n",
      "drwxr-xr-x 1 root root 4.0K Jul 21 12:04 ..\r\n",
      "-rw-r--r-- 1 root root  36K Jul 21 14:33 boston.csv\r\n",
      "drwx------ 4 root root 4.0K Jul 21 12:37 .cache\r\n",
      "drwxr-xr-x 3 root root 4.0K Jul 21 12:37 .config\r\n",
      "-rw-r--r-- 1 root root  407 Jul 21 12:46 cv-results-df-mean.txt\r\n",
      "drwxr-xr-x 1 root root 4.0K Jul 21 12:46 datalab\r\n",
      "drwxr-xr-x 4 root root 4.0K Jul 21 12:05 .forever\r\n",
      "drwxr-xr-x 5 root root 4.0K Jul 21 12:37 .ipython\r\n",
      "drwx------ 3 root root 4.0K Jul 21 12:05 .local\r\n",
      "-rw-r--r-- 1 root root  25K Jul 21 12:46 plot-corr-map.pdf\r\n"
     ]
    }
   ],
   "source": [
    "#https://drive.google.com/file/d/1sL8ooo5l5Z89vi0dLn8zoTz9zfzfl82g/view?usp=sharing\n",
    "# 2. Load files by ID and print its contents.\n",
    "\n",
    "file_id = '1sL8ooo5l5Z89vi0dLn8zoTz9zfzfl82g' #Link Share the file and copy the id in the url after \"id=\"\n",
    "file = drive.CreateFile({'id': file_id}) #This creates a file in your virtual machine\n",
    "file.GetContentFile('boston.csv') #This names the file you linked in drive \"survey.csv\"\n",
    "!ls -lha #This lists all the folder in your local folder, you should see \"survey.csv\""
   ]
  },
  {
   "cell_type": "code",
   "execution_count": 0,
   "metadata": {
    "colab": {
     "autoexec": {
      "startup": false,
      "wait_interval": 0
     }
    },
    "colab_type": "code",
    "id": "BBrwweDACvuz"
   },
   "outputs": [],
   "source": [
    "import pandas as pd \n",
    "import numpy as np \n",
    "import statsmodels.api as sm\n",
    "import statsmodels.formula.api as smf  \n",
    "import matplotlib.pyplot as plt \n",
    "from scipy import stats\n",
    "import seaborn as sns\n",
    "from sklearn import linear_model\n",
    "from sklearn.linear_model import Lasso, ElasticNet, Ridge, LinearRegression\n",
    "from sklearn.model_selection import train_test_split\n",
    "from sklearn import metrics\n",
    "from sklearn.metrics import mean_squared_error\n",
    "from sklearn.model_selection import KFold\n",
    "from sklearn.cross_validation import cross_val_score, cross_val_predict\n",
    "from sklearn.metrics import mean_squared_error, r2_score\n",
    "from sklearn.model_selection import KFold\n",
    "from math import sqrt \n",
    "\n",
    "get_ipython().magic(u'matplotlib inline')\n",
    "#these are some options to control output on your screen \n",
    "pd.set_option('display.notebook_repr_html', False) \n",
    "pd.set_option('display.max_columns', 40) \n",
    "pd.set_option('display.max_rows', 50) \n",
    "pd.set_option('display.width', 120)"
   ]
  },
  {
   "cell_type": "code",
   "execution_count": 0,
   "metadata": {
    "colab": {
     "autoexec": {
      "startup": false,
      "wait_interval": 0
     }
    },
    "colab_type": "code",
    "id": "_vPcJtOFudX1"
   },
   "outputs": [],
   "source": [
    "# seed value for random number generators to obtain reproducible results\n",
    "RANDOM_SEED = 1\n",
    "SET_FIT_INTERCEPT = True"
   ]
  },
  {
   "cell_type": "code",
   "execution_count": 0,
   "metadata": {
    "colab": {
     "autoexec": {
      "startup": false,
      "wait_interval": 0
     }
    },
    "colab_type": "code",
    "id": "bcO9oQ8sC64V"
   },
   "outputs": [],
   "source": [
    "boston = pd.read_csv('boston.csv')"
   ]
  },
  {
   "cell_type": "markdown",
   "metadata": {
    "colab_type": "text",
    "id": "du5JQtKnGHmE"
   },
   "source": [
    "**Begin EDA**"
   ]
  },
  {
   "cell_type": "code",
   "execution_count": 168,
   "metadata": {
    "colab": {
     "autoexec": {
      "startup": false,
      "wait_interval": 0
     },
     "base_uri": "https://localhost:8080/",
     "height": 227
    },
    "colab_type": "code",
    "executionInfo": {
     "elapsed": 238,
     "status": "ok",
     "timestamp": 1532191087412,
     "user": {
      "displayName": "dalya adams",
      "photoUrl": "https://lh3.googleusercontent.com/a/default-user=s128",
      "userId": "101705127410802501621"
     },
     "user_tz": 240
    },
    "id": "HF3lEy0QEJ3G",
    "outputId": "a4351777-4db0-4c8a-9d3d-c4cdc083acc6"
   },
   "outputs": [
    {
     "name": "stdout",
     "output_type": "stream",
     "text": [
      "\n",
      "----- Summary of Input Data -----\n",
      "\n",
      "('Object type: ', <class 'pandas.core.frame.DataFrame'>)\n",
      "\n",
      "('Number of observations: ', 506)\n",
      "\n",
      "('Variable names: ', Index([u'crim', u'zn', u'indus', u'chas', u'nox', u'rooms', u'age', u'dis', u'rad', u'tax', u'ptratio', u'lstat',\n",
      "       u'mv'],\n",
      "      dtype='object'))\n"
     ]
    }
   ],
   "source": [
    "print('')\n",
    "print('----- Summary of Input Data -----')\n",
    "print('')\n",
    "\n",
    "# show the object is a DataFrame\n",
    "print('Object type: ', type(boston))\n",
    "print('')\n",
    "# show number of observations in the DataFrame\n",
    "print('Number of observations: ', len(boston))\n",
    "print('')\n",
    "# show variable names\n",
    "print('Variable names: ', boston.columns)"
   ]
  },
  {
   "cell_type": "code",
   "execution_count": 169,
   "metadata": {
    "colab": {
     "autoexec": {
      "startup": false,
      "wait_interval": 0
     },
     "base_uri": "https://localhost:8080/",
     "height": 323
    },
    "colab_type": "code",
    "executionInfo": {
     "elapsed": 223,
     "status": "ok",
     "timestamp": 1532191088650,
     "user": {
      "displayName": "dalya adams",
      "photoUrl": "https://lh3.googleusercontent.com/a/default-user=s128",
      "userId": "101705127410802501621"
     },
     "user_tz": 240
    },
    "id": "c7_CrUPHE7X-",
    "outputId": "50538ec8-2cc2-4337-b91e-4d9092586541"
   },
   "outputs": [
    {
     "name": "stdout",
     "output_type": "stream",
     "text": [
      "<class 'pandas.core.frame.DataFrame'>\n",
      "RangeIndex: 506 entries, 0 to 505\n",
      "Data columns (total 13 columns):\n",
      "crim       506 non-null float64\n",
      "zn         506 non-null float64\n",
      "indus      506 non-null float64\n",
      "chas       506 non-null int64\n",
      "nox        506 non-null float64\n",
      "rooms      506 non-null float64\n",
      "age        506 non-null float64\n",
      "dis        506 non-null float64\n",
      "rad        506 non-null int64\n",
      "tax        506 non-null int64\n",
      "ptratio    506 non-null float64\n",
      "lstat      506 non-null float64\n",
      "mv         506 non-null float64\n",
      "dtypes: float64(10), int64(3)\n",
      "memory usage: 51.5 KB\n"
     ]
    }
   ],
   "source": [
    "#show variable names, observations for each, data type for each\n",
    "boston.info()"
   ]
  },
  {
   "cell_type": "code",
   "execution_count": 170,
   "metadata": {
    "colab": {
     "autoexec": {
      "startup": false,
      "wait_interval": 0
     },
     "base_uri": "https://localhost:8080/",
     "height": 255
    },
    "colab_type": "code",
    "executionInfo": {
     "elapsed": 223,
     "status": "ok",
     "timestamp": 1532191089493,
     "user": {
      "displayName": "dalya adams",
      "photoUrl": "https://lh3.googleusercontent.com/a/default-user=s128",
      "userId": "101705127410802501621"
     },
     "user_tz": 240
    },
    "id": "JaJN3UfPGY35",
    "outputId": "718b61bd-54c4-4e58-bba2-93c1bb0fd9ca"
   },
   "outputs": [
    {
     "data": {
      "text/plain": [
       "crim       0\n",
       "zn         0\n",
       "indus      0\n",
       "chas       0\n",
       "nox        0\n",
       "rooms      0\n",
       "age        0\n",
       "dis        0\n",
       "rad        0\n",
       "tax        0\n",
       "ptratio    0\n",
       "lstat      0\n",
       "mv         0\n",
       "dtype: int64"
      ]
     },
     "execution_count": 170,
     "metadata": {
      "tags": []
     },
     "output_type": "execute_result"
    }
   ],
   "source": [
    "# How many Null values?\n",
    "len(boston.index)-boston.count()"
   ]
  },
  {
   "cell_type": "code",
   "execution_count": 171,
   "metadata": {
    "colab": {
     "autoexec": {
      "startup": false,
      "wait_interval": 0
     },
     "base_uri": "https://localhost:8080/",
     "height": 380
    },
    "colab_type": "code",
    "executionInfo": {
     "elapsed": 285,
     "status": "ok",
     "timestamp": 1532191090359,
     "user": {
      "displayName": "dalya adams",
      "photoUrl": "https://lh3.googleusercontent.com/a/default-user=s128",
      "userId": "101705127410802501621"
     },
     "user_tz": 240
    },
    "id": "MS20SiC5E-Q0",
    "outputId": "8744b9eb-1e18-4339-967b-2f736bf7ffb7"
   },
   "outputs": [
    {
     "data": {
      "text/plain": [
       "            crim         zn      indus       chas        nox      rooms        age        dis        rad        tax  \\\n",
       "count  506.00000  506.00000  506.00000  506.00000  506.00000  506.00000  506.00000  506.00000  506.00000  506.00000   \n",
       "mean     3.61352   11.36364   11.13678    0.06917    0.55470    6.28463   68.57490    3.79504    9.54941  408.23715   \n",
       "std      8.60155   23.32245    6.86035    0.25399    0.11588    0.70262   28.14886    2.10571    8.70726  168.53712   \n",
       "min      0.00632    0.00000    0.46000    0.00000    0.38500    3.56100    2.90000    1.12960    1.00000  187.00000   \n",
       "25%      0.08204    0.00000    5.19000    0.00000    0.44900    5.88550   45.02500    2.10018    4.00000  279.00000   \n",
       "50%      0.25651    0.00000    9.69000    0.00000    0.53800    6.20850   77.50000    3.20745    5.00000  330.00000   \n",
       "75%      3.67708   12.50000   18.10000    0.00000    0.62400    6.62350   94.07500    5.18843   24.00000  666.00000   \n",
       "max     88.97620  100.00000   27.74000    1.00000    0.87100    8.78000  100.00000   12.12650   24.00000  711.00000   \n",
       "\n",
       "         ptratio      lstat         mv  \n",
       "count  506.00000  506.00000  506.00000  \n",
       "mean    18.45553   12.65306   22.52885  \n",
       "std      2.16495    7.14106    9.18218  \n",
       "min     12.60000    1.73000    5.00000  \n",
       "25%     17.40000    6.95000   17.02500  \n",
       "50%     19.05000   11.36000   21.20000  \n",
       "75%     20.20000   16.95500   25.00000  \n",
       "max     22.00000   37.97000   50.00000  "
      ]
     },
     "execution_count": 171,
     "metadata": {
      "tags": []
     },
     "output_type": "execute_result"
    }
   ],
   "source": [
    "boston.describe()"
   ]
  },
  {
   "cell_type": "code",
   "execution_count": 172,
   "metadata": {
    "colab": {
     "autoexec": {
      "startup": false,
      "wait_interval": 0
     },
     "base_uri": "https://localhost:8080/",
     "height": 159
    },
    "colab_type": "code",
    "executionInfo": {
     "elapsed": 260,
     "status": "ok",
     "timestamp": 1532191092106,
     "user": {
      "displayName": "dalya adams",
      "photoUrl": "https://lh3.googleusercontent.com/a/default-user=s128",
      "userId": "101705127410802501621"
     },
     "user_tz": 240
    },
    "id": "ZY1G5-5FDF39",
    "outputId": "decd6ffd-a217-4a61-9a03-696276654fdc"
   },
   "outputs": [
    {
     "data": {
      "text/plain": [
       "      crim    zn  indus  chas    nox  rooms   age     dis  rad  tax  ptratio  lstat    mv\n",
       "0  0.00632  18.0   2.31     0  0.538  6.575  65.2  4.0900    1  296     15.3   4.98  24.0\n",
       "1  0.02731   0.0   7.07     0  0.469  6.421  78.9  4.9671    2  242     17.8   9.14  21.6\n",
       "2  0.02729   0.0   7.07     0  0.469  7.185  61.1  4.9671    2  242     17.8   4.03  34.7\n",
       "3  0.03237   0.0   2.18     0  0.458  6.998  45.8  6.0622    3  222     18.7   2.94  33.4\n",
       "4  0.06905   0.0   2.18     0  0.458  7.147  54.2  6.0622    3  222     18.7   5.33  36.2"
      ]
     },
     "execution_count": 172,
     "metadata": {
      "tags": []
     },
     "output_type": "execute_result"
    }
   ],
   "source": [
    "boston.head()"
   ]
  },
  {
   "cell_type": "code",
   "execution_count": 173,
   "metadata": {
    "colab": {
     "autoexec": {
      "startup": false,
      "wait_interval": 0
     },
     "base_uri": "https://localhost:8080/",
     "height": 159
    },
    "colab_type": "code",
    "executionInfo": {
     "elapsed": 213,
     "status": "ok",
     "timestamp": 1532191092933,
     "user": {
      "displayName": "dalya adams",
      "photoUrl": "https://lh3.googleusercontent.com/a/default-user=s128",
      "userId": "101705127410802501621"
     },
     "user_tz": 240
    },
    "id": "FFNwvZOPDRN3",
    "outputId": "fd308347-4a6b-4fb2-f593-13f39fdfafa2"
   },
   "outputs": [
    {
     "data": {
      "text/plain": [
       "        crim   zn  indus  chas    nox  rooms   age     dis  rad  tax  ptratio  lstat    mv\n",
       "501  0.06263  0.0  11.93     0  0.573  6.593  69.1  2.4786    1  273     21.0   9.67  22.4\n",
       "502  0.04527  0.0  11.93     0  0.573  6.120  76.7  2.2875    1  273     21.0   9.08  20.6\n",
       "503  0.06076  0.0  11.93     0  0.573  6.976  91.0  2.1675    1  273     21.0   5.64  23.9\n",
       "504  0.10959  0.0  11.93     0  0.573  6.794  89.3  2.3889    1  273     21.0   6.48  22.0\n",
       "505  0.04741  0.0  11.93     0  0.573  6.030  80.8  2.5050    1  273     21.0   7.88  19.0"
      ]
     },
     "execution_count": 173,
     "metadata": {
      "tags": []
     },
     "output_type": "execute_result"
    }
   ],
   "source": [
    "boston.tail()"
   ]
  },
  {
   "cell_type": "code",
   "execution_count": 174,
   "metadata": {
    "colab": {
     "autoexec": {
      "startup": false,
      "wait_interval": 0
     },
     "base_uri": "https://localhost:8080/",
     "height": 561
    },
    "colab_type": "code",
    "executionInfo": {
     "elapsed": 438,
     "status": "error",
     "timestamp": 1532191094259,
     "user": {
      "displayName": "dalya adams",
      "photoUrl": "https://lh3.googleusercontent.com/a/default-user=s128",
      "userId": "101705127410802501621"
     },
     "user_tz": 240
    },
    "id": "QBVQcUIdFHCz",
    "outputId": "d397981a-f9f9-4f70-d142-2e528568d7b5"
   },
   "outputs": [
    {
     "ename": "ValueError",
     "evalue": "ignored",
     "output_type": "error",
     "traceback": [
      "\u001b[0;31m\u001b[0m",
      "\u001b[0;31mValueError\u001b[0mTraceback (most recent call last)",
      "\u001b[0;32m<ipython-input-174-eee49a9c32c2>\u001b[0m in \u001b[0;36m<module>\u001b[0;34m()\u001b[0m\n\u001b[0;32m----> 1\u001b[0;31m \u001b[0mboston\u001b[0m \u001b[0;34m=\u001b[0m \u001b[0mboston\u001b[0m\u001b[0;34m.\u001b[0m\u001b[0mdrop\u001b[0m\u001b[0;34m(\u001b[0m\u001b[0;34m'neighborhood'\u001b[0m\u001b[0;34m,\u001b[0m \u001b[0;36m1\u001b[0m\u001b[0;34m)\u001b[0m\u001b[0;34m\u001b[0m\u001b[0m\n\u001b[0m",
      "\u001b[0;32m/usr/local/lib/python2.7/dist-packages/pandas/core/generic.pyc\u001b[0m in \u001b[0;36mdrop\u001b[0;34m(self, labels, axis, index, columns, level, inplace, errors)\u001b[0m\n\u001b[1;32m   2528\u001b[0m         \u001b[0;32mfor\u001b[0m \u001b[0maxis\u001b[0m\u001b[0;34m,\u001b[0m \u001b[0mlabels\u001b[0m \u001b[0;32min\u001b[0m \u001b[0maxes\u001b[0m\u001b[0;34m.\u001b[0m\u001b[0mitems\u001b[0m\u001b[0;34m(\u001b[0m\u001b[0;34m)\u001b[0m\u001b[0;34m:\u001b[0m\u001b[0;34m\u001b[0m\u001b[0m\n\u001b[1;32m   2529\u001b[0m             \u001b[0;32mif\u001b[0m \u001b[0mlabels\u001b[0m \u001b[0;32mis\u001b[0m \u001b[0;32mnot\u001b[0m \u001b[0mNone\u001b[0m\u001b[0;34m:\u001b[0m\u001b[0;34m\u001b[0m\u001b[0m\n\u001b[0;32m-> 2530\u001b[0;31m                 \u001b[0mobj\u001b[0m \u001b[0;34m=\u001b[0m \u001b[0mobj\u001b[0m\u001b[0;34m.\u001b[0m\u001b[0m_drop_axis\u001b[0m\u001b[0;34m(\u001b[0m\u001b[0mlabels\u001b[0m\u001b[0;34m,\u001b[0m \u001b[0maxis\u001b[0m\u001b[0;34m,\u001b[0m \u001b[0mlevel\u001b[0m\u001b[0;34m=\u001b[0m\u001b[0mlevel\u001b[0m\u001b[0;34m,\u001b[0m \u001b[0merrors\u001b[0m\u001b[0;34m=\u001b[0m\u001b[0merrors\u001b[0m\u001b[0;34m)\u001b[0m\u001b[0;34m\u001b[0m\u001b[0m\n\u001b[0m\u001b[1;32m   2531\u001b[0m \u001b[0;34m\u001b[0m\u001b[0m\n\u001b[1;32m   2532\u001b[0m         \u001b[0;32mif\u001b[0m \u001b[0minplace\u001b[0m\u001b[0;34m:\u001b[0m\u001b[0;34m\u001b[0m\u001b[0m\n",
      "\u001b[0;32m/usr/local/lib/python2.7/dist-packages/pandas/core/generic.pyc\u001b[0m in \u001b[0;36m_drop_axis\u001b[0;34m(self, labels, axis, level, errors)\u001b[0m\n\u001b[1;32m   2560\u001b[0m                 \u001b[0mnew_axis\u001b[0m \u001b[0;34m=\u001b[0m \u001b[0maxis\u001b[0m\u001b[0;34m.\u001b[0m\u001b[0mdrop\u001b[0m\u001b[0;34m(\u001b[0m\u001b[0mlabels\u001b[0m\u001b[0;34m,\u001b[0m \u001b[0mlevel\u001b[0m\u001b[0;34m=\u001b[0m\u001b[0mlevel\u001b[0m\u001b[0;34m,\u001b[0m \u001b[0merrors\u001b[0m\u001b[0;34m=\u001b[0m\u001b[0merrors\u001b[0m\u001b[0;34m)\u001b[0m\u001b[0;34m\u001b[0m\u001b[0m\n\u001b[1;32m   2561\u001b[0m             \u001b[0;32melse\u001b[0m\u001b[0;34m:\u001b[0m\u001b[0;34m\u001b[0m\u001b[0m\n\u001b[0;32m-> 2562\u001b[0;31m                 \u001b[0mnew_axis\u001b[0m \u001b[0;34m=\u001b[0m \u001b[0maxis\u001b[0m\u001b[0;34m.\u001b[0m\u001b[0mdrop\u001b[0m\u001b[0;34m(\u001b[0m\u001b[0mlabels\u001b[0m\u001b[0;34m,\u001b[0m \u001b[0merrors\u001b[0m\u001b[0;34m=\u001b[0m\u001b[0merrors\u001b[0m\u001b[0;34m)\u001b[0m\u001b[0;34m\u001b[0m\u001b[0m\n\u001b[0m\u001b[1;32m   2563\u001b[0m             \u001b[0mdropped\u001b[0m \u001b[0;34m=\u001b[0m \u001b[0mself\u001b[0m\u001b[0;34m.\u001b[0m\u001b[0mreindex\u001b[0m\u001b[0;34m(\u001b[0m\u001b[0;34m**\u001b[0m\u001b[0;34m{\u001b[0m\u001b[0maxis_name\u001b[0m\u001b[0;34m:\u001b[0m \u001b[0mnew_axis\u001b[0m\u001b[0;34m}\u001b[0m\u001b[0;34m)\u001b[0m\u001b[0;34m\u001b[0m\u001b[0m\n\u001b[1;32m   2564\u001b[0m             \u001b[0;32mtry\u001b[0m\u001b[0;34m:\u001b[0m\u001b[0;34m\u001b[0m\u001b[0m\n",
      "\u001b[0;32m/usr/local/lib/python2.7/dist-packages/pandas/core/indexes/base.pyc\u001b[0m in \u001b[0;36mdrop\u001b[0;34m(self, labels, errors)\u001b[0m\n\u001b[1;32m   3742\u001b[0m             \u001b[0;32mif\u001b[0m \u001b[0merrors\u001b[0m \u001b[0;34m!=\u001b[0m \u001b[0;34m'ignore'\u001b[0m\u001b[0;34m:\u001b[0m\u001b[0;34m\u001b[0m\u001b[0m\n\u001b[1;32m   3743\u001b[0m                 raise ValueError('labels %s not contained in axis' %\n\u001b[0;32m-> 3744\u001b[0;31m                                  labels[mask])\n\u001b[0m\u001b[1;32m   3745\u001b[0m             \u001b[0mindexer\u001b[0m \u001b[0;34m=\u001b[0m \u001b[0mindexer\u001b[0m\u001b[0;34m[\u001b[0m\u001b[0;34m~\u001b[0m\u001b[0mmask\u001b[0m\u001b[0;34m]\u001b[0m\u001b[0;34m\u001b[0m\u001b[0m\n\u001b[1;32m   3746\u001b[0m         \u001b[0;32mreturn\u001b[0m \u001b[0mself\u001b[0m\u001b[0;34m.\u001b[0m\u001b[0mdelete\u001b[0m\u001b[0;34m(\u001b[0m\u001b[0mindexer\u001b[0m\u001b[0;34m)\u001b[0m\u001b[0;34m\u001b[0m\u001b[0m\n",
      "\u001b[0;31mValueError\u001b[0m: labels ['neighborhood'] not contained in axis"
     ]
    }
   ],
   "source": [
    "##drop neighborhood because it says so\n",
    "boston = boston.drop('neighborhood', 1)"
   ]
  },
  {
   "cell_type": "code",
   "execution_count": 0,
   "metadata": {
    "colab": {
     "autoexec": {
      "startup": false,
      "wait_interval": 0
     }
    },
    "colab_type": "code",
    "id": "DDD0JOAXFM--"
   },
   "outputs": [],
   "source": [
    "# correlation heat map setup for seaborn\n",
    "def corr_chart(df_corr):\n",
    "    corr=df_corr.corr()\n",
    "    #screen top half to get a triangle\n",
    "    top = np.zeros_like(corr, dtype=np.bool)\n",
    "    top[np.triu_indices_from(top)] = True\n",
    "    fig=plt.figure()\n",
    "    fig, ax = plt.subplots(figsize=(12,12))\n",
    "    sns.heatmap(corr, mask=top, cmap='coolwarm', \n",
    "        center = 0, square=True, \n",
    "        linewidths=.5, cbar_kws={'shrink':.5}, \n",
    "        annot = True, annot_kws={'size': 9}, fmt = '.3f')           \n",
    "    plt.xticks(rotation=45) # rotate variable labels on columns (x axis)\n",
    "    plt.yticks(rotation=0) # use horizontal variable labels on rows (y axis)\n",
    "    plt.title('Correlation Heat Map')   \n",
    "    plt.savefig('plot-corr-map.pdf', \n",
    "        bbox_inches = 'tight', dpi=None, facecolor='w', edgecolor='b', \n",
    "        orientation='portrait', papertype=None, format=None, \n",
    "        transparent=True, pad_inches=0.25, frameon=None)      "
   ]
  },
  {
   "cell_type": "code",
   "execution_count": 176,
   "metadata": {
    "colab": {
     "autoexec": {
      "startup": false,
      "wait_interval": 0
     },
     "base_uri": "https://localhost:8080/",
     "height": 672
    },
    "colab_type": "code",
    "executionInfo": {
     "elapsed": 1530,
     "status": "ok",
     "timestamp": 1532191099507,
     "user": {
      "displayName": "dalya adams",
      "photoUrl": "https://lh3.googleusercontent.com/a/default-user=s128",
      "userId": "101705127410802501621"
     },
     "user_tz": 240
    },
    "id": "Zrup5mKcFnrY",
    "outputId": "a77cd67b-f38a-4c13-fc83-539107c4adfd"
   },
   "outputs": [
    {
     "data": {
      "text/plain": [
       "<matplotlib.figure.Figure at 0x7f3a5889b6d0>"
      ]
     },
     "metadata": {
      "tags": []
     },
     "output_type": "display_data"
    },
    {
     "data": {
      "image/png": "[encoded data removed]",
      "text/plain": [
       "<matplotlib.figure.Figure at 0x7f3a5889b9d0>"
      ]
     },
     "metadata": {
      "tags": []
     },
     "output_type": "display_data"
    }
   ],
   "source": [
    "# examine intercorrelations\n",
    "# with correlation matrix/heat map\n",
    "corr_chart(df_corr = boston)"
   ]
  },
  {
   "cell_type": "code",
   "execution_count": 0,
   "metadata": {
    "colab": {
     "autoexec": {
      "startup": false,
      "wait_interval": 0
     }
    },
    "colab_type": "code",
    "id": "LBhi8ARuGAYV"
   },
   "outputs": [],
   "source": [
    "corr_matrix = boston.corr()"
   ]
  },
  {
   "cell_type": "code",
   "execution_count": 178,
   "metadata": {
    "colab": {
     "autoexec": {
      "startup": false,
      "wait_interval": 0
     },
     "base_uri": "https://localhost:8080/",
     "height": 255
    },
    "colab_type": "code",
    "executionInfo": {
     "elapsed": 358,
     "status": "ok",
     "timestamp": 1532191101529,
     "user": {
      "displayName": "dalya adams",
      "photoUrl": "https://lh3.googleusercontent.com/a/default-user=s128",
      "userId": "101705127410802501621"
     },
     "user_tz": 240
    },
    "id": "BoCm0k-QFvQK",
    "outputId": "89f68a15-a6a4-4546-901b-56e2ebf2c7ff"
   },
   "outputs": [
    {
     "data": {
      "text/plain": [
       "mv         1.00000\n",
       "rooms      0.69630\n",
       "zn         0.36039\n",
       "dis        0.24931\n",
       "chas       0.17566\n",
       "age       -0.37800\n",
       "rad       -0.38477\n",
       "crim      -0.38958\n",
       "nox       -0.42930\n",
       "tax       -0.47198\n",
       "indus     -0.48475\n",
       "ptratio   -0.50565\n",
       "lstat     -0.74084\n",
       "Name: mv, dtype: float64"
      ]
     },
     "execution_count": 178,
     "metadata": {
      "tags": []
     },
     "output_type": "execute_result"
    }
   ],
   "source": [
    "corr_matrix[\"mv\"].sort_values(ascending=False)"
   ]
  },
  {
   "cell_type": "markdown",
   "metadata": {
    "colab_type": "text",
    "id": "jlAvwcb3GLzq"
   },
   "source": [
    "**Begin Modeling**"
   ]
  },
  {
   "cell_type": "code",
   "execution_count": 179,
   "metadata": {
    "colab": {
     "autoexec": {
      "startup": false,
      "wait_interval": 0
     },
     "base_uri": "https://localhost:8080/",
     "height": 204
    },
    "colab_type": "code",
    "executionInfo": {
     "elapsed": 247,
     "status": "ok",
     "timestamp": 1532191106047,
     "user": {
      "displayName": "dalya adams",
      "photoUrl": "https://lh3.googleusercontent.com/a/default-user=s128",
      "userId": "101705127410802501621"
     },
     "user_tz": 240
    },
    "id": "7Kchnn5IF9iT",
    "outputId": "8c0594e1-f526-411c-fedb-7747ae672203"
   },
   "outputs": [
    {
     "name": "stdout",
     "output_type": "stream",
     "text": [
      "('\\nData dimensions:', (506, 13))\n",
      "StandardScaler(copy=True, with_mean=True, with_std=True)\n",
      "[2.25288538e+01 3.61352356e+00 1.13636364e+01 1.11367787e+01\n",
      " 6.91699605e-02 5.54695059e-01 6.28463439e+00 6.85749012e+01\n",
      " 3.79504269e+00 9.54940711e+00 4.08237154e+02 1.84555336e+01\n",
      " 1.26530632e+01]\n",
      "[9.17309810e+00 8.59304135e+00 2.32993957e+01 6.85357058e+00\n",
      " 2.53742935e-01 1.15763115e-01 7.01922514e-01 2.81210326e+01\n",
      " 2.10362836e+00 8.69865112e+00 1.68370495e+02 2.16280519e+00\n",
      " 7.13400164e+00]\n",
      "('\\nDimensions for model_data:', (506, 13))\n"
     ]
    }
   ],
   "source": [
    "# set up preliminary data for data for fitting the models \n",
    "# the first column is the median housing value response\n",
    "# the remaining columns are the explanatory variables\n",
    "prelim_model_data = np.array([boston.mv,\\\n",
    "    boston.crim,\\\n",
    "    boston.zn,\\\n",
    "    boston.indus,\\\n",
    "    boston.chas,\\\n",
    "    boston.nox,\\\n",
    "    boston.rooms,\\\n",
    "    boston.age,\\\n",
    "    boston.dis,\\\n",
    "    boston.rad,\\\n",
    "    boston.tax,\\\n",
    "    boston.ptratio,\\\n",
    "    boston.lstat]).T\n",
    "\n",
    "# dimensions of the polynomial model X input and y response\n",
    "# preliminary data before standardization\n",
    "print('\\nData dimensions:', prelim_model_data.shape)\n",
    "\n",
    "# standard scores for the columns... along axis 0\n",
    "from sklearn.preprocessing import StandardScaler\n",
    "scaler = StandardScaler()\n",
    "print(scaler.fit(prelim_model_data))\n",
    "# show standardization constants being employed\n",
    "print(scaler.mean_)\n",
    "print(scaler.scale_)\n",
    "\n",
    "# the model data will be standardized form of preliminary model data\n",
    "model_data = scaler.fit_transform(prelim_model_data)\n",
    "\n",
    "# dimensions of the polynomial model X input and y response\n",
    "# all in standardized units of measure\n",
    "print('\\nDimensions for model_data:', model_data.shape)\n",
    "\n"
   ]
  },
  {
   "cell_type": "code",
   "execution_count": 0,
   "metadata": {
    "colab": {
     "autoexec": {
      "startup": false,
      "wait_interval": 0
     }
    },
    "colab_type": "code",
    "id": "IeqxgUJIlfqO"
   },
   "outputs": [],
   "source": [
    "names = [\"Linear\", \"Ridge\", \"Lasso\", \"Elastic Net\", \"Ridge_1\", \"Lasso_1\", \"Elastic Net_1\", \"Ridge_.5\", \"Lasso_.5\", \"Elastic Net_.5\"]\n",
    "regressions = [LinearRegression(fit_intercept = SET_FIT_INTERCEPT), \n",
    "              Ridge(alpha=0.1, \n",
    "                    solver=\"cholesky\", \n",
    "                    fit_intercept = SET_FIT_INTERCEPT,\n",
    "                   random_state = RANDOM_SEED), \n",
    "              Lasso(alpha=0.1, \n",
    "                    fit_intercept = SET_FIT_INTERCEPT,\n",
    "                   random_state = RANDOM_SEED), \n",
    "              ElasticNet(alpha=0.1, \n",
    "                         l1_ratio=0.5, \n",
    "                         fit_intercept = SET_FIT_INTERCEPT,\n",
    "                        random_state = RANDOM_SEED), \n",
    "              Ridge(alpha=1, \n",
    "                    solver=\"cholesky\", \n",
    "                    fit_intercept = SET_FIT_INTERCEPT,\n",
    "                   random_state = RANDOM_SEED), \n",
    "              Lasso(alpha=1, \n",
    "                    fit_intercept = SET_FIT_INTERCEPT,\n",
    "                   random_state = RANDOM_SEED), \n",
    "              ElasticNet(alpha=1, \n",
    "                         l1_ratio=0.5, \n",
    "                         fit_intercept = SET_FIT_INTERCEPT,\n",
    "                        random_state = RANDOM_SEED), \n",
    "              Ridge(alpha=0.5, \n",
    "                    solver=\"cholesky\", \n",
    "                    fit_intercept = SET_FIT_INTERCEPT,\n",
    "                   random_state = RANDOM_SEED), \n",
    "              Lasso(alpha=0.5, \n",
    "                    fit_intercept = SET_FIT_INTERCEPT,\n",
    "                   random_state = RANDOM_SEED), \n",
    "              ElasticNet(alpha=0.5, \n",
    "                         l1_ratio=0.5, \n",
    "                         fit_intercept = SET_FIT_INTERCEPT,\n",
    "                        random_state = RANDOM_SEED)]"
   ]
  },
  {
   "cell_type": "code",
   "execution_count": 0,
   "metadata": {
    "colab": {
     "autoexec": {
      "startup": false,
      "wait_interval": 0
     }
    },
    "colab_type": "code",
    "id": "pchYX2yeuCkH"
   },
   "outputs": [],
   "source": [
    "# ten-fold cross-validation employed here\n",
    "N_FOLDS = 10"
   ]
  },
  {
   "cell_type": "code",
   "execution_count": 0,
   "metadata": {
    "colab": {
     "autoexec": {
      "startup": false,
      "wait_interval": 0
     }
    },
    "colab_type": "code",
    "id": "JvVLq3u_utxw"
   },
   "outputs": [],
   "source": [
    "# set up numpy array for storing results\n",
    "cv_results = np.zeros((N_FOLDS, len(names)))\n",
    "\n",
    "kf = KFold(n_splits = N_FOLDS, shuffle=False, random_state = RANDOM_SEED)"
   ]
  },
  {
   "cell_type": "code",
   "execution_count": 183,
   "metadata": {
    "colab": {
     "autoexec": {
      "startup": false,
      "wait_interval": 0
     },
     "base_uri": "https://localhost:8080/",
     "height": 18567
    },
    "colab_type": "code",
    "executionInfo": {
     "elapsed": 809,
     "status": "ok",
     "timestamp": 1532191111545,
     "user": {
      "displayName": "dalya adams",
      "photoUrl": "https://lh3.googleusercontent.com/a/default-user=s128",
      "userId": "101705127410802501621"
     },
     "user_tz": 240
    },
    "id": "gMbnCIQCu9gH",
    "outputId": "1b476ca4-c52a-419f-80a7-3e9a6c32c5e4"
   },
   "outputs": [
    {
     "name": "stdout",
     "output_type": "stream",
     "text": [
      "('\\nFold index:', 0, '------------------------------------------')\n",
      "('\\nShape of input data for this fold:', '\\nData Set: (Observations, Variables)')\n",
      "('X_train:', (455, 12))\n",
      "('X_test:', (51, 12))\n",
      "('y_train:', (455,))\n",
      "('y_test:', (51,))\n",
      "('\\nRegression evaluation for:', 'Linear')\n",
      "('  Scikit Learn method:', LinearRegression(copy_X=True, fit_intercept=True, n_jobs=1, normalize=False))\n",
      "('Fitted regression intercept:', -0.005032049293645771)\n",
      "('Fitted regression coefficients:', array([-0.11088775,  0.13573238,  0.01408652,  0.0787664 , -0.23758124,\n",
      "        0.26794267,  0.0065031 , -0.37082275,  0.27035218, -0.23150162,\n",
      "       -0.21456859, -0.45500336]))\n",
      "('Coefficient of determination (R-squared):', 0.7650752349379011)\n",
      "{'copy_X': True, 'normalize': False, 'n_jobs': 1, 'fit_intercept': True}\n",
      "('Root mean-squared error:', 0.3080338355432654, '\\n--------------------------------------------------------\\n')\n",
      "('\\nRegression evaluation for:', 'Ridge')\n",
      "('  Scikit Learn method:', Ridge(alpha=0.1, copy_X=True, fit_intercept=True, max_iter=None,\n",
      "   normalize=False, random_state=1, solver='cholesky', tol=0.001))\n",
      "('Fitted regression intercept:', -0.005006012505144625)\n",
      "('Fitted regression coefficients:', array([-0.11079817,  0.13551484,  0.01379717,  0.07880002, -0.23725121,\n",
      "        0.26806803,  0.00647425, -0.37043599,  0.26955289, -0.23077584,\n",
      "       -0.21446948, -0.45479815]))\n",
      "('Coefficient of determination (R-squared):', 0.7652758652644298)\n",
      "{'normalize': False, 'fit_intercept': True, 'max_iter': None, 'random_state': 1, 'tol': 0.001, 'copy_X': True, 'alpha': 0.1, 'solver': 'cholesky'}\n",
      "('Root mean-squared error:', 0.30790227399966386, '\\n--------------------------------------------------------\\n')\n",
      "('\\nRegression evaluation for:', 'Lasso')\n",
      "('  Scikit Learn method:', Lasso(alpha=0.1, copy_X=True, fit_intercept=True, max_iter=1000,\n",
      "   normalize=False, positive=False, precompute=False, random_state=1,\n",
      "   selection='cyclic', tol=0.0001, warm_start=False))\n",
      "('Fitted regression intercept:', 0.01005236850140891)\n",
      "('Fitted regression coefficients:', array([-0.00443236,  0.        , -0.        ,  0.01573446, -0.        ,\n",
      "        0.2934325 , -0.        , -0.        , -0.        , -0.00988311,\n",
      "       -0.14859278, -0.4049196 ]))\n",
      "('Coefficient of determination (R-squared):', 0.7714357416146957)\n",
      "{'normalize': False, 'warm_start': False, 'selection': 'cyclic', 'fit_intercept': True, 'positive': False, 'max_iter': 1000, 'precompute': False, 'random_state': 1, 'tol': 0.0001, 'copy_X': True, 'alpha': 0.1}\n",
      "('Root mean-squared error:', 0.30383526711726844, '\\n--------------------------------------------------------\\n')\n",
      "('\\nRegression evaluation for:', 'Elastic Net')\n",
      "('  Scikit Learn method:', ElasticNet(alpha=0.1, copy_X=True, fit_intercept=True, l1_ratio=0.5,\n",
      "      max_iter=1000, normalize=False, positive=False, precompute=False,\n",
      "      random_state=1, selection='cyclic', tol=0.0001, warm_start=False))\n",
      "('Fitted regression intercept:', 0.00990418807522006)\n",
      "('Fitted regression coefficients:', array([-0.03414524,  0.        , -0.        ,  0.05097856, -0.03372387,\n",
      "        0.30937459, -0.        , -0.04960688, -0.        , -0.0319699 ,\n",
      "       -0.16824973, -0.39245746]))\n",
      "('Coefficient of determination (R-squared):', 0.7764678677875373)\n",
      "{'normalize': False, 'warm_start': False, 'selection': 'cyclic', 'fit_intercept': True, 'l1_ratio': 0.5, 'max_iter': 1000, 'precompute': False, 'random_state': 1, 'tol': 0.0001, 'positive': False, 'copy_X': True, 'alpha': 0.1}\n",
      "('Root mean-squared error:', 0.3004719969651891, '\\n--------------------------------------------------------\\n')\n",
      "('\\nRegression evaluation for:', 'Ridge_1')\n",
      "('  Scikit Learn method:', Ridge(alpha=1, copy_X=True, fit_intercept=True, max_iter=None,\n",
      "   normalize=False, random_state=1, solver='cholesky', tol=0.001))\n",
      "('Fitted regression intercept:', -0.004773620761079112)\n",
      "('Fitted regression coefficients:', array([-0.11001123,  0.13359572,  0.01127468,  0.07909158, -0.23433041,\n",
      "        0.26916949,  0.006223  , -0.3669903 ,  0.26256785, -0.22446219,\n",
      "       -0.21359445, -0.4529676 ]))\n",
      "('Coefficient of determination (R-squared):', 0.7670378077121722)\n",
      "{'normalize': False, 'fit_intercept': True, 'max_iter': None, 'random_state': 1, 'tol': 0.001, 'copy_X': True, 'alpha': 1, 'solver': 'cholesky'}\n",
      "('Root mean-squared error:', 0.3067444723142135, '\\n--------------------------------------------------------\\n')\n",
      "('\\nRegression evaluation for:', 'Lasso_1')\n",
      "('  Scikit Learn method:', Lasso(alpha=1, copy_X=True, fit_intercept=True, max_iter=1000,\n",
      "   normalize=False, positive=False, precompute=False, random_state=1,\n",
      "   selection='cyclic', tol=0.0001, warm_start=False))\n",
      "('Fitted regression intercept:', 0.026276439253108692)\n",
      "('Fitted regression coefficients:', array([-0.,  0., -0.,  0., -0.,  0., -0.,  0., -0., -0., -0., -0.]))\n",
      "('Coefficient of determination (R-squared):', -0.16827734910388403)\n",
      "{'normalize': False, 'warm_start': False, 'selection': 'cyclic', 'fit_intercept': True, 'positive': False, 'max_iter': 1000, 'precompute': False, 'random_state': 1, 'tol': 0.0001, 'copy_X': True, 'alpha': 1}\n",
      "('Root mean-squared error:', 0.6869213286347543, '\\n--------------------------------------------------------\\n')\n",
      "('\\nRegression evaluation for:', 'Elastic Net_1')\n",
      "('  Scikit Learn method:', ElasticNet(alpha=1, copy_X=True, fit_intercept=True, l1_ratio=0.5,\n",
      "      max_iter=1000, normalize=False, positive=False, precompute=False,\n",
      "      random_state=1, selection='cyclic', tol=0.0001, warm_start=False))\n",
      "('Fitted regression intercept:', 0.02211464618476019)\n",
      "('Fitted regression coefficients:', array([-0.        ,  0.        , -0.        ,  0.        , -0.        ,\n",
      "        0.09230659, -0.        ,  0.        , -0.        , -0.        ,\n",
      "       -0.        , -0.13873817]))\n",
      "('Coefficient of determination (R-squared):', 0.2642399328318006)\n",
      "{'normalize': False, 'warm_start': False, 'selection': 'cyclic', 'fit_intercept': True, 'l1_ratio': 0.5, 'max_iter': 1000, 'precompute': False, 'random_state': 1, 'tol': 0.0001, 'positive': False, 'copy_X': True, 'alpha': 1}\n",
      "('Root mean-squared error:', 0.5451325687167109, '\\n--------------------------------------------------------\\n')\n",
      "('\\nRegression evaluation for:', 'Ridge_.5')\n",
      "('  Scikit Learn method:', Ridge(alpha=0.5, copy_X=True, fit_intercept=True, max_iter=None,\n",
      "   normalize=False, random_state=1, solver='cholesky', tol=0.001))\n",
      "('Fitted regression intercept:', -0.004902298001829893)\n",
      "('Fitted regression coefficients:', array([-0.1104442 ,  0.13465338,  0.01265822,  0.07893202, -0.2359422 ,\n",
      "        0.26856345,  0.00636074, -0.36889679,  0.26640279, -0.22792203,\n",
      "       -0.21407686, -0.45398096]))\n",
      "('Coefficient of determination (R-squared):', 0.7660685879977718)\n",
      "{'normalize': False, 'fit_intercept': True, 'max_iter': None, 'random_state': 1, 'tol': 0.001, 'copy_X': True, 'alpha': 0.5, 'solver': 'cholesky'}\n",
      "('Root mean-squared error:', 0.30738190236814805, '\\n--------------------------------------------------------\\n')\n",
      "('\\nRegression evaluation for:', 'Lasso_.5')\n",
      "('  Scikit Learn method:', Lasso(alpha=0.5, copy_X=True, fit_intercept=True, max_iter=1000,\n",
      "   normalize=False, positive=False, precompute=False, random_state=1,\n",
      "   selection='cyclic', tol=0.0001, warm_start=False))\n",
      "('Fitted regression intercept:', 0.021426596444934477)\n",
      "('Fitted regression coefficients:', array([-0.        ,  0.        , -0.        ,  0.        , -0.        ,\n",
      "        0.09579308, -0.        ,  0.        , -0.        , -0.        ,\n",
      "       -0.        , -0.20488022]))\n",
      "('Coefficient of determination (R-squared):', 0.3686317682066772)\n",
      "{'normalize': False, 'warm_start': False, 'selection': 'cyclic', 'fit_intercept': True, 'positive': False, 'max_iter': 1000, 'precompute': False, 'random_state': 1, 'tol': 0.0001, 'copy_X': True, 'alpha': 0.5}\n",
      "('Root mean-squared error:', 0.5049814045701081, '\\n--------------------------------------------------------\\n')\n",
      "('\\nRegression evaluation for:', 'Elastic Net_.5')\n",
      "('  Scikit Learn method:', ElasticNet(alpha=0.5, copy_X=True, fit_intercept=True, l1_ratio=0.5,\n",
      "      max_iter=1000, normalize=False, positive=False, precompute=False,\n",
      "      random_state=1, selection='cyclic', tol=0.0001, warm_start=False))\n",
      "('Fitted regression intercept:', 0.016136697219876265)\n",
      "('Fitted regression coefficients:', array([-0.        ,  0.        , -0.        ,  0.        , -0.        ,\n",
      "        0.2107157 , -0.        ,  0.        , -0.        , -0.00936733,\n",
      "       -0.06872741, -0.27693921]))\n",
      "('Coefficient of determination (R-squared):', 0.6268070152563514)\n",
      "{'normalize': False, 'warm_start': False, 'selection': 'cyclic', 'fit_intercept': True, 'l1_ratio': 0.5, 'max_iter': 1000, 'precompute': False, 'random_state': 1, 'tol': 0.0001, 'positive': False, 'copy_X': True, 'alpha': 0.5}\n",
      "('Root mean-squared error:', 0.3882404293955996, '\\n--------------------------------------------------------\\n')\n",
      "('\\nFold index:', 1, '------------------------------------------')\n",
      "('\\nShape of input data for this fold:', '\\nData Set: (Observations, Variables)')\n",
      "('X_train:', (455, 12))\n",
      "('X_test:', (51, 12))\n",
      "('y_train:', (455,))\n",
      "('y_test:', (51,))\n",
      "('\\nRegression evaluation for:', 'Linear')\n",
      "('  Scikit Learn method:', LinearRegression(copy_X=True, fit_intercept=True, n_jobs=1, normalize=False))\n",
      "('Fitted regression intercept:', 0.014758668479534769)\n",
      "('Fitted regression coefficients:', array([-0.11416916,  0.13735395,  0.03040902,  0.07372903, -0.27663382,\n",
      "        0.25006708,  0.01204323, -0.38289271,  0.28725993, -0.25460716,\n",
      "       -0.22651486, -0.45255877]))\n",
      "('Coefficient of determination (R-squared):', 0.46067574628462993)\n",
      "{'copy_X': True, 'normalize': False, 'n_jobs': 1, 'fit_intercept': True}\n",
      "('Root mean-squared error:', 0.41488851922454006, '\\n--------------------------------------------------------\\n')\n",
      "('\\nRegression evaluation for:', 'Ridge')\n",
      "('  Scikit Learn method:', Ridge(alpha=0.1, copy_X=True, fit_intercept=True, max_iter=None,\n",
      "   normalize=False, random_state=1, solver='cholesky', tol=0.001))\n",
      "('Fitted regression intercept:', 0.014757989210091402)\n",
      "('Fitted regression coefficients:', array([-0.11406795,  0.13712547,  0.03006923,  0.07377571, -0.27625787,\n",
      "        0.25021382,  0.01194466, -0.38253738,  0.28634779, -0.25372603,\n",
      "       -0.22640951, -0.45236846]))\n",
      "('Coefficient of determination (R-squared):', 0.46119918705567187)\n",
      "{'normalize': False, 'fit_intercept': True, 'max_iter': None, 'random_state': 1, 'tol': 0.001, 'copy_X': True, 'alpha': 0.1, 'solver': 'cholesky'}\n",
      "('Root mean-squared error:', 0.4146871354707673, '\\n--------------------------------------------------------\\n')\n",
      "('\\nRegression evaluation for:', 'Lasso')\n",
      "('  Scikit Learn method:', Lasso(alpha=0.1, copy_X=True, fit_intercept=True, max_iter=1000,\n",
      "   normalize=False, positive=False, precompute=False, random_state=1,\n",
      "   selection='cyclic', tol=0.0001, warm_start=False))\n",
      "('Fitted regression intercept:', 0.012169358372800913)\n",
      "('Fitted regression coefficients:', array([-0.00318179,  0.        , -0.        ,  0.01500803, -0.        ,\n",
      "        0.27433424, -0.        , -0.        , -0.        , -0.00197933,\n",
      "       -0.15832363, -0.42458332]))\n",
      "('Coefficient of determination (R-squared):', 0.6518039637898639)\n",
      "{'normalize': False, 'warm_start': False, 'selection': 'cyclic', 'fit_intercept': True, 'positive': False, 'max_iter': 1000, 'precompute': False, 'random_state': 1, 'tol': 0.0001, 'copy_X': True, 'alpha': 0.1}\n",
      "('Root mean-squared error:', 0.33336373482019344, '\\n--------------------------------------------------------\\n')\n",
      "('\\nRegression evaluation for:', 'Elastic Net')\n",
      "('  Scikit Learn method:', ElasticNet(alpha=0.1, copy_X=True, fit_intercept=True, l1_ratio=0.5,\n",
      "      max_iter=1000, normalize=False, positive=False, precompute=False,\n",
      "      random_state=1, selection='cyclic', tol=0.0001, warm_start=False))\n",
      "('Fitted regression intercept:', 0.01391292824255043)\n",
      "('Fitted regression coefficients:', array([-0.03356441,  0.        , -0.        ,  0.05122196, -0.05934502,\n",
      "        0.29267814, -0.        , -0.06030619, -0.        , -0.01668568,\n",
      "       -0.17950774, -0.40471715]))\n",
      "('Coefficient of determination (R-squared):', 0.6448649964258961)\n",
      "{'normalize': False, 'warm_start': False, 'selection': 'cyclic', 'fit_intercept': True, 'l1_ratio': 0.5, 'max_iter': 1000, 'precompute': False, 'random_state': 1, 'tol': 0.0001, 'positive': False, 'copy_X': True, 'alpha': 0.1}\n",
      "('Root mean-squared error:', 0.3366690408865968, '\\n--------------------------------------------------------\\n')\n",
      "('\\nRegression evaluation for:', 'Ridge_1')\n",
      "('  Scikit Learn method:', Ridge(alpha=1, copy_X=True, fit_intercept=True, max_iter=None,\n",
      "   normalize=False, random_state=1, solver='cholesky', tol=0.001))\n",
      "('Fitted regression intercept:', 0.014751354592897004)\n",
      "('Fitted regression coefficients:', array([-0.11317943,  0.13511991,  0.02711749,  0.07418146, -0.27292412,\n",
      "        0.25150078,  0.01108269, -0.37936019,  0.27840173, -0.24608201,\n",
      "       -0.22547763, -0.45067644]))\n",
      "('Coefficient of determination (R-squared):', 0.4657922171227462)\n",
      "{'normalize': False, 'fit_intercept': True, 'max_iter': None, 'random_state': 1, 'tol': 0.001, 'copy_X': True, 'alpha': 1, 'solver': 'cholesky'}\n",
      "('Root mean-squared error:', 0.41291584361267447, '\\n--------------------------------------------------------\\n')\n",
      "('\\nRegression evaluation for:', 'Lasso_1')\n",
      "('  Scikit Learn method:', Lasso(alpha=1, copy_X=True, fit_intercept=True, max_iter=1000,\n",
      "   normalize=False, positive=False, precompute=False, random_state=1,\n",
      "   selection='cyclic', tol=0.0001, warm_start=False))\n",
      "('Fitted regression intercept:', -0.021833662326244507)\n",
      "('Fitted regression coefficients:', array([-0.,  0., -0.,  0., -0.,  0., -0.,  0., -0., -0., -0., -0.]))\n",
      "('Coefficient of determination (R-squared):', -0.14702831392703253)\n",
      "{'normalize': False, 'warm_start': False, 'selection': 'cyclic', 'fit_intercept': True, 'positive': False, 'max_iter': 1000, 'precompute': False, 'random_state': 1, 'tol': 0.0001, 'copy_X': True, 'alpha': 1}\n",
      "('Root mean-squared error:', 0.6050531284673559, '\\n--------------------------------------------------------\\n')\n",
      "('\\nRegression evaluation for:', 'Elastic Net_1')\n",
      "('  Scikit Learn method:', ElasticNet(alpha=1, copy_X=True, fit_intercept=True, l1_ratio=0.5,\n",
      "      max_iter=1000, normalize=False, positive=False, precompute=False,\n",
      "      random_state=1, selection='cyclic', tol=0.0001, warm_start=False))\n",
      "('Fitted regression intercept:', -0.009603150522823097)\n",
      "('Fitted regression coefficients:', array([-0.        ,  0.        , -0.        ,  0.        , -0.        ,\n",
      "        0.08315111, -0.        ,  0.        , -0.        , -0.        ,\n",
      "       -0.        , -0.15373697]))\n",
      "('Coefficient of determination (R-squared):', 0.2719402296525809)\n",
      "{'normalize': False, 'warm_start': False, 'selection': 'cyclic', 'fit_intercept': True, 'l1_ratio': 0.5, 'max_iter': 1000, 'precompute': False, 'random_state': 1, 'tol': 0.0001, 'positive': False, 'copy_X': True, 'alpha': 1}\n",
      "('Root mean-squared error:', 0.4820476375635525, '\\n--------------------------------------------------------\\n')\n",
      "('\\nRegression evaluation for:', 'Ridge_.5')\n",
      "('  Scikit Learn method:', Ridge(alpha=0.5, copy_X=True, fit_intercept=True, max_iter=None,\n",
      "   normalize=False, random_state=1, solver='cholesky', tol=0.001))\n",
      "('Fitted regression intercept:', 0.01475515300642366)\n",
      "('Fitted regression coefficients:', array([-0.11366814,  0.13622301,  0.02873412,  0.07395919, -0.27476525,\n",
      "        0.2507932 ,  0.01155604, -0.38112063,  0.2827587 , -0.25026621,\n",
      "       -0.22599178, -0.45161188]))\n",
      "('Coefficient of determination (R-squared):', 0.46326630524123324)\n",
      "{'normalize': False, 'fit_intercept': True, 'max_iter': None, 'random_state': 1, 'tol': 0.001, 'copy_X': True, 'alpha': 0.5, 'solver': 'cholesky'}\n",
      "('Root mean-squared error:', 0.41389089402878737, '\\n--------------------------------------------------------\\n')\n",
      "('\\nRegression evaluation for:', 'Lasso_.5')\n",
      "('  Scikit Learn method:', Lasso(alpha=0.5, copy_X=True, fit_intercept=True, max_iter=1000,\n",
      "   normalize=False, positive=False, precompute=False, random_state=1,\n",
      "   selection='cyclic', tol=0.0001, warm_start=False))\n",
      "('Fitted regression intercept:', -0.004310975211949064)\n",
      "('Fitted regression coefficients:', array([-0.        ,  0.        , -0.        ,  0.        , -0.        ,\n",
      "        0.07378156, -0.        ,  0.        , -0.        , -0.        ,\n",
      "       -0.        , -0.23284643]))\n",
      "('Coefficient of determination (R-squared):', 0.33106694669567094)\n",
      "{'normalize': False, 'warm_start': False, 'selection': 'cyclic', 'fit_intercept': True, 'positive': False, 'max_iter': 1000, 'precompute': False, 'random_state': 1, 'tol': 0.0001, 'copy_X': True, 'alpha': 0.5}\n",
      "('Root mean-squared error:', 0.4620593571326438, '\\n--------------------------------------------------------\\n')\n",
      "('\\nRegression evaluation for:', 'Elastic Net_.5')\n",
      "('  Scikit Learn method:', ElasticNet(alpha=0.5, copy_X=True, fit_intercept=True, l1_ratio=0.5,\n",
      "      max_iter=1000, normalize=False, positive=False, precompute=False,\n",
      "      random_state=1, selection='cyclic', tol=0.0001, warm_start=False))\n",
      "('Fitted regression intercept:', 0.00197834163508874)\n",
      "('Fitted regression coefficients:', array([-0.        ,  0.        , -0.        ,  0.        , -0.        ,\n",
      "        0.19723459, -0.        ,  0.        , -0.        , -0.        ,\n",
      "       -0.08186108, -0.29295439]))\n",
      "('Coefficient of determination (R-squared):', 0.5753587069411863)\n",
      "{'normalize': False, 'warm_start': False, 'selection': 'cyclic', 'fit_intercept': True, 'l1_ratio': 0.5, 'max_iter': 1000, 'precompute': False, 'random_state': 1, 'tol': 0.0001, 'positive': False, 'copy_X': True, 'alpha': 0.5}\n",
      "('Root mean-squared error:', 0.36814385308777275, '\\n--------------------------------------------------------\\n')\n",
      "('\\nFold index:', 2, '------------------------------------------')\n",
      "('\\nShape of input data for this fold:', '\\nData Set: (Observations, Variables)')\n",
      "('X_train:', (455, 12))\n",
      "('X_test:', (51, 12))\n",
      "('y_train:', (455,))\n",
      "('y_test:', (51,))\n",
      "('\\nRegression evaluation for:', 'Linear')\n",
      "('  Scikit Learn method:', LinearRegression(copy_X=True, fit_intercept=True, n_jobs=1, normalize=False))\n",
      "('Fitted regression intercept:', -0.014115159953405683)\n",
      "('Fitted regression coefficients:', array([-0.10664359,  0.09981359, -0.04577693,  0.08952529, -0.30048571,\n",
      "        0.26775898,  0.03889984, -0.36068269,  0.28974294, -0.17429598,\n",
      "       -0.21660497, -0.48234705]))\n",
      "('Coefficient of determination (R-squared):', -1.3111751376507326)\n",
      "{'copy_X': True, 'normalize': False, 'n_jobs': 1, 'fit_intercept': True}\n",
      "('Root mean-squared error:', 0.43893840025417136, '\\n--------------------------------------------------------\\n')\n",
      "('\\nRegression evaluation for:', 'Ridge')\n",
      "('  Scikit Learn method:', Ridge(alpha=0.1, copy_X=True, fit_intercept=True, max_iter=None,\n",
      "   normalize=False, random_state=1, solver='cholesky', tol=0.001))\n",
      "('Fitted regression intercept:', -0.01408163514913078)\n",
      "('Fitted regression coefficients:', array([-0.10655908,  0.09964912, -0.04608786,  0.08956406, -0.29994073,\n",
      "        0.26788483,  0.03874911, -0.36034539,  0.28880372, -0.17349907,\n",
      "       -0.21650943, -0.48212542]))\n",
      "('Coefficient of determination (R-squared):', -1.3080667394632024)\n",
      "{'normalize': False, 'fit_intercept': True, 'max_iter': None, 'random_state': 1, 'tol': 0.001, 'copy_X': True, 'alpha': 0.1, 'solver': 'cholesky'}\n",
      "('Root mean-squared error:', 0.43864312743544226, '\\n--------------------------------------------------------\\n')\n",
      "('\\nRegression evaluation for:', 'Lasso')\n",
      "('  Scikit Learn method:', Lasso(alpha=0.1, copy_X=True, fit_intercept=True, max_iter=1000,\n",
      "   normalize=False, positive=False, precompute=False, random_state=1,\n",
      "   selection='cyclic', tol=0.0001, warm_start=False))\n",
      "('Fitted regression intercept:', 0.0009641267873747722)\n",
      "('Fitted regression coefficients:', array([-0.        ,  0.        , -0.        ,  0.02278729, -0.        ,\n",
      "        0.29456128, -0.        , -0.        , -0.        , -0.        ,\n",
      "       -0.15467748, -0.42675482]))\n",
      "('Coefficient of determination (R-squared):', -0.16490510591364305)\n",
      "{'normalize': False, 'warm_start': False, 'selection': 'cyclic', 'fit_intercept': True, 'positive': False, 'max_iter': 1000, 'precompute': False, 'random_state': 1, 'tol': 0.0001, 'copy_X': True, 'alpha': 0.1}\n",
      "('Root mean-squared error:', 0.3116250939373122, '\\n--------------------------------------------------------\\n')\n",
      "('\\nRegression evaluation for:', 'Elastic Net')\n",
      "('  Scikit Learn method:', ElasticNet(alpha=0.1, copy_X=True, fit_intercept=True, l1_ratio=0.5,\n",
      "      max_iter=1000, normalize=False, positive=False, precompute=False,\n",
      "      random_state=1, selection='cyclic', tol=0.0001, warm_start=False))\n",
      "('Fitted regression intercept:', 0.0032923446787445423)\n",
      "('Fitted regression coefficients:', array([-0.03288234,  0.        , -0.00257575,  0.05825471, -0.02683431,\n",
      "        0.30768339, -0.        , -0.05211693, -0.        , -0.00764777,\n",
      "       -0.17873546, -0.42156355]))\n",
      "('Coefficient of determination (R-squared):', -0.24253299220110724)\n",
      "{'normalize': False, 'warm_start': False, 'selection': 'cyclic', 'fit_intercept': True, 'l1_ratio': 0.5, 'max_iter': 1000, 'precompute': False, 'random_state': 1, 'tol': 0.0001, 'positive': False, 'copy_X': True, 'alpha': 0.1}\n",
      "('Root mean-squared error:', 0.3218408099850703, '\\n--------------------------------------------------------\\n')\n",
      "('\\nRegression evaluation for:', 'Ridge_1')\n",
      "('  Scikit Learn method:', Ridge(alpha=1, copy_X=True, fit_intercept=True, max_iter=None,\n",
      "   normalize=False, random_state=1, solver='cholesky', tol=0.001))\n",
      "('Fitted regression intercept:', -0.013781711052232158)\n",
      "('Fitted regression coefficients:', array([-0.10581817,  0.09822078, -0.04871776,  0.08989336, -0.29512719,\n",
      "        0.26899275,  0.03742014, -0.3573327 ,  0.28065328, -0.16667666,\n",
      "       -0.21566555, -0.48014693]))\n",
      "('Coefficient of determination (R-squared):', -1.2803147541225908)\n",
      "{'normalize': False, 'fit_intercept': True, 'max_iter': None, 'random_state': 1, 'tol': 0.001, 'copy_X': True, 'alpha': 1, 'solver': 'cholesky'}\n",
      "('Root mean-squared error:', 0.4359980497370208, '\\n--------------------------------------------------------\\n')\n",
      "('\\nRegression evaluation for:', 'Lasso_1')\n",
      "('  Scikit Learn method:', Lasso(alpha=1, copy_X=True, fit_intercept=True, max_iter=1000,\n",
      "   normalize=False, positive=False, precompute=False, random_state=1,\n",
      "   selection='cyclic', tol=0.0001, warm_start=False))\n",
      "('Fitted regression intercept:', 0.0543087195558195)\n",
      "('Fitted regression coefficients:', array([-0.,  0., -0.,  0., -0.,  0., -0.,  0., -0., -0., -0., -0.]))\n",
      "('Coefficient of determination (R-squared):', -3.4827757545779523)\n",
      "{'normalize': False, 'warm_start': False, 'selection': 'cyclic', 'fit_intercept': True, 'positive': False, 'max_iter': 1000, 'precompute': False, 'random_state': 1, 'tol': 0.0001, 'copy_X': True, 'alpha': 1}\n",
      "('Root mean-squared error:', 0.611308810606007, '\\n--------------------------------------------------------\\n')\n",
      "('\\nRegression evaluation for:', 'Elastic Net_1')\n",
      "('  Scikit Learn method:', ElasticNet(alpha=1, copy_X=True, fit_intercept=True, l1_ratio=0.5,\n",
      "      max_iter=1000, normalize=False, positive=False, precompute=False,\n",
      "      random_state=1, selection='cyclic', tol=0.0001, warm_start=False))\n",
      "('Fitted regression intercept:', 0.03807432759156277)\n",
      "('Fitted regression coefficients:', array([-0.        ,  0.        , -0.        ,  0.        , -0.        ,\n",
      "        0.09560056, -0.        ,  0.        , -0.        , -0.        ,\n",
      "       -0.        , -0.13934052]))\n",
      "('Coefficient of determination (R-squared):', -1.1988386618583822)\n",
      "{'normalize': False, 'warm_start': False, 'selection': 'cyclic', 'fit_intercept': True, 'l1_ratio': 0.5, 'max_iter': 1000, 'precompute': False, 'random_state': 1, 'tol': 0.0001, 'positive': False, 'copy_X': True, 'alpha': 1}\n",
      "('Root mean-squared error:', 0.4281380535172831, '\\n--------------------------------------------------------\\n')\n",
      "('\\nRegression evaluation for:', 'Ridge_.5')\n",
      "('  Scikit Learn method:', Ridge(alpha=0.5, copy_X=True, fit_intercept=True, max_iter=None,\n",
      "   normalize=False, random_state=1, solver='cholesky', tol=0.001))\n",
      "('Fitted regression intercept:', -0.01394792726926112)\n",
      "('Fitted regression coefficients:', array([-0.10622549,  0.09900301, -0.04729322,  0.08971468, -0.29778132,\n",
      "        0.26838267,  0.03815239, -0.35900126,  0.28511547, -0.17039098,\n",
      "       -0.21613088, -0.48124251]))\n",
      "('Coefficient of determination (R-squared):', -1.295682264685306)\n",
      "{'normalize': False, 'fit_intercept': True, 'max_iter': None, 'random_state': 1, 'tol': 0.001, 'copy_X': True, 'alpha': 0.5, 'solver': 'cholesky'}\n",
      "('Root mean-squared error:', 0.43746472313952395, '\\n--------------------------------------------------------\\n')\n",
      "('\\nRegression evaluation for:', 'Lasso_.5')\n",
      "('  Scikit Learn method:', Lasso(alpha=0.5, copy_X=True, fit_intercept=True, max_iter=1000,\n",
      "   normalize=False, positive=False, precompute=False, random_state=1,\n",
      "   selection='cyclic', tol=0.0001, warm_start=False))\n",
      "('Fitted regression intercept:', 0.03259550985778437)\n",
      "('Fitted regression coefficients:', array([-0.        ,  0.        , -0.        ,  0.        , -0.        ,\n",
      "        0.10304925, -0.        ,  0.        , -0.        , -0.        ,\n",
      "       -0.        , -0.20589639]))\n",
      "('Coefficient of determination (R-squared):', -0.7004076746503518)\n",
      "{'normalize': False, 'warm_start': False, 'selection': 'cyclic', 'fit_intercept': True, 'positive': False, 'max_iter': 1000, 'precompute': False, 'random_state': 1, 'tol': 0.0001, 'copy_X': True, 'alpha': 0.5}\n",
      "('Root mean-squared error:', 0.37649886927358445, '\\n--------------------------------------------------------\\n')\n",
      "('\\nRegression evaluation for:', 'Elastic Net_.5')\n",
      "('  Scikit Learn method:', ElasticNet(alpha=0.5, copy_X=True, fit_intercept=True, l1_ratio=0.5,\n",
      "      max_iter=1000, normalize=False, positive=False, precompute=False,\n",
      "      random_state=1, selection='cyclic', tol=0.0001, warm_start=False))\n",
      "('Fitted regression intercept:', 0.018354990162820557)\n",
      "('Fitted regression coefficients:', array([-0.        ,  0.        , -0.        ,  0.        , -0.        ,\n",
      "        0.21392501, -0.        ,  0.        , -0.        , -0.        ,\n",
      "       -0.0796012 , -0.28497561]))\n",
      "('Coefficient of determination (R-squared):', 0.03847621196073381)\n",
      "{'normalize': False, 'warm_start': False, 'selection': 'cyclic', 'fit_intercept': True, 'l1_ratio': 0.5, 'max_iter': 1000, 'precompute': False, 'random_state': 1, 'tol': 0.0001, 'positive': False, 'copy_X': True, 'alpha': 0.5}\n",
      "('Root mean-squared error:', 0.28311779326404835, '\\n--------------------------------------------------------\\n')\n",
      "('\\nFold index:', 3, '------------------------------------------')\n",
      "('\\nShape of input data for this fold:', '\\nData Set: (Observations, Variables)')\n",
      "('X_train:', (455, 12))\n",
      "('X_test:', (51, 12))\n",
      "('y_train:', (455,))\n",
      "('y_test:', (51,))\n",
      "('\\nRegression evaluation for:', 'Linear')\n",
      "('  Scikit Learn method:', LinearRegression(copy_X=True, fit_intercept=True, n_jobs=1, normalize=False))\n",
      "('Fitted regression intercept:', -0.014029096554712711)\n",
      "('Fitted regression coefficients:', array([-1.17048631e-01,  1.10845040e-01, -9.94849841e-05,  8.70481938e-02,\n",
      "       -2.05847811e-01,  2.18508749e-01,  6.98625993e-03, -3.20588884e-01,\n",
      "        2.72874916e-01, -2.31392387e-01, -2.23423701e-01, -4.38715772e-01]))\n",
      "('Coefficient of determination (R-squared):', 0.6328856607774359)\n",
      "{'copy_X': True, 'normalize': False, 'n_jobs': 1, 'fit_intercept': True}\n",
      "('Root mean-squared error:', 0.6522437994589778, '\\n--------------------------------------------------------\\n')\n",
      "('\\nRegression evaluation for:', 'Ridge')\n",
      "('  Scikit Learn method:', Ridge(alpha=0.1, copy_X=True, fit_intercept=True, max_iter=None,\n",
      "   normalize=False, random_state=1, solver='cholesky', tol=0.001))\n",
      "('Fitted regression intercept:', -0.014041104336421861)\n",
      "('Fitted regression coefficients:', array([-1.16955247e-01,  1.10683607e-01, -3.54195035e-04,  8.71008102e-02,\n",
      "       -2.05495630e-01,  2.18651104e-01,  6.86045192e-03, -3.20268129e-01,\n",
      "        2.72050478e-01, -2.30620550e-01, -2.23312807e-01, -4.38515344e-01]))\n",
      "('Coefficient of determination (R-squared):', 0.6327789760933284)\n",
      "{'normalize': False, 'fit_intercept': True, 'max_iter': None, 'random_state': 1, 'tol': 0.001, 'copy_X': True, 'alpha': 0.1, 'solver': 'cholesky'}\n",
      "('Root mean-squared error:', 0.652338564715519, '\\n--------------------------------------------------------\\n')\n",
      "('\\nRegression evaluation for:', 'Lasso')\n",
      "('  Scikit Learn method:', Lasso(alpha=0.1, copy_X=True, fit_intercept=True, max_iter=1000,\n",
      "   normalize=False, positive=False, precompute=False, random_state=1,\n",
      "   selection='cyclic', tol=0.0001, warm_start=False))\n",
      "('Fitted regression intercept:', -0.03709893641901746)\n",
      "('Fitted regression coefficients:', array([-0.00964862,  0.        , -0.        ,  0.02585728, -0.        ,\n",
      "        0.22839398, -0.        , -0.        , -0.        , -0.        ,\n",
      "       -0.1402921 , -0.40139417]))\n",
      "('Coefficient of determination (R-squared):', 0.42404149915529066)\n",
      "{'normalize': False, 'warm_start': False, 'selection': 'cyclic', 'fit_intercept': True, 'positive': False, 'max_iter': 1000, 'precompute': False, 'random_state': 1, 'tol': 0.0001, 'copy_X': True, 'alpha': 0.1}\n",
      "('Root mean-squared error:', 0.8169676906814437, '\\n--------------------------------------------------------\\n')\n",
      "('\\nRegression evaluation for:', 'Elastic Net')\n",
      "('  Scikit Learn method:', ElasticNet(alpha=0.1, copy_X=True, fit_intercept=True, l1_ratio=0.5,\n",
      "      max_iter=1000, normalize=False, positive=False, precompute=False,\n",
      "      random_state=1, selection='cyclic', tol=0.0001, warm_start=False))\n",
      "('Fitted regression intercept:', -0.030072472152790075)\n",
      "('Fitted regression coefficients:', array([-0.03947732,  0.        , -0.        ,  0.06684805, -0.        ,\n",
      "        0.25394568, -0.        , -0.0117421 , -0.        , -0.01728697,\n",
      "       -0.16490938, -0.39008561]))\n",
      "('Coefficient of determination (R-squared):', 0.47702289551265287)\n",
      "{'normalize': False, 'warm_start': False, 'selection': 'cyclic', 'fit_intercept': True, 'l1_ratio': 0.5, 'max_iter': 1000, 'precompute': False, 'random_state': 1, 'tol': 0.0001, 'positive': False, 'copy_X': True, 'alpha': 0.1}\n",
      "('Root mean-squared error:', 0.7784856710254168, '\\n--------------------------------------------------------\\n')\n",
      "('\\nRegression evaluation for:', 'Ridge_1')\n",
      "('  Scikit Learn method:', Ridge(alpha=1, copy_X=True, fit_intercept=True, max_iter=None,\n",
      "   normalize=False, random_state=1, solver='cholesky', tol=0.001))\n",
      "('Fitted regression intercept:', -0.014152079867047751)\n",
      "('Fitted regression coefficients:', array([-0.11613518,  0.10926171, -0.00256742,  0.08755842, -0.20238141,\n",
      "        0.21990163,  0.00575559, -0.3174095 ,  0.26486028, -0.22391965,\n",
      "       -0.22232547, -0.43672992]))\n",
      "('Coefficient of determination (R-squared):', 0.6318124406179928)\n",
      "{'normalize': False, 'fit_intercept': True, 'max_iter': None, 'random_state': 1, 'tol': 0.001, 'copy_X': True, 'alpha': 1, 'solver': 'cholesky'}\n",
      "('Root mean-squared error:', 0.6531964867707818, '\\n--------------------------------------------------------\\n')\n",
      "('\\nRegression evaluation for:', 'Lasso_1')\n",
      "('  Scikit Learn method:', Lasso(alpha=1, copy_X=True, fit_intercept=True, max_iter=1000,\n",
      "   normalize=False, positive=False, precompute=False, random_state=1,\n",
      "   selection='cyclic', tol=0.0001, warm_start=False))\n",
      "('Fitted regression intercept:', -0.1053794413138962)\n",
      "('Fitted regression coefficients:', array([-0.,  0., -0.,  0., -0.,  0., -0.,  0., -0., -0., -0., -0.]))\n",
      "('Coefficient of determination (R-squared):', -0.9433088190633736)\n",
      "{'normalize': False, 'warm_start': False, 'selection': 'cyclic', 'fit_intercept': True, 'positive': False, 'max_iter': 1000, 'precompute': False, 'random_state': 1, 'tol': 0.0001, 'copy_X': True, 'alpha': 1}\n",
      "('Root mean-squared error:', 1.5006527068352904, '\\n--------------------------------------------------------\\n')\n",
      "('\\nRegression evaluation for:', 'Elastic Net_1')\n",
      "('  Scikit Learn method:', ElasticNet(alpha=1, copy_X=True, fit_intercept=True, l1_ratio=0.5,\n",
      "      max_iter=1000, normalize=False, positive=False, precompute=False,\n",
      "      random_state=1, selection='cyclic', tol=0.0001, warm_start=False))\n",
      "('Fitted regression intercept:', -0.0949950454027201)\n",
      "('Fitted regression coefficients:', array([-0.        ,  0.        , -0.        ,  0.        , -0.        ,\n",
      "        0.01949199, -0.        ,  0.        , -0.        , -0.        ,\n",
      "       -0.        , -0.11611861]))\n",
      "('Coefficient of determination (R-squared):', -0.6416324068677006)\n",
      "{'normalize': False, 'warm_start': False, 'selection': 'cyclic', 'fit_intercept': True, 'l1_ratio': 0.5, 'max_iter': 1000, 'precompute': False, 'random_state': 1, 'tol': 0.0001, 'positive': False, 'copy_X': True, 'alpha': 1}\n",
      "('Root mean-squared error:', 1.3792635002501465, '\\n--------------------------------------------------------\\n')\n",
      "('\\nRegression evaluation for:', 'Ridge_.5')\n",
      "('  Scikit Learn method:', Ridge(alpha=0.5, copy_X=True, fit_intercept=True, max_iter=None,\n",
      "   normalize=False, random_state=1, solver='cholesky', tol=0.001))\n",
      "('Fitted regression intercept:', -0.01408979745572464)\n",
      "('Fitted regression coefficients:', array([-0.11658631,  0.11004485, -0.00135514,  0.08730768, -0.20409933,\n",
      "        0.21921363,  0.00636339, -0.31899139,  0.26880462, -0.22758873,\n",
      "       -0.22287162, -0.43771777]))\n",
      "('Coefficient of determination (R-squared):', 0.6323507746724644)\n",
      "{'normalize': False, 'fit_intercept': True, 'max_iter': None, 'random_state': 1, 'tol': 0.001, 'copy_X': True, 'alpha': 0.5, 'solver': 'cholesky'}\n",
      "('Root mean-squared error:', 0.6527187865711097, '\\n--------------------------------------------------------\\n')\n",
      "('\\nRegression evaluation for:', 'Lasso_.5')\n",
      "('  Scikit Learn method:', Lasso(alpha=0.5, copy_X=True, fit_intercept=True, max_iter=1000,\n",
      "   normalize=False, positive=False, precompute=False, random_state=1,\n",
      "   selection='cyclic', tol=0.0001, warm_start=False))\n",
      "('Fitted regression intercept:', -0.09084632204318716)\n",
      "('Fitted regression coefficients:', array([-0.        ,  0.        , -0.        ,  0.        , -0.        ,\n",
      "        0.        , -0.        ,  0.        , -0.        , -0.        ,\n",
      "       -0.        , -0.18449267]))\n",
      "('Coefficient of determination (R-squared):', -0.5561365732128014)\n",
      "{'normalize': False, 'warm_start': False, 'selection': 'cyclic', 'fit_intercept': True, 'positive': False, 'max_iter': 1000, 'precompute': False, 'random_state': 1, 'tol': 0.0001, 'copy_X': True, 'alpha': 0.5}\n",
      "('Root mean-squared error:', 1.342867428571182, '\\n--------------------------------------------------------\\n')\n",
      "('\\nRegression evaluation for:', 'Elastic Net_.5')\n",
      "('  Scikit Learn method:', ElasticNet(alpha=0.5, copy_X=True, fit_intercept=True, l1_ratio=0.5,\n",
      "      max_iter=1000, normalize=False, positive=False, precompute=False,\n",
      "      random_state=1, selection='cyclic', tol=0.0001, warm_start=False))\n",
      "('Fitted regression intercept:', -0.06982939375989407)\n",
      "('Fitted regression coefficients:', array([-0.00000000e+00,  0.00000000e+00, -0.00000000e+00,  0.00000000e+00,\n",
      "       -0.00000000e+00,  1.49576261e-01, -0.00000000e+00,  0.00000000e+00,\n",
      "       -0.00000000e+00, -2.05264807e-04, -3.13841002e-02, -2.69650613e-01]))\n",
      "('Coefficient of determination (R-squared):', -0.0067421297499064)\n",
      "{'normalize': False, 'warm_start': False, 'selection': 'cyclic', 'fit_intercept': True, 'l1_ratio': 0.5, 'max_iter': 1000, 'precompute': False, 'random_state': 1, 'tol': 0.0001, 'positive': False, 'copy_X': True, 'alpha': 0.5}\n",
      "('Root mean-squared error:', 1.0801110440742434, '\\n--------------------------------------------------------\\n')\n",
      "('\\nFold index:', 4, '------------------------------------------')\n",
      "('\\nShape of input data for this fold:', '\\nData Set: (Observations, Variables)')\n",
      "('X_train:', (455, 12))\n",
      "('X_test:', (51, 12))\n",
      "('y_train:', (455,))\n",
      "('y_test:', (51,))\n",
      "('\\nRegression evaluation for:', 'Linear')\n",
      "('  Scikit Learn method:', LinearRegression(copy_X=True, fit_intercept=True, n_jobs=1, normalize=False))\n",
      "('Fitted regression intercept:', -0.01198015202771395)\n",
      "('Fitted regression coefficients:', array([-0.11069087,  0.14778838, -0.00567027,  0.12747855, -0.26847738,\n",
      "        0.20531112,  0.07188764, -0.36455138,  0.27483498, -0.22422375,\n",
      "       -0.23075897, -0.47264525]))\n",
      "('Coefficient of determination (R-squared):', 0.5342286831540063)\n",
      "{'copy_X': True, 'normalize': False, 'n_jobs': 1, 'fit_intercept': True}\n",
      "('Root mean-squared error:', 0.6217833818375661, '\\n--------------------------------------------------------\\n')\n",
      "('\\nRegression evaluation for:', 'Ridge')\n",
      "('  Scikit Learn method:', Ridge(alpha=0.1, copy_X=True, fit_intercept=True, max_iter=None,\n",
      "   normalize=False, random_state=1, solver='cholesky', tol=0.001))\n",
      "('Fitted regression intercept:', -0.011992508698576848)\n",
      "('Fitted regression coefficients:', array([-0.11059336,  0.147585  , -0.0059081 ,  0.12747874, -0.26807546,\n",
      "        0.2054755 ,  0.07171935, -0.36418315,  0.27401372, -0.22347733,\n",
      "       -0.23064425, -0.47243366]))\n",
      "('Coefficient of determination (R-squared):', 0.5344400553963569)\n",
      "{'normalize': False, 'fit_intercept': True, 'max_iter': None, 'random_state': 1, 'tol': 0.001, 'copy_X': True, 'alpha': 0.1, 'solver': 'cholesky'}\n",
      "('Root mean-squared error:', 0.6216422796945704, '\\n--------------------------------------------------------\\n')\n",
      "('\\nRegression evaluation for:', 'Lasso')\n",
      "('  Scikit Learn method:', Lasso(alpha=0.1, copy_X=True, fit_intercept=True, max_iter=1000,\n",
      "   normalize=False, positive=False, precompute=False, random_state=1,\n",
      "   selection='cyclic', tol=0.0001, warm_start=False))\n",
      "('Fitted regression intercept:', -0.028543528549909693)\n",
      "('Fitted regression coefficients:', array([-0.        ,  0.        , -0.        ,  0.0041093 , -0.        ,\n",
      "        0.23564063, -0.        , -0.        , -0.        , -0.        ,\n",
      "       -0.15751715, -0.43898485]))\n",
      "('Coefficient of determination (R-squared):', 0.5371779709581713)\n",
      "{'normalize': False, 'warm_start': False, 'selection': 'cyclic', 'fit_intercept': True, 'positive': False, 'max_iter': 1000, 'precompute': False, 'random_state': 1, 'tol': 0.0001, 'copy_X': True, 'alpha': 0.1}\n",
      "('Root mean-squared error:', 0.6198116735513286, '\\n--------------------------------------------------------\\n')\n",
      "('\\nRegression evaluation for:', 'Elastic Net')\n",
      "('  Scikit Learn method:', ElasticNet(alpha=0.1, copy_X=True, fit_intercept=True, l1_ratio=0.5,\n",
      "      max_iter=1000, normalize=False, positive=False, precompute=False,\n",
      "      random_state=1, selection='cyclic', tol=0.0001, warm_start=False))\n",
      "('Fitted regression intercept:', -0.020663019322496486)\n",
      "('Fitted regression coefficients:', array([-0.02925657,  0.        , -0.        ,  0.06456662, -0.02821704,\n",
      "        0.25845878, -0.        , -0.03409065, -0.        , -0.00287512,\n",
      "       -0.18173493, -0.42297095]))\n",
      "('Coefficient of determination (R-squared):', 0.5933318631533959)\n",
      "{'normalize': False, 'warm_start': False, 'selection': 'cyclic', 'fit_intercept': True, 'l1_ratio': 0.5, 'max_iter': 1000, 'precompute': False, 'random_state': 1, 'tol': 0.0001, 'positive': False, 'copy_X': True, 'alpha': 0.1}\n",
      "('Root mean-squared error:', 0.5809955600133103, '\\n--------------------------------------------------------\\n')\n",
      "('\\nRegression evaluation for:', 'Ridge_1')\n",
      "('  Scikit Learn method:', Ridge(alpha=1, copy_X=True, fit_intercept=True, max_iter=None,\n",
      "   normalize=False, random_state=1, solver='cholesky', tol=0.001))\n",
      "('Fitted regression intercept:', -0.012099806291056378)\n",
      "('Fitted regression coefficients:', array([-0.10973669,  0.14579176, -0.00797213,  0.12747537, -0.26451966,\n",
      "        0.20692364,  0.07023293, -0.36090199,  0.26683916, -0.21698609,\n",
      "       -0.22963019, -0.47054643]))\n",
      "('Coefficient of determination (R-squared):', 0.5363005637661615)\n",
      "{'normalize': False, 'fit_intercept': True, 'max_iter': None, 'random_state': 1, 'tol': 0.001, 'copy_X': True, 'alpha': 1, 'solver': 'cholesky'}\n",
      "('Root mean-squared error:', 0.6203989076135003, '\\n--------------------------------------------------------\\n')\n",
      "('\\nRegression evaluation for:', 'Lasso_1')\n",
      "('  Scikit Learn method:', Lasso(alpha=1, copy_X=True, fit_intercept=True, max_iter=1000,\n",
      "   normalize=False, positive=False, precompute=False, random_state=1,\n",
      "   selection='cyclic', tol=0.0001, warm_start=False))\n",
      "('Fitted regression intercept:', -0.06481649212373437)\n",
      "('Fitted regression coefficients:', array([-0.,  0., -0.,  0., -0.,  0., -0.,  0., -0., -0., -0., -0.]))\n",
      "('Coefficient of determination (R-squared):', -0.4982258388001952)\n",
      "{'normalize': False, 'warm_start': False, 'selection': 'cyclic', 'fit_intercept': True, 'positive': False, 'max_iter': 1000, 'precompute': False, 'random_state': 1, 'tol': 0.0001, 'copy_X': True, 'alpha': 1}\n",
      "('Root mean-squared error:', 1.1151707812306104, '\\n--------------------------------------------------------\\n')\n",
      "('\\nRegression evaluation for:', 'Elastic Net_1')\n",
      "('  Scikit Learn method:', ElasticNet(alpha=1, copy_X=True, fit_intercept=True, l1_ratio=0.5,\n",
      "      max_iter=1000, normalize=False, positive=False, precompute=False,\n",
      "      random_state=1, selection='cyclic', tol=0.0001, warm_start=False))\n",
      "('Fitted regression intercept:', -0.05713901097672647)\n",
      "('Fitted regression coefficients:', array([-0.        ,  0.        , -0.        ,  0.        , -0.        ,\n",
      "        0.03003695, -0.        ,  0.        , -0.        , -0.        ,\n",
      "       -0.        , -0.14958768]))\n",
      "('Coefficient of determination (R-squared):', -0.17201186672292113)\n",
      "{'normalize': False, 'warm_start': False, 'selection': 'cyclic', 'fit_intercept': True, 'l1_ratio': 0.5, 'max_iter': 1000, 'precompute': False, 'random_state': 1, 'tol': 0.0001, 'positive': False, 'copy_X': True, 'alpha': 1}\n",
      "('Root mean-squared error:', 0.9863220562841557, '\\n--------------------------------------------------------\\n')\n",
      "('\\nRegression evaluation for:', 'Ridge_.5')\n",
      "('  Scikit Learn method:', Ridge(alpha=0.5, copy_X=True, fit_intercept=True, max_iter=None,\n",
      "   normalize=False, random_state=1, solver='cholesky', tol=0.001))\n",
      "('Fitted regression intercept:', -0.012041050802617359)\n",
      "('Fitted regression coefficients:', array([-0.11020803,  0.14677984, -0.00684214,  0.12747834, -0.26648157,\n",
      "        0.20612598,  0.07105253, -0.36271756,  0.2707776 , -0.22054281,\n",
      "       -0.23018953, -0.47159111]))\n",
      "('Coefficient of determination (R-squared):', 0.5352761507050988)\n",
      "{'normalize': False, 'fit_intercept': True, 'max_iter': None, 'random_state': 1, 'tol': 0.001, 'copy_X': True, 'alpha': 0.5, 'solver': 'cholesky'}\n",
      "('Root mean-squared error:', 0.6210838277011669, '\\n--------------------------------------------------------\\n')\n",
      "('\\nRegression evaluation for:', 'Lasso_.5')\n",
      "('  Scikit Learn method:', Lasso(alpha=0.5, copy_X=True, fit_intercept=True, max_iter=1000,\n",
      "   normalize=False, positive=False, precompute=False, random_state=1,\n",
      "   selection='cyclic', tol=0.0001, warm_start=False))\n",
      "('Fitted regression intercept:', -0.054977692121439256)\n",
      "('Fitted regression coefficients:', array([-0.        ,  0.        , -0.        ,  0.        , -0.        ,\n",
      "        0.        , -0.        ,  0.        , -0.        , -0.        ,\n",
      "       -0.        , -0.24027508]))\n",
      "('Coefficient of determination (R-squared):', -0.13188750675773253)\n",
      "{'normalize': False, 'warm_start': False, 'selection': 'cyclic', 'fit_intercept': True, 'positive': False, 'max_iter': 1000, 'precompute': False, 'random_state': 1, 'tol': 0.0001, 'copy_X': True, 'alpha': 0.5}\n",
      "('Root mean-squared error:', 0.969291431726888, '\\n--------------------------------------------------------\\n')\n",
      "('\\nRegression evaluation for:', 'Elastic Net_.5')\n",
      "('  Scikit Learn method:', ElasticNet(alpha=0.5, copy_X=True, fit_intercept=True, l1_ratio=0.5,\n",
      "      max_iter=1000, normalize=False, positive=False, precompute=False,\n",
      "      random_state=1, selection='cyclic', tol=0.0001, warm_start=False))\n",
      "('Fitted regression intercept:', -0.04189209871777952)\n",
      "('Fitted regression coefficients:', array([-0.        ,  0.        , -0.        ,  0.        , -0.        ,\n",
      "        0.15257711, -0.        ,  0.        , -0.        , -0.        ,\n",
      "       -0.07927509, -0.29621077]))\n",
      "('Coefficient of determination (R-squared):', 0.31414906200246207)\n",
      "{'normalize': False, 'warm_start': False, 'selection': 'cyclic', 'fit_intercept': True, 'l1_ratio': 0.5, 'max_iter': 1000, 'precompute': False, 'random_state': 1, 'tol': 0.0001, 'positive': False, 'copy_X': True, 'alpha': 0.5}\n",
      "('Root mean-squared error:', 0.7545145324131641, '\\n--------------------------------------------------------\\n')\n",
      "('\\nFold index:', 5, '------------------------------------------')\n",
      "('\\nShape of input data for this fold:', '\\nData Set: (Observations, Variables)')\n",
      "('X_train:', (455, 12))\n",
      "('X_test:', (51, 12))\n",
      "('y_train:', (455,))\n",
      "('y_test:', (51,))\n",
      "('\\nRegression evaluation for:', 'Linear')\n",
      "('  Scikit Learn method:', LinearRegression(copy_X=True, fit_intercept=True, n_jobs=1, normalize=False))\n",
      "('Fitted regression intercept:', 0.005659958784834648)\n",
      "('Fitted regression coefficients:', array([-0.11301994,  0.14827693,  0.03469998,  0.09019326, -0.26450287,\n",
      "        0.23164106,  0.00169384, -0.3482912 ,  0.27743749, -0.24049806,\n",
      "       -0.20137494, -0.44848414]))\n",
      "('Coefficient of determination (R-squared):', 0.7248910073380549)\n",
      "{'copy_X': True, 'normalize': False, 'n_jobs': 1, 'fit_intercept': True}\n",
      "('Root mean-squared error:', 0.4960115288286532, '\\n--------------------------------------------------------\\n')\n",
      "('\\nRegression evaluation for:', 'Ridge')\n",
      "('  Scikit Learn method:', Ridge(alpha=0.1, copy_X=True, fit_intercept=True, max_iter=None,\n",
      "   normalize=False, random_state=1, solver='cholesky', tol=0.001))\n",
      "('Fitted regression intercept:', 0.005610841382244713)\n",
      "('Fitted regression coefficients:', array([-0.11292071,  0.14799941,  0.03440766,  0.09022087, -0.26414849,\n",
      "        0.23176297,  0.00163305, -0.34787273,  0.27653379, -0.23960599,\n",
      "       -0.20127461, -0.4483052 ]))\n",
      "('Coefficient of determination (R-squared):', 0.7249241657418435)\n",
      "{'normalize': False, 'fit_intercept': True, 'max_iter': None, 'random_state': 1, 'tol': 0.001, 'copy_X': True, 'alpha': 0.1, 'solver': 'cholesky'}\n",
      "('Root mean-squared error:', 0.4959816362286187, '\\n--------------------------------------------------------\\n')\n",
      "('\\nRegression evaluation for:', 'Lasso')\n",
      "('  Scikit Learn method:', Lasso(alpha=0.1, copy_X=True, fit_intercept=True, max_iter=1000,\n",
      "   normalize=False, positive=False, precompute=False, random_state=1,\n",
      "   selection='cyclic', tol=0.0001, warm_start=False))\n",
      "('Fitted regression intercept:', -0.036063709189533)\n",
      "('Fitted regression coefficients:', array([-0.00902753,  0.        , -0.        ,  0.        , -0.        ,\n",
      "        0.21823025, -0.        , -0.        , -0.        , -0.        ,\n",
      "       -0.10639477, -0.43510706]))\n",
      "('Coefficient of determination (R-squared):', 0.4264826103422783)\n",
      "{'normalize': False, 'warm_start': False, 'selection': 'cyclic', 'fit_intercept': True, 'positive': False, 'max_iter': 1000, 'precompute': False, 'random_state': 1, 'tol': 0.0001, 'copy_X': True, 'alpha': 0.1}\n",
      "('Root mean-squared error:', 0.7161643079839484, '\\n--------------------------------------------------------\\n')\n",
      "('\\nRegression evaluation for:', 'Elastic Net')\n",
      "('  Scikit Learn method:', ElasticNet(alpha=0.1, copy_X=True, fit_intercept=True, l1_ratio=0.5,\n",
      "      max_iter=1000, normalize=False, positive=False, precompute=False,\n",
      "      random_state=1, selection='cyclic', tol=0.0001, warm_start=False))\n",
      "('Fitted regression intercept:', -0.025919029991335357)\n",
      "('Fitted regression coefficients:', array([-0.03823478,  0.        , -0.        ,  0.05041288, -0.04756436,\n",
      "        0.2505228 , -0.        , -0.01865662, -0.        , -0.        ,\n",
      "       -0.13966523, -0.40346415]))\n",
      "('Coefficient of determination (R-squared):', 0.5471910177699474)\n",
      "{'normalize': False, 'warm_start': False, 'selection': 'cyclic', 'fit_intercept': True, 'l1_ratio': 0.5, 'max_iter': 1000, 'precompute': False, 'random_state': 1, 'tol': 0.0001, 'positive': False, 'copy_X': True, 'alpha': 0.1}\n",
      "('Root mean-squared error:', 0.6363512392674311, '\\n--------------------------------------------------------\\n')\n",
      "('\\nRegression evaluation for:', 'Ridge_1')\n",
      "('  Scikit Learn method:', Ridge(alpha=1, copy_X=True, fit_intercept=True, max_iter=None,\n",
      "   normalize=False, random_state=1, solver='cholesky', tol=0.001))\n",
      "('Fitted regression intercept:', 0.005178655362715695)\n",
      "('Fitted regression coefficients:', array([-0.11205054,  0.14556189,  0.0318687 ,  0.09045763, -0.26101308,\n",
      "        0.23283245,  0.0010955 , -0.34415851,  0.26865616, -0.23185869,\n",
      "       -0.20038619, -0.4467101 ]))\n",
      "('Coefficient of determination (R-squared):', 0.7251740530340199)\n",
      "{'normalize': False, 'fit_intercept': True, 'max_iter': None, 'random_state': 1, 'tol': 0.001, 'copy_X': True, 'alpha': 1, 'solver': 'cholesky'}\n",
      "('Root mean-squared error:', 0.495756302606016, '\\n--------------------------------------------------------\\n')\n",
      "('\\nRegression evaluation for:', 'Lasso_1')\n",
      "('  Scikit Learn method:', Lasso(alpha=1, copy_X=True, fit_intercept=True, max_iter=1000,\n",
      "   normalize=False, positive=False, precompute=False, random_state=1,\n",
      "   selection='cyclic', tol=0.0001, warm_start=False))\n",
      "('Fitted regression intercept:', -0.10847017991137453)\n",
      "('Fitted regression coefficients:', array([-0.,  0., -0.,  0., -0.,  0., -0.,  0., -0., -0., -0., -0.]))\n",
      "('Coefficient of determination (R-squared):', -1.2950980434040176)\n",
      "{'normalize': False, 'warm_start': False, 'selection': 'cyclic', 'fit_intercept': True, 'positive': False, 'max_iter': 1000, 'precompute': False, 'random_state': 1, 'tol': 0.0001, 'copy_X': True, 'alpha': 1}\n",
      "('Root mean-squared error:', 1.4326496531164197, '\\n--------------------------------------------------------\\n')\n",
      "('\\nRegression evaluation for:', 'Elastic Net_1')\n",
      "('  Scikit Learn method:', ElasticNet(alpha=1, copy_X=True, fit_intercept=True, l1_ratio=0.5,\n",
      "      max_iter=1000, normalize=False, positive=False, precompute=False,\n",
      "      random_state=1, selection='cyclic', tol=0.0001, warm_start=False))\n",
      "('Fitted regression intercept:', -0.09692307636133114)\n",
      "('Fitted regression coefficients:', array([-0.       ,  0.       , -0.       ,  0.       , -0.       ,\n",
      "        0.       , -0.       ,  0.       , -0.       , -0.       ,\n",
      "       -0.       , -0.1356277]))\n",
      "('Coefficient of determination (R-squared):', -0.966852573223494)\n",
      "{'normalize': False, 'warm_start': False, 'selection': 'cyclic', 'fit_intercept': True, 'l1_ratio': 0.5, 'max_iter': 1000, 'precompute': False, 'random_state': 1, 'tol': 0.0001, 'positive': False, 'copy_X': True, 'alpha': 1}\n",
      "('Root mean-squared error:', 1.326249648333597, '\\n--------------------------------------------------------\\n')\n",
      "('\\nRegression evaluation for:', 'Ridge_.5')\n",
      "('  Scikit Learn method:', Ridge(alpha=0.5, copy_X=True, fit_intercept=True, max_iter=None,\n",
      "   normalize=False, random_state=1, solver='cholesky', tol=0.001))\n",
      "('Fitted regression intercept:', 0.005416598042805934)\n",
      "('Fitted regression coefficients:', array([-0.11252896,  0.14690288,  0.03325916,  0.09032866, -0.2627431 ,\n",
      "        0.23224437,  0.00139203, -0.34621051,  0.27297675, -0.23610129,\n",
      "       -0.20087658, -0.44759289]))\n",
      "('Coefficient of determination (R-squared):', 0.7250458050807811)\n",
      "{'normalize': False, 'fit_intercept': True, 'max_iter': None, 'random_state': 1, 'tol': 0.001, 'copy_X': True, 'alpha': 0.5, 'solver': 'cholesky'}\n",
      "('Root mean-squared error:', 0.4958719618371612, '\\n--------------------------------------------------------\\n')\n",
      "('\\nRegression evaluation for:', 'Lasso_.5')\n",
      "('  Scikit Learn method:', Lasso(alpha=0.5, copy_X=True, fit_intercept=True, max_iter=1000,\n",
      "   normalize=False, positive=False, precompute=False, random_state=1,\n",
      "   selection='cyclic', tol=0.0001, warm_start=False))\n",
      "('Fitted regression intercept:', -0.0912545417579588)\n",
      "('Fitted regression coefficients:', array([-0.        ,  0.        , -0.        ,  0.        , -0.        ,\n",
      "        0.        , -0.        ,  0.        , -0.        , -0.        ,\n",
      "       -0.        , -0.20220807]))\n",
      "('Coefficient of determination (R-squared):', -0.8193640120597041)\n",
      "{'normalize': False, 'warm_start': False, 'selection': 'cyclic', 'fit_intercept': True, 'positive': False, 'max_iter': 1000, 'precompute': False, 'random_state': 1, 'tol': 0.0001, 'copy_X': True, 'alpha': 0.5}\n",
      "('Root mean-squared error:', 1.2755549649905142, '\\n--------------------------------------------------------\\n')\n",
      "('\\nRegression evaluation for:', 'Elastic Net_.5')\n",
      "('  Scikit Learn method:', ElasticNet(alpha=0.5, copy_X=True, fit_intercept=True, l1_ratio=0.5,\n",
      "      max_iter=1000, normalize=False, positive=False, precompute=False,\n",
      "      random_state=1, selection='cyclic', tol=0.0001, warm_start=False))\n",
      "('Fitted regression intercept:', -0.07041037033620956)\n",
      "('Fitted regression coefficients:', array([-0.        ,  0.        , -0.        ,  0.        , -0.        ,\n",
      "        0.13265309, -0.        ,  0.        , -0.        , -0.        ,\n",
      "       -0.00090463, -0.29867789]))\n",
      "('Coefficient of determination (R-squared):', -0.19455619784639566)\n",
      "{'normalize': False, 'warm_start': False, 'selection': 'cyclic', 'fit_intercept': True, 'l1_ratio': 0.5, 'max_iter': 1000, 'precompute': False, 'random_state': 1, 'tol': 0.0001, 'positive': False, 'copy_X': True, 'alpha': 0.5}\n",
      "('Root mean-squared error:', 1.0335766051409636, '\\n--------------------------------------------------------\\n')\n",
      "('\\nFold index:', 6, '------------------------------------------')\n",
      "('\\nShape of input data for this fold:', '\\nData Set: (Observations, Variables)')\n",
      "('X_train:', (456, 12))\n",
      "('X_test:', (50, 12))\n",
      "('y_train:', (456,))\n",
      "('y_test:', (50,))\n",
      "('\\nRegression evaluation for:', 'Linear')\n",
      "('  Scikit Learn method:', LinearRegression(copy_X=True, fit_intercept=True, n_jobs=1, normalize=False))\n",
      "('Fitted regression intercept:', 0.008941252403873737)\n",
      "('Fitted regression coefficients:', array([-0.11447335,  0.11289095, -0.00078952,  0.07304751, -0.25064154,\n",
      "        0.26539458,  0.00088703, -0.39699454,  0.27908231, -0.25049963,\n",
      "       -0.22205569, -0.4450419 ]))\n",
      "('Coefficient of determination (R-squared):', 0.37826789389871485)\n",
      "{'copy_X': True, 'normalize': False, 'n_jobs': 1, 'fit_intercept': True}\n",
      "('Root mean-squared error:', 0.3438281851979331, '\\n--------------------------------------------------------\\n')\n",
      "('\\nRegression evaluation for:', 'Ridge')\n",
      "('  Scikit Learn method:', Ridge(alpha=0.1, copy_X=True, fit_intercept=True, max_iter=None,\n",
      "   normalize=False, random_state=1, solver='cholesky', tol=0.001))\n",
      "('Fitted regression intercept:', 0.008983932967210614)\n",
      "('Fitted regression coefficients:', array([-0.11435298,  0.11263436, -0.00113107,  0.07309759, -0.25022175,\n",
      "        0.26551866,  0.00080817, -0.39646467,  0.27807149, -0.24949534,\n",
      "       -0.22195399, -0.44488475]))\n",
      "('Coefficient of determination (R-squared):', 0.3791565278902006)\n",
      "{'normalize': False, 'fit_intercept': True, 'max_iter': None, 'random_state': 1, 'tol': 0.001, 'copy_X': True, 'alpha': 0.1, 'solver': 'cholesky'}\n",
      "('Root mean-squared error:', 0.3435823826546042, '\\n--------------------------------------------------------\\n')\n",
      "('\\nRegression evaluation for:', 'Lasso')\n",
      "('  Scikit Learn method:', Lasso(alpha=0.1, copy_X=True, fit_intercept=True, max_iter=1000,\n",
      "   normalize=False, positive=False, precompute=False, random_state=1,\n",
      "   selection='cyclic', tol=0.0001, warm_start=False))\n",
      "('Fitted regression intercept:', 0.03204078371174583)\n",
      "('Fitted regression coefficients:', array([-0.00383716,  0.        , -0.        ,  0.00987547, -0.        ,\n",
      "        0.27277432, -0.        , -0.        , -0.        , -0.00816238,\n",
      "       -0.14609657, -0.44107715]))\n",
      "('Coefficient of determination (R-squared):', 0.1180719340587627)\n",
      "{'normalize': False, 'warm_start': False, 'selection': 'cyclic', 'fit_intercept': True, 'positive': False, 'max_iter': 1000, 'precompute': False, 'random_state': 1, 'tol': 0.0001, 'copy_X': True, 'alpha': 0.1}\n",
      "('Root mean-squared error:', 0.40950236031622234, '\\n--------------------------------------------------------\\n')\n",
      "('\\nRegression evaluation for:', 'Elastic Net')\n",
      "('  Scikit Learn method:', ElasticNet(alpha=0.1, copy_X=True, fit_intercept=True, l1_ratio=0.5,\n",
      "      max_iter=1000, normalize=False, positive=False, precompute=False,\n",
      "      random_state=1, selection='cyclic', tol=0.0001, warm_start=False))\n",
      "('Fitted regression intercept:', 0.03119927732502513)\n",
      "('Fitted regression coefficients:', array([-0.03265816,  0.        , -0.00357397,  0.04824604, -0.01803926,\n",
      "        0.29579318, -0.        , -0.01512897, -0.        , -0.02586053,\n",
      "       -0.16360976, -0.41594742]))\n",
      "('Coefficient of determination (R-squared):', 0.16435371644390995)\n",
      "{'normalize': False, 'warm_start': False, 'selection': 'cyclic', 'fit_intercept': True, 'l1_ratio': 0.5, 'max_iter': 1000, 'precompute': False, 'random_state': 1, 'tol': 0.0001, 'positive': False, 'copy_X': True, 'alpha': 0.1}\n",
      "('Root mean-squared error:', 0.3986126441426352, '\\n--------------------------------------------------------\\n')\n",
      "('\\nRegression evaluation for:', 'Ridge_1')\n",
      "('  Scikit Learn method:', Ridge(alpha=1, copy_X=True, fit_intercept=True, max_iter=None,\n",
      "   normalize=False, random_state=1, solver='cholesky', tol=0.001))\n",
      "('Fitted regression intercept:', 0.00935939555844734)\n",
      "('Fitted regression coefficients:', array([-1.13299930e-01,  1.10394984e-01, -4.08220389e-03,  7.35307028e-02,\n",
      "       -2.46515239e-01,  2.66603268e-01,  1.19151804e-04, -3.91772998e-01,\n",
      "        2.69296290e-01, -2.40816744e-01, -2.21050344e-01, -4.43485376e-01]))\n",
      "('Coefficient of determination (R-squared):', 0.38672218359479904)\n",
      "{'normalize': False, 'fit_intercept': True, 'max_iter': None, 'random_state': 1, 'tol': 0.001, 'copy_X': True, 'alpha': 1, 'solver': 'cholesky'}\n",
      "('Root mean-squared error:', 0.34148250243968575, '\\n--------------------------------------------------------\\n')\n",
      "('\\nRegression evaluation for:', 'Lasso_1')\n",
      "('  Scikit Learn method:', Lasso(alpha=1, copy_X=True, fit_intercept=True, max_iter=1000,\n",
      "   normalize=False, positive=False, precompute=False, random_state=1,\n",
      "   selection='cyclic', tol=0.0001, warm_start=False))\n",
      "('Fitted regression intercept:', 0.008138473630942354)\n",
      "('Fitted regression coefficients:', array([-0.,  0., -0.,  0., -0.,  0., -0.,  0., -0., -0., -0., -0.]))\n",
      "('Coefficient of determination (R-squared):', -0.035675271859097135)\n",
      "{'normalize': False, 'warm_start': False, 'selection': 'cyclic', 'fit_intercept': True, 'positive': False, 'max_iter': 1000, 'precompute': False, 'random_state': 1, 'tol': 0.0001, 'copy_X': True, 'alpha': 1}\n",
      "('Root mean-squared error:', 0.4437635539988992, '\\n--------------------------------------------------------\\n')\n",
      "('\\nRegression evaluation for:', 'Elastic Net_1')\n",
      "('  Scikit Learn method:', ElasticNet(alpha=1, copy_X=True, fit_intercept=True, l1_ratio=0.5,\n",
      "      max_iter=1000, normalize=False, positive=False, precompute=False,\n",
      "      random_state=1, selection='cyclic', tol=0.0001, warm_start=False))\n",
      "('Fitted regression intercept:', 0.017873342031744822)\n",
      "('Fitted regression coefficients:', array([-0.        ,  0.        , -0.        ,  0.        , -0.        ,\n",
      "        0.08621704, -0.        ,  0.        , -0.        , -0.        ,\n",
      "       -0.        , -0.16595054]))\n",
      "('Coefficient of determination (R-squared):', 0.1737730285180078)\n",
      "{'normalize': False, 'warm_start': False, 'selection': 'cyclic', 'fit_intercept': True, 'l1_ratio': 0.5, 'max_iter': 1000, 'precompute': False, 'random_state': 1, 'tol': 0.0001, 'positive': False, 'copy_X': True, 'alpha': 1}\n",
      "('Root mean-squared error:', 0.3963597187485693, '\\n--------------------------------------------------------\\n')\n",
      "('\\nRegression evaluation for:', 'Ridge_.5')\n",
      "('  Scikit Learn method:', Ridge(alpha=0.5, copy_X=True, fit_intercept=True, max_iter=None,\n",
      "   normalize=False, random_state=1, solver='cholesky', tol=0.001))\n",
      "('Fitted regression intercept:', 0.00915270208026114)\n",
      "('Fitted regression coefficients:', array([-0.11387833,  0.1116238 , -0.00246944,  0.07329392, -0.24855868,\n",
      "        0.26600774,  0.00049744, -0.39436251,  0.27410114, -0.24555973,\n",
      "       -0.2215498 , -0.44425952]))\n",
      "('Coefficient of determination (R-squared):', 0.3826128590030582)\n",
      "{'normalize': False, 'fit_intercept': True, 'max_iter': None, 'random_state': 1, 'tol': 0.001, 'copy_X': True, 'alpha': 0.5, 'solver': 'cholesky'}\n",
      "('Root mean-squared error:', 0.34262465985815155, '\\n--------------------------------------------------------\\n')\n",
      "('\\nRegression evaluation for:', 'Lasso_.5')\n",
      "('  Scikit Learn method:', Lasso(alpha=0.5, copy_X=True, fit_intercept=True, max_iter=1000,\n",
      "   normalize=False, positive=False, precompute=False, random_state=1,\n",
      "   selection='cyclic', tol=0.0001, warm_start=False))\n",
      "('Fitted regression intercept:', 0.023556578495025047)\n",
      "('Fitted regression coefficients:', array([-0.        ,  0.        , -0.        ,  0.        , -0.        ,\n",
      "        0.07116189, -0.        ,  0.        , -0.        , -0.        ,\n",
      "       -0.        , -0.25449895]))\n",
      "('Coefficient of determination (R-squared):', 0.0780493215505823)\n",
      "{'normalize': False, 'warm_start': False, 'selection': 'cyclic', 'fit_intercept': True, 'positive': False, 'max_iter': 1000, 'precompute': False, 'random_state': 1, 'tol': 0.0001, 'copy_X': True, 'alpha': 0.5}\n",
      "('Root mean-squared error:', 0.41869104442600086, '\\n--------------------------------------------------------\\n')\n",
      "('\\nRegression evaluation for:', 'Elastic Net_.5')\n",
      "('  Scikit Learn method:', ElasticNet(alpha=0.5, copy_X=True, fit_intercept=True, l1_ratio=0.5,\n",
      "      max_iter=1000, normalize=False, positive=False, precompute=False,\n",
      "      random_state=1, selection='cyclic', tol=0.0001, warm_start=False))\n",
      "('Fitted regression intercept:', 0.024861925404281025)\n",
      "('Fitted regression coefficients:', array([-0.        ,  0.        , -0.        ,  0.        , -0.        ,\n",
      "        0.19900233, -0.        ,  0.        , -0.        , -0.        ,\n",
      "       -0.07374726, -0.30802515]))\n",
      "('Coefficient of determination (R-squared):', 0.27275180076886896)\n",
      "{'normalize': False, 'warm_start': False, 'selection': 'cyclic', 'fit_intercept': True, 'l1_ratio': 0.5, 'max_iter': 1000, 'precompute': False, 'random_state': 1, 'tol': 0.0001, 'positive': False, 'copy_X': True, 'alpha': 0.5}\n",
      "('Root mean-squared error:', 0.3718614469271451, '\\n--------------------------------------------------------\\n')\n",
      "('\\nFold index:', 7, '------------------------------------------')\n",
      "('\\nShape of input data for this fold:', '\\nData Set: (Observations, Variables)')\n",
      "('X_train:', (456, 12))\n",
      "('X_test:', (50, 12))\n",
      "('y_train:', (456,))\n",
      "('y_test:', (50,))\n",
      "('\\nRegression evaluation for:', 'Linear')\n",
      "('  Scikit Learn method:', LinearRegression(copy_X=True, fit_intercept=True, n_jobs=1, normalize=False))\n",
      "('Fitted regression intercept:', -0.04304560213558445)\n",
      "('Fitted regression coefficients:', array([-0.02209289,  0.05558445,  0.04293061,  0.0309466 , -0.19138677,\n",
      "        0.53206806, -0.0953144 , -0.26432142,  0.08561609, -0.22989864,\n",
      "       -0.19873962, -0.1903533 ]))\n",
      "('Coefficient of determination (R-squared):', -0.014566207830289057)\n",
      "{'copy_X': True, 'normalize': False, 'n_jobs': 1, 'fit_intercept': True}\n",
      "('Root mean-squared error:', 1.3408272247731297, '\\n--------------------------------------------------------\\n')\n",
      "('\\nRegression evaluation for:', 'Ridge')\n",
      "('  Scikit Learn method:', Ridge(alpha=0.1, copy_X=True, fit_intercept=True, max_iter=None,\n",
      "   normalize=False, random_state=1, solver='cholesky', tol=0.001))\n",
      "('Fitted regression intercept:', -0.043037561592752044)\n",
      "('Fitted regression coefficients:', array([-0.02205812,  0.05551074,  0.04269285,  0.0309856 , -0.19115892,\n",
      "        0.53193363, -0.09523877, -0.26410226,  0.08520472, -0.22942168,\n",
      "       -0.1986902 , -0.190447  ]))\n",
      "('Coefficient of determination (R-squared):', -0.01439154027901024)\n",
      "{'normalize': False, 'fit_intercept': True, 'max_iter': None, 'random_state': 1, 'tol': 0.001, 'copy_X': True, 'alpha': 0.1, 'solver': 'cholesky'}\n",
      "('Root mean-squared error:', 1.3407118015079869, '\\n--------------------------------------------------------\\n')\n",
      "('\\nRegression evaluation for:', 'Lasso')\n",
      "('  Scikit Learn method:', Lasso(alpha=0.1, copy_X=True, fit_intercept=True, max_iter=1000,\n",
      "   normalize=False, positive=False, precompute=False, random_state=1,\n",
      "   selection='cyclic', tol=0.0001, warm_start=False))\n",
      "('Fitted regression intercept:', -0.023438802692212518)\n",
      "('Fitted regression coefficients:', array([-0.        ,  0.        , -0.        ,  0.        , -0.        ,\n",
      "        0.48780668, -0.        , -0.        , -0.        , -0.099182  ,\n",
      "       -0.13794846, -0.20687434]))\n",
      "('Coefficient of determination (R-squared):', 0.04007117280086936)\n"
     ]
    },
    {
     "name": "stdout",
     "output_type": "stream",
     "text": [
      "{'normalize': False, 'warm_start': False, 'selection': 'cyclic', 'fit_intercept': True, 'positive': False, 'max_iter': 1000, 'precompute': False, 'random_state': 1, 'tol': 0.0001, 'copy_X': True, 'alpha': 0.1}\n",
      "('Root mean-squared error:', 1.3042238563675213, '\\n--------------------------------------------------------\\n')\n",
      "('\\nRegression evaluation for:', 'Elastic Net')\n",
      "('  Scikit Learn method:', ElasticNet(alpha=0.1, copy_X=True, fit_intercept=True, l1_ratio=0.5,\n",
      "      max_iter=1000, normalize=False, positive=False, precompute=False,\n",
      "      random_state=1, selection='cyclic', tol=0.0001, warm_start=False))\n",
      "('Fitted regression intercept:', -0.03378560937748078)\n",
      "('Fitted regression coefficients:', array([-0.        ,  0.        , -0.        ,  0.        , -0.02671125,\n",
      "        0.48988645, -0.        , -0.        , -0.        , -0.11932863,\n",
      "       -0.16606774, -0.21411406]))\n",
      "('Coefficient of determination (R-squared):', 0.01287993497346629)\n",
      "{'normalize': False, 'warm_start': False, 'selection': 'cyclic', 'fit_intercept': True, 'l1_ratio': 0.5, 'max_iter': 1000, 'precompute': False, 'random_state': 1, 'tol': 0.0001, 'positive': False, 'copy_X': True, 'alpha': 0.1}\n",
      "('Root mean-squared error:', 1.322566788673336, '\\n--------------------------------------------------------\\n')\n",
      "('\\nRegression evaluation for:', 'Ridge_1')\n",
      "('  Scikit Learn method:', Ridge(alpha=1, copy_X=True, fit_intercept=True, max_iter=None,\n",
      "   normalize=False, random_state=1, solver='cholesky', tol=0.001))\n",
      "('Fitted regression intercept:', -0.042964907788276774)\n",
      "('Fitted regression coefficients:', array([-0.02176414,  0.05486715,  0.04060319,  0.03132774, -0.189139  ,\n",
      "        0.53071908, -0.09455978, -0.26215022,  0.08162396, -0.22525922,\n",
      "       -0.19825344, -0.19128071]))\n",
      "('Coefficient of determination (R-squared):', -0.012805869231099276)\n",
      "{'normalize': False, 'fit_intercept': True, 'max_iter': None, 'random_state': 1, 'tol': 0.001, 'copy_X': True, 'alpha': 1, 'solver': 'cholesky'}\n",
      "('Root mean-squared error:', 1.339663508392425, '\\n--------------------------------------------------------\\n')\n",
      "('\\nRegression evaluation for:', 'Lasso_1')\n",
      "('  Scikit Learn method:', Lasso(alpha=1, copy_X=True, fit_intercept=True, max_iter=1000,\n",
      "   normalize=False, positive=False, precompute=False, random_state=1,\n",
      "   selection='cyclic', tol=0.0001, warm_start=False))\n",
      "('Fitted regression intercept:', 0.060852684945798735)\n",
      "('Fitted regression coefficients:', array([-0.,  0., -0.,  0., -0.,  0., -0.,  0., -0., -0., -0., -0.]))\n",
      "('Coefficient of determination (R-squared):', -0.21402044814530408)\n",
      "{'normalize': False, 'warm_start': False, 'selection': 'cyclic', 'fit_intercept': True, 'positive': False, 'max_iter': 1000, 'precompute': False, 'random_state': 1, 'tol': 0.0001, 'copy_X': True, 'alpha': 1}\n",
      "('Root mean-squared error:', 1.4667146294510116, '\\n--------------------------------------------------------\\n')\n",
      "('\\nRegression evaluation for:', 'Elastic Net_1')\n",
      "('  Scikit Learn method:', ElasticNet(alpha=1, copy_X=True, fit_intercept=True, l1_ratio=0.5,\n",
      "      max_iter=1000, normalize=False, positive=False, precompute=False,\n",
      "      random_state=1, selection='cyclic', tol=0.0001, warm_start=False))\n",
      "('Fitted regression intercept:', 0.04711054129820175)\n",
      "('Fitted regression coefficients:', array([-0.        ,  0.        , -0.        ,  0.        , -0.        ,\n",
      "        0.13158126, -0.        ,  0.        , -0.        , -0.        ,\n",
      "       -0.        , -0.04349601]))\n",
      "('Coefficient of determination (R-squared):', -0.05896787321637875)\n",
      "{'normalize': False, 'warm_start': False, 'selection': 'cyclic', 'fit_intercept': True, 'l1_ratio': 0.5, 'max_iter': 1000, 'precompute': False, 'random_state': 1, 'tol': 0.0001, 'positive': False, 'copy_X': True, 'alpha': 1}\n",
      "('Root mean-squared error:', 1.3698531580528932, '\\n--------------------------------------------------------\\n')\n",
      "('\\nRegression evaluation for:', 'Ridge_.5')\n",
      "('  Scikit Learn method:', Ridge(alpha=0.5, copy_X=True, fit_intercept=True, max_iter=None,\n",
      "   normalize=False, random_state=1, solver='cholesky', tol=0.001))\n",
      "('Fitted regression intercept:', -0.04300533205772045)\n",
      "('Fitted regression coefficients:', array([-0.02192332,  0.05522038,  0.04175311,  0.03113961, -0.19025441,\n",
      "        0.53139481, -0.0949366 , -0.26323019,  0.0835867 , -0.22754325,\n",
      "       -0.19849433, -0.19081968]))\n",
      "('Coefficient of determination (R-squared):', -0.013689706467023832)\n",
      "{'normalize': False, 'fit_intercept': True, 'max_iter': None, 'random_state': 1, 'tol': 0.001, 'copy_X': True, 'alpha': 0.5, 'solver': 'cholesky'}\n",
      "('Root mean-squared error:', 1.3402479176673263, '\\n--------------------------------------------------------\\n')\n",
      "('\\nRegression evaluation for:', 'Lasso_.5')\n",
      "('  Scikit Learn method:', Lasso(alpha=0.5, copy_X=True, fit_intercept=True, max_iter=1000,\n",
      "   normalize=False, positive=False, precompute=False, random_state=1,\n",
      "   selection='cyclic', tol=0.0001, warm_start=False))\n",
      "('Fitted regression intercept:', 0.04368851579774082)\n",
      "('Fitted regression coefficients:', array([-0.        ,  0.        , -0.        ,  0.        , -0.        ,\n",
      "        0.22967669, -0.        ,  0.        , -0.        , -0.        ,\n",
      "       -0.        , -0.00669272]))\n",
      "('Coefficient of determination (R-squared):', -0.09547764757142763)\n",
      "{'normalize': False, 'warm_start': False, 'selection': 'cyclic', 'fit_intercept': True, 'positive': False, 'max_iter': 1000, 'precompute': False, 'random_state': 1, 'tol': 0.0001, 'copy_X': True, 'alpha': 0.5}\n",
      "('Root mean-squared error:', 1.3932671037688955, '\\n--------------------------------------------------------\\n')\n",
      "('\\nRegression evaluation for:', 'Elastic Net_.5')\n",
      "('  Scikit Learn method:', ElasticNet(alpha=0.5, copy_X=True, fit_intercept=True, l1_ratio=0.5,\n",
      "      max_iter=1000, normalize=False, positive=False, precompute=False,\n",
      "      random_state=1, selection='cyclic', tol=0.0001, warm_start=False))\n",
      "('Fitted regression intercept:', 0.014533259725924078)\n",
      "('Fitted regression coefficients:', array([-0.        ,  0.        , -0.        ,  0.        , -0.        ,\n",
      "        0.29674146, -0.        ,  0.        , -0.        , -0.00645946,\n",
      "       -0.07802742, -0.17260049]))\n",
      "('Coefficient of determination (R-squared):', 0.1518310507568037)\n",
      "{'normalize': False, 'warm_start': False, 'selection': 'cyclic', 'fit_intercept': True, 'l1_ratio': 0.5, 'max_iter': 1000, 'precompute': False, 'random_state': 1, 'tol': 0.0001, 'positive': False, 'copy_X': True, 'alpha': 0.5}\n",
      "('Root mean-squared error:', 1.2259529627565755, '\\n--------------------------------------------------------\\n')\n",
      "('\\nFold index:', 8, '------------------------------------------')\n",
      "('\\nShape of input data for this fold:', '\\nData Set: (Observations, Variables)')\n",
      "('X_train:', (456, 12))\n",
      "('X_test:', (50, 12))\n",
      "('y_train:', (456,))\n",
      "('y_test:', (50,))\n",
      "('\\nRegression evaluation for:', 'Linear')\n",
      "('  Scikit Learn method:', LinearRegression(copy_X=True, fit_intercept=True, n_jobs=1, normalize=False))\n",
      "('Fitted regression intercept:', 0.03370025325331895)\n",
      "('Fitted regression coefficients:', array([-0.15565679,  0.11428404,  0.01865756,  0.064665  , -0.18131478,\n",
      "        0.34989869, -0.01800014, -0.32326161,  0.32410334, -0.23440966,\n",
      "       -0.19322112, -0.39845873]))\n",
      "('Coefficient of determination (R-squared):', -1.0410008417604217)\n",
      "{'copy_X': True, 'normalize': False, 'n_jobs': 1, 'fit_intercept': True}\n",
      "('Root mean-squared error:', 0.6697047890403507, '\\n--------------------------------------------------------\\n')\n",
      "('\\nRegression evaluation for:', 'Ridge')\n",
      "('  Scikit Learn method:', Ridge(alpha=0.1, copy_X=True, fit_intercept=True, max_iter=None,\n",
      "   normalize=False, random_state=1, solver='cholesky', tol=0.001))\n",
      "('Fitted regression intercept:', 0.033695721658430114)\n",
      "('Fitted regression coefficients:', array([-0.15549744,  0.11411032,  0.01837742,  0.06471131, -0.18102475,\n",
      "        0.34997613, -0.01805426, -0.32296939,  0.3232232 , -0.23360625,\n",
      "       -0.19314156, -0.39833231]))\n",
      "('Coefficient of determination (R-squared):', -1.0407083462484632)\n",
      "{'normalize': False, 'fit_intercept': True, 'max_iter': None, 'random_state': 1, 'tol': 0.001, 'copy_X': True, 'alpha': 0.1, 'solver': 'cholesky'}\n",
      "('Root mean-squared error:', 0.6696567996765759, '\\n--------------------------------------------------------\\n')\n",
      "('\\nRegression evaluation for:', 'Lasso')\n",
      "('  Scikit Learn method:', Lasso(alpha=0.1, copy_X=True, fit_intercept=True, max_iter=1000,\n",
      "   normalize=False, positive=False, precompute=False, random_state=1,\n",
      "   selection='cyclic', tol=0.0001, warm_start=False))\n",
      "('Fitted regression intercept:', 0.04792313036707664)\n",
      "('Fitted regression coefficients:', array([-0.        ,  0.        , -0.        ,  0.00554928, -0.        ,\n",
      "        0.38277452, -0.        , -0.        , -0.        , -0.        ,\n",
      "       -0.11567785, -0.33273334]))\n",
      "('Coefficient of determination (R-squared):', -1.5460151054887685)\n",
      "{'normalize': False, 'warm_start': False, 'selection': 'cyclic', 'fit_intercept': True, 'positive': False, 'max_iter': 1000, 'precompute': False, 'random_state': 1, 'tol': 0.0001, 'copy_X': True, 'alpha': 0.1}\n",
      "('Root mean-squared error:', 0.7479839872757353, '\\n--------------------------------------------------------\\n')\n",
      "('\\nRegression evaluation for:', 'Elastic Net')\n",
      "('  Scikit Learn method:', ElasticNet(alpha=0.1, copy_X=True, fit_intercept=True, l1_ratio=0.5,\n",
      "      max_iter=1000, normalize=False, positive=False, precompute=False,\n",
      "      random_state=1, selection='cyclic', tol=0.0001, warm_start=False))\n",
      "('Fitted regression intercept:', 0.04031199409635748)\n",
      "('Fitted regression coefficients:', array([-0.0230709 ,  0.        , -0.        ,  0.04103088, -0.        ,\n",
      "        0.3820982 , -0.        , -0.03283519,  0.        , -0.        ,\n",
      "       -0.1450864 , -0.36515134]))\n",
      "('Coefficient of determination (R-squared):', -1.2806643521411964)\n",
      "{'normalize': False, 'warm_start': False, 'selection': 'cyclic', 'fit_intercept': True, 'l1_ratio': 0.5, 'max_iter': 1000, 'precompute': False, 'random_state': 1, 'tol': 0.0001, 'positive': False, 'copy_X': True, 'alpha': 0.1}\n",
      "('Root mean-squared error:', 0.7079335584604188, '\\n--------------------------------------------------------\\n')\n",
      "('\\nRegression evaluation for:', 'Ridge_1')\n",
      "('  Scikit Learn method:', Ridge(alpha=1, copy_X=True, fit_intercept=True, max_iter=None,\n",
      "   normalize=False, random_state=1, solver='cholesky', tol=0.001))\n",
      "('Fitted regression intercept:', 0.03365704976823633)\n",
      "('Fitted regression coefficients:', array([-0.15409292,  0.11258347,  0.01593837,  0.065115  , -0.17846081,\n",
      "        0.35064905, -0.01852607, -0.32036552,  0.31553139, -0.22661182,\n",
      "       -0.19243902, -0.39720469]))\n",
      "('Coefficient of determination (R-squared):', -1.0381588329307836)\n",
      "{'normalize': False, 'fit_intercept': True, 'max_iter': None, 'random_state': 1, 'tol': 0.001, 'copy_X': True, 'alpha': 1, 'solver': 'cholesky'}\n",
      "('Root mean-squared error:', 0.6692383585726625, '\\n--------------------------------------------------------\\n')\n",
      "('\\nRegression evaluation for:', 'Lasso_1')\n",
      "('  Scikit Learn method:', Lasso(alpha=1, copy_X=True, fit_intercept=True, max_iter=1000,\n",
      "   normalize=False, positive=False, precompute=False, random_state=1,\n",
      "   selection='cyclic', tol=0.0001, warm_start=False))\n",
      "('Fitted regression intercept:', 0.10768585499831738)\n",
      "('Fitted regression coefficients:', array([-0.,  0., -0.,  0., -0.,  0., -0.,  0., -0., -0., -0., -0.]))\n",
      "('Coefficient of determination (R-squared):', -5.404490040692907)\n",
      "{'normalize': False, 'warm_start': False, 'selection': 'cyclic', 'fit_intercept': True, 'positive': False, 'max_iter': 1000, 'precompute': False, 'random_state': 1, 'tol': 0.0001, 'copy_X': True, 'alpha': 1}\n",
      "('Root mean-squared error:', 1.1863261128144897, '\\n--------------------------------------------------------\\n')\n",
      "('\\nRegression evaluation for:', 'Elastic Net_1')\n",
      "('  Scikit Learn method:', ElasticNet(alpha=1, copy_X=True, fit_intercept=True, l1_ratio=0.5,\n",
      "      max_iter=1000, normalize=False, positive=False, precompute=False,\n",
      "      random_state=1, selection='cyclic', tol=0.0001, warm_start=False))\n",
      "('Fitted regression intercept:', 0.09661269333131826)\n",
      "('Fitted regression coefficients:', array([-0.        ,  0.        , -0.        ,  0.        , -0.        ,\n",
      "        0.13233171, -0.        ,  0.        , -0.        , -0.        ,\n",
      "       -0.        , -0.06503937]))\n",
      "('Coefficient of determination (R-squared):', -4.302059074639759)\n",
      "{'normalize': False, 'warm_start': False, 'selection': 'cyclic', 'fit_intercept': True, 'l1_ratio': 0.5, 'max_iter': 1000, 'precompute': False, 'random_state': 1, 'tol': 0.0001, 'positive': False, 'copy_X': True, 'alpha': 1}\n",
      "('Root mean-squared error:', 1.079404175647608, '\\n--------------------------------------------------------\\n')\n",
      "('\\nRegression evaluation for:', 'Ridge_.5')\n",
      "('  Scikit Learn method:', Ridge(alpha=0.5, copy_X=True, fit_intercept=True, max_iter=None,\n",
      "   normalize=False, random_state=1, solver='cholesky', tol=0.001))\n",
      "('Fitted regression intercept:', 0.03367807269748435)\n",
      "('Fitted regression coefficients:', array([-0.15486672,  0.11342368,  0.01727544,  0.06489358, -0.17987503,\n",
      "        0.35028048, -0.01826729, -0.32180634,  0.31975441, -0.23044594,\n",
      "       -0.19282634, -0.39782892]))\n",
      "('Coefficient of determination (R-squared):', -1.0395571864117739)\n",
      "{'normalize': False, 'fit_intercept': True, 'max_iter': None, 'random_state': 1, 'tol': 0.001, 'copy_X': True, 'alpha': 0.5, 'solver': 'cholesky'}\n",
      "('Root mean-squared error:', 0.6694678969464217, '\\n--------------------------------------------------------\\n')\n",
      "('\\nRegression evaluation for:', 'Lasso_.5')\n",
      "('  Scikit Learn method:', Lasso(alpha=0.5, copy_X=True, fit_intercept=True, max_iter=1000,\n",
      "   normalize=False, positive=False, precompute=False, random_state=1,\n",
      "   selection='cyclic', tol=0.0001, warm_start=False))\n",
      "('Fitted regression intercept:', 0.09661318353203734)\n",
      "('Fitted regression coefficients:', array([-0.        ,  0.        , -0.        ,  0.        , -0.        ,\n",
      "        0.20653881, -0.        ,  0.        , -0.        , -0.        ,\n",
      "       -0.        , -0.04971452]))\n",
      "('Coefficient of determination (R-squared):', -4.386399382067642)\n",
      "{'normalize': False, 'warm_start': False, 'selection': 'cyclic', 'fit_intercept': True, 'positive': False, 'max_iter': 1000, 'precompute': False, 'random_state': 1, 'tol': 0.0001, 'copy_X': True, 'alpha': 0.5}\n",
      "('Root mean-squared error:', 1.087955390885854, '\\n--------------------------------------------------------\\n')\n",
      "('\\nRegression evaluation for:', 'Elastic Net_.5')\n",
      "('  Scikit Learn method:', ElasticNet(alpha=0.5, copy_X=True, fit_intercept=True, l1_ratio=0.5,\n",
      "      max_iter=1000, normalize=False, positive=False, precompute=False,\n",
      "      random_state=1, selection='cyclic', tol=0.0001, warm_start=False))\n",
      "('Fitted regression intercept:', 0.07235360376384287)\n",
      "('Fitted regression coefficients:', array([-0.        ,  0.        , -0.        ,  0.        , -0.        ,\n",
      "        0.27262653, -0.        ,  0.        , -0.        , -0.        ,\n",
      "       -0.03781962, -0.21051904]))\n",
      "('Coefficient of determination (R-squared):', -2.5452440547604533)\n",
      "{'normalize': False, 'warm_start': False, 'selection': 'cyclic', 'fit_intercept': True, 'l1_ratio': 0.5, 'max_iter': 1000, 'precompute': False, 'random_state': 1, 'tol': 0.0001, 'positive': False, 'copy_X': True, 'alpha': 0.5}\n",
      "('Root mean-squared error:', 0.8826425936719581, '\\n--------------------------------------------------------\\n')\n",
      "('\\nFold index:', 9, '------------------------------------------')\n",
      "('\\nShape of input data for this fold:', '\\nData Set: (Observations, Variables)')\n",
      "('X_train:', (456, 12))\n",
      "('X_test:', (50, 12))\n",
      "('y_train:', (456,))\n",
      "('y_test:', (50,))\n",
      "('\\nRegression evaluation for:', 'Linear')\n",
      "('  Scikit Learn method:', LinearRegression(copy_X=True, fit_intercept=True, n_jobs=1, normalize=False))\n",
      "('Fitted regression intercept:', -0.004165299014140228)\n",
      "('Fitted regression coefficients:', array([-0.10727116,  0.13089117,  0.01341125,  0.07572248, -0.22610109,\n",
      "        0.27982983,  0.04153967, -0.33550252,  0.3262372 , -0.30856213,\n",
      "       -0.2064141 , -0.45214428]))\n",
      "('Coefficient of determination (R-squared):', 0.4779573572609964)\n",
      "{'copy_X': True, 'normalize': False, 'n_jobs': 1, 'fit_intercept': True}\n",
      "('Root mean-squared error:', 0.33313776358736674, '\\n--------------------------------------------------------\\n')\n",
      "('\\nRegression evaluation for:', 'Ridge')\n",
      "('  Scikit Learn method:', Ridge(alpha=0.1, copy_X=True, fit_intercept=True, max_iter=None,\n",
      "   normalize=False, random_state=1, solver='cholesky', tol=0.001))\n",
      "('Fitted regression intercept:', -0.004152764727881855)\n",
      "('Fitted regression coefficients:', array([-0.10716316,  0.13069635,  0.01308549,  0.07577866, -0.22580645,\n",
      "        0.27997097,  0.04140736, -0.33525894,  0.32490192, -0.30729217,\n",
      "       -0.20630381, -0.45192671]))\n",
      "('Coefficient of determination (R-squared):', 0.4790911049834573)\n",
      "{'normalize': False, 'fit_intercept': True, 'max_iter': None, 'random_state': 1, 'tol': 0.001, 'copy_X': True, 'alpha': 0.1, 'solver': 'cholesky'}\n",
      "('Root mean-squared error:', 0.33277582048406606, '\\n--------------------------------------------------------\\n')\n",
      "('\\nRegression evaluation for:', 'Lasso')\n",
      "('  Scikit Learn method:', Lasso(alpha=0.1, copy_X=True, fit_intercept=True, max_iter=1000,\n",
      "   normalize=False, positive=False, precompute=False, random_state=1,\n",
      "   selection='cyclic', tol=0.0001, warm_start=False))\n",
      "('Fitted regression intercept:', 0.00666234494211472)\n",
      "('Fitted regression coefficients:', array([-0.00442128,  0.        , -0.        ,  0.0161185 , -0.        ,\n",
      "        0.30717901, -0.        , -0.        , -0.        , -0.        ,\n",
      "       -0.14341262, -0.40622764]))\n",
      "('Coefficient of determination (R-squared):', 0.5589356709658164)\n",
      "{'normalize': False, 'warm_start': False, 'selection': 'cyclic', 'fit_intercept': True, 'positive': False, 'max_iter': 1000, 'precompute': False, 'random_state': 1, 'tol': 0.0001, 'copy_X': True, 'alpha': 0.1}\n",
      "('Root mean-squared error:', 0.30621174473448537, '\\n--------------------------------------------------------\\n')\n",
      "('\\nRegression evaluation for:', 'Elastic Net')\n",
      "('  Scikit Learn method:', ElasticNet(alpha=0.1, copy_X=True, fit_intercept=True, l1_ratio=0.5,\n",
      "      max_iter=1000, normalize=False, positive=False, precompute=False,\n",
      "      random_state=1, selection='cyclic', tol=0.0001, warm_start=False))\n",
      "('Fitted regression intercept:', 0.0019254517773760749)\n",
      "('Fitted regression coefficients:', array([-0.03470337,  0.        , -0.        ,  0.05147872, -0.02725247,\n",
      "        0.32150297, -0.        , -0.05157068, -0.        , -0.02702968,\n",
      "       -0.16414203, -0.39798532]))\n",
      "('Coefficient of determination (R-squared):', 0.5750557926062987)\n",
      "{'normalize': False, 'warm_start': False, 'selection': 'cyclic', 'fit_intercept': True, 'l1_ratio': 0.5, 'max_iter': 1000, 'precompute': False, 'random_state': 1, 'tol': 0.0001, 'positive': False, 'copy_X': True, 'alpha': 0.1}\n",
      "('Root mean-squared error:', 0.30056391079608297, '\\n--------------------------------------------------------\\n')\n",
      "('\\nRegression evaluation for:', 'Ridge_1')\n",
      "('  Scikit Learn method:', Ridge(alpha=1, copy_X=True, fit_intercept=True, max_iter=None,\n",
      "   normalize=False, random_state=1, solver='cholesky', tol=0.001))\n",
      "('Fitted regression intercept:', -0.00404698471111016)\n",
      "('Fitted regression coefficients:', array([-0.1062208 ,  0.12898963,  0.01027023,  0.07626349, -0.22318889,\n",
      "        0.28120051,  0.04024883, -0.33306706,  0.31335445, -0.29634758,\n",
      "       -0.20533716, -0.4500005 ]))\n",
      "('Coefficient of determination (R-squared):', 0.4886205199966567)\n",
      "{'normalize': False, 'fit_intercept': True, 'max_iter': None, 'random_state': 1, 'tol': 0.001, 'copy_X': True, 'alpha': 1, 'solver': 'cholesky'}\n",
      "('Root mean-squared error:', 0.32971789972238935, '\\n--------------------------------------------------------\\n')\n",
      "('\\nRegression evaluation for:', 'Lasso_1')\n",
      "('  Scikit Learn method:', Lasso(alpha=1, copy_X=True, fit_intercept=True, max_iter=1000,\n",
      "   normalize=False, positive=False, precompute=False, random_state=1,\n",
      "   selection='cyclic', tol=0.0001, warm_start=False))\n",
      "('Fitted regression intercept:', 0.0427553343946213)\n",
      "('Fitted regression coefficients:', array([-0.,  0., -0.,  0., -0.,  0., -0.,  0., -0., -0., -0., -0.]))\n",
      "('Coefficient of determination (R-squared):', -0.8806430005207693)\n",
      "{'normalize': False, 'warm_start': False, 'selection': 'cyclic', 'fit_intercept': True, 'positive': False, 'max_iter': 1000, 'precompute': False, 'random_state': 1, 'tol': 0.0001, 'copy_X': True, 'alpha': 1}\n",
      "('Root mean-squared error:', 0.6323012743846262, '\\n--------------------------------------------------------\\n')\n",
      "('\\nRegression evaluation for:', 'Elastic Net_1')\n",
      "('  Scikit Learn method:', ElasticNet(alpha=1, copy_X=True, fit_intercept=True, l1_ratio=0.5,\n",
      "      max_iter=1000, normalize=False, positive=False, precompute=False,\n",
      "      random_state=1, selection='cyclic', tol=0.0001, warm_start=False))\n",
      "('Fitted regression intercept:', 0.03488585251915702)\n",
      "('Fitted regression coefficients:', array([-0.        ,  0.        , -0.        ,  0.        , -0.        ,\n",
      "        0.09630738, -0.        ,  0.        , -0.        , -0.        ,\n",
      "       -0.        , -0.14184178]))\n",
      "('Coefficient of determination (R-squared):', -0.21195475213035708)\n",
      "{'normalize': False, 'warm_start': False, 'selection': 'cyclic', 'fit_intercept': True, 'l1_ratio': 0.5, 'max_iter': 1000, 'precompute': False, 'random_state': 1, 'tol': 0.0001, 'positive': False, 'copy_X': True, 'alpha': 1}\n",
      "('Root mean-squared error:', 0.5075911940282776, '\\n--------------------------------------------------------\\n')\n",
      "('\\nRegression evaluation for:', 'Ridge_.5')\n",
      "('  Scikit Learn method:', Ridge(alpha=0.5, copy_X=True, fit_intercept=True, max_iter=None,\n",
      "   normalize=False, random_state=1, solver='cholesky', tol=0.001))\n",
      "('Fitted regression intercept:', -0.004104225905811977)\n",
      "('Fitted regression coefficients:', array([-0.10673788,  0.12992764,  0.01180887,  0.07599865, -0.22463553,\n",
      "        0.28052632,  0.0408854 , -0.3342846 ,  0.31966741, -0.30232239,\n",
      "       -0.20586851, -0.45106363]))\n",
      "('Coefficient of determination (R-squared):', 0.4834718451093415)\n",
      "{'normalize': False, 'fit_intercept': True, 'max_iter': None, 'random_state': 1, 'tol': 0.001, 'copy_X': True, 'alpha': 0.5, 'solver': 'cholesky'}\n",
      "('Root mean-squared error:', 0.3313735769047355, '\\n--------------------------------------------------------\\n')\n",
      "('\\nRegression evaluation for:', 'Lasso_.5')\n",
      "('  Scikit Learn method:', Lasso(alpha=0.5, copy_X=True, fit_intercept=True, max_iter=1000,\n",
      "   normalize=False, positive=False, precompute=False, random_state=1,\n",
      "   selection='cyclic', tol=0.0001, warm_start=False))\n",
      "('Fitted regression intercept:', 0.032524714841680444)\n",
      "('Fitted regression coefficients:', array([-0.        ,  0.        , -0.        ,  0.        , -0.        ,\n",
      "        0.10355272, -0.        ,  0.        , -0.        , -0.        ,\n",
      "       -0.        , -0.20513459]))\n",
      "('Coefficient of determination (R-squared):', -0.0508676525152052)\n",
      "{'normalize': False, 'warm_start': False, 'selection': 'cyclic', 'fit_intercept': True, 'positive': False, 'max_iter': 1000, 'precompute': False, 'random_state': 1, 'tol': 0.0001, 'copy_X': True, 'alpha': 0.5}\n",
      "('Root mean-squared error:', 0.4726556874512786, '\\n--------------------------------------------------------\\n')\n",
      "('\\nRegression evaluation for:', 'Elastic Net_.5')\n",
      "('  Scikit Learn method:', ElasticNet(alpha=0.5, copy_X=True, fit_intercept=True, l1_ratio=0.5,\n",
      "      max_iter=1000, normalize=False, positive=False, precompute=False,\n",
      "      random_state=1, selection='cyclic', tol=0.0001, warm_start=False))\n",
      "('Fitted regression intercept:', 0.02080594413618083)\n",
      "('Fitted regression coefficients:', array([-0.        ,  0.        , -0.        ,  0.        , -0.        ,\n",
      "        0.21898602, -0.        ,  0.        , -0.        , -0.        ,\n",
      "       -0.06464056, -0.28188226]))\n",
      "('Coefficient of determination (R-squared):', 0.3611787565764346)\n",
      "{'normalize': False, 'warm_start': False, 'selection': 'cyclic', 'fit_intercept': True, 'l1_ratio': 0.5, 'max_iter': 1000, 'precompute': False, 'random_state': 1, 'tol': 0.0001, 'positive': False, 'copy_X': True, 'alpha': 0.5}\n",
      "('Root mean-squared error:', 0.3685195660093813, '\\n--------------------------------------------------------\\n')\n"
     ]
    }
   ],
   "source": [
    "# check the splitting process by looking at fold observation counts\n",
    "index_for_fold = 0  # fold count initialized \n",
    "for train_index, test_index in kf.split(model_data):\n",
    "    print('\\nFold index:', index_for_fold,\n",
    "          '------------------------------------------')\n",
    "#   note that 0:model_data.shape[1]-1 slices for explanatory variables\n",
    "#   and model_data.shape[1]-1 is the index for the response variable    \n",
    "    X_train = model_data[train_index, 1:model_data.shape[1]]\n",
    "    X_test = model_data[test_index, 1:model_data.shape[1]]\n",
    "    y_train = model_data[train_index, 0]\n",
    "    y_test = model_data[test_index, 0]   \n",
    "    print('\\nShape of input data for this fold:',\n",
    "          '\\nData Set: (Observations, Variables)')\n",
    "    print('X_train:', X_train.shape)\n",
    "    print('X_test:',X_test.shape)\n",
    "    print('y_train:', y_train.shape)\n",
    "    print('y_test:',y_test.shape)\n",
    "\n",
    "    index_for_method = 0  # initialize\n",
    "    for name, lin_model in zip(names, regressions):\n",
    "        print('\\nRegression evaluation for:', name)\n",
    "        print('  Scikit Learn method:', lin_model)\n",
    "        lin_model.fit(X_train, y_train)  # fit on the train set for this fold\n",
    "        print('Fitted regression intercept:', lin_model.intercept_)\n",
    "        print('Fitted regression coefficients:', lin_model.coef_)\n",
    "        # evaluate on the test set for this fold\n",
    "        y_test_predict = lin_model.predict(X_test)\n",
    "        print('Coefficient of determination (R-squared):',\n",
    "              r2_score(y_test, y_test_predict))\n",
    "        fold_method_result = sqrt(mean_squared_error(y_test, y_test_predict))\n",
    "        print(lin_model.get_params(deep=True))\n",
    "        print('Root mean-squared error:', fold_method_result,\n",
    "              '\\n--------------------------------------------------------\\n')\n",
    "        cv_results[index_for_fold, index_for_method] = fold_method_result\n",
    "        index_for_method += 1\n",
    "    \n",
    "    index_for_fold += 1"
   ]
  },
  {
   "cell_type": "code",
   "execution_count": 0,
   "metadata": {
    "colab": {
     "autoexec": {
      "startup": false,
      "wait_interval": 0
     }
    },
    "colab_type": "code",
    "id": "idn975f3ye9G"
   },
   "outputs": [],
   "source": [
    "cv_results_df = pd.DataFrame(cv_results)\n",
    "cv_results_df.columns = names"
   ]
  },
  {
   "cell_type": "code",
   "execution_count": 185,
   "metadata": {
    "colab": {
     "autoexec": {
      "startup": false,
      "wait_interval": 0
     },
     "base_uri": "https://localhost:8080/",
     "height": 238
    },
    "colab_type": "code",
    "executionInfo": {
     "elapsed": 236,
     "status": "ok",
     "timestamp": 1532191114980,
     "user": {
      "displayName": "dalya adams",
      "photoUrl": "https://lh3.googleusercontent.com/a/default-user=s128",
      "userId": "101705127410802501621"
     },
     "user_tz": 240
    },
    "id": "G5EpFLzN1sH6",
    "outputId": "f116636f-42db-428d-f1fa-d820fb303ce7"
   },
   "outputs": [
    {
     "name": "stdout",
     "output_type": "stream",
     "text": [
      "Root Mean Squared Errors\n",
      "----------------------------------------------\n",
      "Linear            0.56194\n",
      "Ridge             0.56179\n",
      "Lasso             0.58697\n",
      "Elastic Net       0.56845\n",
      "Ridge_1           0.56051\n",
      "Lasso_1           0.96809\n",
      "Elastic Net_1     0.85004\n",
      "Ridge_.5          0.56121\n",
      "Lasso_.5          0.83038\n",
      "Elastic Net_.5    0.67567\n",
      "dtype: float64\n"
     ]
    }
   ],
   "source": [
    "pd.set_option('precision', 5)\n",
    "print('Root Mean Squared Errors\\n----------------------------------------------')\n",
    "#print('Average results from ', N_FOLDS, '-fold cross-validation\\n',\n",
    "#      'in standardized units (mean 0, standard deviation 1)\\n',\n",
    "#      '\\nMethod Root mean-squared error', sep = '') \n",
    "print(cv_results_df.mean())   \n",
    "with open(\"cv-results-df-mean.txt\", \"w\") as text_file:\n",
    "    text_file.write('\\nAverage results from '+ str(N_FOLDS) + '-fold cross-validation\\n'+\n",
    "                    'in standardized units (mean 0, standard deviation 1)\\n'+\n",
    "                     '\\nMethod Root mean-squared error:\\n'+ \n",
    "                     str(cv_results_df.mean()))"
   ]
  },
  {
   "cell_type": "markdown",
   "metadata": {
    "colab_type": "text",
    "id": "Hbijkgj-0xSC"
   },
   "source": [
    "Ridge with alpha of 1 performed the best, based on the lowest RMSE. Now lets use the unstandardized dataset and run through the same algorithm"
   ]
  },
  {
   "cell_type": "code",
   "execution_count": 186,
   "metadata": {
    "colab": {
     "autoexec": {
      "startup": false,
      "wait_interval": 0
     },
     "base_uri": "https://localhost:8080/",
     "height": 108
    },
    "colab_type": "code",
    "executionInfo": {
     "elapsed": 292,
     "status": "ok",
     "timestamp": 1532191117067,
     "user": {
      "displayName": "dalya adams",
      "photoUrl": "https://lh3.googleusercontent.com/a/default-user=s128",
      "userId": "101705127410802501621"
     },
     "user_tz": 240
    },
    "id": "2suzqs7P0wEW",
    "outputId": "615e6937-dcd6-4401-fac1-b604f9b4d8f7"
   },
   "outputs": [
    {
     "data": {
      "text/plain": [
       "Index([u'crim', u'zn', u'indus', u'chas', u'nox', u'rooms', u'age', u'dis', u'rad', u'tax', u'ptratio', u'lstat',\n",
       "       u'mv'],\n",
       "      dtype='object')"
      ]
     },
     "execution_count": 186,
     "metadata": {
      "tags": []
     },
     "output_type": "execute_result"
    }
   ],
   "source": [
    "boston.columns"
   ]
  },
  {
   "cell_type": "code",
   "execution_count": 0,
   "metadata": {
    "colab": {
     "autoexec": {
      "startup": false,
      "wait_interval": 0
     }
    },
    "colab_type": "code",
    "id": "cwjk6jczquKt"
   },
   "outputs": [],
   "source": [
    "#X=boston[['mv','crim', 'zn', 'indus', 'chas', 'nox', 'rooms', 'age', 'dis', 'rad', 'tax', 'ptratio', 'lstat']]\n",
    "#y=boston[['mv']]"
   ]
  },
  {
   "cell_type": "code",
   "execution_count": 0,
   "metadata": {
    "colab": {
     "autoexec": {
      "startup": false,
      "wait_interval": 0
     }
    },
    "colab_type": "code",
    "id": "A3vUghlies54"
   },
   "outputs": [],
   "source": [
    "#|X.columns\n",
    "#X_train, X_test, y_train, y_test = train_test_split(\n",
    "#...     X, y, test_size=0.33, random_state=42)"
   ]
  },
  {
   "cell_type": "code",
   "execution_count": 189,
   "metadata": {
    "colab": {
     "autoexec": {
      "startup": false,
      "wait_interval": 0
     },
     "base_uri": "https://localhost:8080/",
     "height": 18907
    },
    "colab_type": "code",
    "executionInfo": {
     "elapsed": 865,
     "status": "ok",
     "timestamp": 1532191120575,
     "user": {
      "displayName": "dalya adams",
      "photoUrl": "https://lh3.googleusercontent.com/a/default-user=s128",
      "userId": "101705127410802501621"
     },
     "user_tz": 240
    },
    "id": "lysAA3iDnmXB",
    "outputId": "8d7c8fb1-812b-43fc-8f9b-47f44e9fbdb3"
   },
   "outputs": [
    {
     "name": "stdout",
     "output_type": "stream",
     "text": [
      "('\\nFold index:', 0, '------------------------------------------')\n",
      "('\\nShape of input data for this fold:', '\\nData Set: (Observations, Variables)')\n",
      "('X_train:', (455, 12))\n",
      "('X_test:', (51, 12))\n",
      "('y_train:', (455,))\n",
      "('y_test:', (51,))\n",
      "('\\nRegression evaluation for:', 'Linear')\n",
      "('  Scikit Learn method:', LinearRegression(copy_X=True, fit_intercept=True, n_jobs=1, normalize=False))\n",
      "('Fitted regression intercept:', 42.94831053147826)\n",
      "('Fitted regression coefficients:', array([-1.18373016e-01,  5.34385738e-02,  1.88539674e-02,  2.84749568e+00,\n",
      "       -1.88259963e+01,  3.50161780e+00,  2.12131600e-03, -1.61701255e+00,\n",
      "        2.85097890e-01, -1.26125846e-02, -9.10049014e-01, -5.85056003e-01]))\n",
      "('Coefficient of determination (R-squared):', 0.7650752349379002)\n",
      "{'copy_X': True, 'normalize': False, 'n_jobs': 1, 'fit_intercept': True}\n",
      "('Root mean-squared error:', 2.8256245911114384, '\\n--------------------------------------------------------\\n')\n",
      "('\\nRegression evaluation for:', 'Ridge')\n",
      "('  Scikit Learn method:', Ridge(alpha=0.1, copy_X=True, fit_intercept=True, max_iter=None,\n",
      "   normalize=False, random_state=1, solver='cholesky', tol=0.001))\n",
      "('Fitted regression intercept:', 42.112889311915026)\n",
      "('Fitted regression coefficients:', array([-1.17753956e-01,  5.36471023e-02,  1.34242509e-02,  2.83061988e+00,\n",
      "       -1.76280678e+01,  3.50883497e+00,  9.84243919e-04, -1.60189038e+00,\n",
      "        2.81687755e-01, -1.27018774e-02, -8.93781531e-01, -5.87137532e-01]))\n",
      "('Coefficient of determination (R-squared):', 0.7649717911778129)\n",
      "{'normalize': False, 'fit_intercept': True, 'max_iter': None, 'random_state': 1, 'tol': 0.001, 'copy_X': True, 'alpha': 0.1, 'solver': 'cholesky'}\n",
      "('Root mean-squared error:', 2.8262466223032985, '\\n--------------------------------------------------------\\n')\n",
      "('\\nRegression evaluation for:', 'Lasso')\n",
      "('  Scikit Learn method:', Lasso(alpha=0.1, copy_X=True, fit_intercept=True, max_iter=1000,\n",
      "   normalize=False, positive=False, precompute=False, random_state=1,\n",
      "   selection='cyclic', tol=0.0001, warm_start=False))\n",
      "('Fitted regression intercept:', 31.32898127902591)\n",
      "('Fitted regression coefficients:', array([-0.10747664,  0.05619405, -0.05259757,  1.27388003, -0.        ,\n",
      "        3.38531593, -0.01015585, -1.31571593,  0.24049977, -0.01482535,\n",
      "       -0.66658659, -0.63869867]))\n",
      "('Coefficient of determination (R-squared):', 0.7464199140346729)\n",
      "{'normalize': False, 'warm_start': False, 'selection': 'cyclic', 'fit_intercept': True, 'positive': False, 'max_iter': 1000, 'precompute': False, 'random_state': 1, 'tol': 0.0001, 'copy_X': True, 'alpha': 0.1}\n",
      "('Root mean-squared error:', 2.935672694038604, '\\n--------------------------------------------------------\\n')\n",
      "('\\nRegression evaluation for:', 'Elastic Net')\n",
      "('  Scikit Learn method:', ElasticNet(alpha=0.1, copy_X=True, fit_intercept=True, l1_ratio=0.5,\n",
      "      max_iter=1000, normalize=False, positive=False, precompute=False,\n",
      "      random_state=1, selection='cyclic', tol=0.0001, warm_start=False))\n",
      "('Fitted regression intercept:', 34.523349003364565)\n",
      "('Fitted regression coefficients:', array([-0.10930749,  0.05762141, -0.05806416,  1.16319882, -0.17827829,\n",
      "        3.01273039, -0.00757146, -1.32958404,  0.25485106, -0.01521169,\n",
      "       -0.69301808, -0.66301437]))\n",
      "('Coefficient of determination (R-squared):', 0.7378902099801059)\n",
      "{'normalize': False, 'warm_start': False, 'selection': 'cyclic', 'fit_intercept': True, 'l1_ratio': 0.5, 'max_iter': 1000, 'precompute': False, 'random_state': 1, 'tol': 0.0001, 'positive': False, 'copy_X': True, 'alpha': 0.1}\n",
      "('Root mean-squared error:', 2.9846381245360223, '\\n--------------------------------------------------------\\n')\n",
      "('\\nRegression evaluation for:', 'Ridge_1')\n",
      "('  Scikit Learn method:', Ridge(alpha=1, copy_X=True, fit_intercept=True, max_iter=None,\n",
      "   normalize=False, random_state=1, solver='cholesky', tol=0.001))\n",
      "('Fitted regression intercept:', 37.71780075262713)\n",
      "('Fitted regression coefficients:', array([-1.14491805e-01,  5.47911406e-02, -1.55672345e-02,  2.71072437e+00,\n",
      "       -1.12070429e+01,  3.53792241e+00, -4.99444561e-03, -1.52057020e+00,\n",
      "        2.63901238e-01, -1.32043840e-02, -8.07446939e-01, -5.99049808e-01]))\n",
      "('Coefficient of determination (R-squared):', 0.7616482080217761)\n",
      "{'normalize': False, 'fit_intercept': True, 'max_iter': None, 'random_state': 1, 'tol': 0.001, 'copy_X': True, 'alpha': 1, 'solver': 'cholesky'}\n",
      "('Root mean-squared error:', 2.846159743428187, '\\n--------------------------------------------------------\\n')\n",
      "('\\nRegression evaluation for:', 'Lasso_1')\n",
      "('  Scikit Learn method:', Lasso(alpha=1, copy_X=True, fit_intercept=True, max_iter=1000,\n",
      "   normalize=False, positive=False, precompute=False, random_state=1,\n",
      "   selection='cyclic', tol=0.0001, warm_start=False))\n",
      "('Fitted regression intercept:', 44.29858596411776)\n",
      "('Fitted regression coefficients:', array([-0.07395498,  0.0523672 , -0.00566156,  0.        , -0.        ,\n",
      "        0.87070557,  0.02304096, -0.77440397,  0.24103594, -0.01656635,\n",
      "       -0.61562698, -0.8072949 ]))\n",
      "('Coefficient of determination (R-squared):', 0.6680148636071849)\n",
      "{'normalize': False, 'warm_start': False, 'selection': 'cyclic', 'fit_intercept': True, 'positive': False, 'max_iter': 1000, 'precompute': False, 'random_state': 1, 'tol': 0.0001, 'copy_X': True, 'alpha': 1}\n",
      "('Root mean-squared error:', 3.358995181951175, '\\n--------------------------------------------------------\\n')\n",
      "('\\nRegression evaluation for:', 'Elastic Net_1')\n",
      "('  Scikit Learn method:', ElasticNet(alpha=1, copy_X=True, fit_intercept=True, l1_ratio=0.5,\n",
      "      max_iter=1000, normalize=False, positive=False, precompute=False,\n",
      "      random_state=1, selection='cyclic', tol=0.0001, warm_start=False))\n",
      "('Fitted regression intercept:', 45.24496526837575)\n",
      "('Fitted regression coefficients:', array([-0.08982577,  0.05399994, -0.03338799,  0.        , -0.        ,\n",
      "        0.90119324,  0.02344982, -0.84280589,  0.27105141, -0.01702259,\n",
      "       -0.65795598, -0.79816033]))\n",
      "('Coefficient of determination (R-squared):', 0.6759347205585494)\n",
      "{'normalize': False, 'warm_start': False, 'selection': 'cyclic', 'fit_intercept': True, 'l1_ratio': 0.5, 'max_iter': 1000, 'precompute': False, 'random_state': 1, 'tol': 0.0001, 'positive': False, 'copy_X': True, 'alpha': 1}\n",
      "('Root mean-squared error:', 3.318687139727568, '\\n--------------------------------------------------------\\n')\n",
      "('\\nRegression evaluation for:', 'Ridge_.5')\n",
      "('  Scikit Learn method:', Ridge(alpha=0.5, copy_X=True, fit_intercept=True, max_iter=None,\n",
      "   normalize=False, random_state=1, solver='cholesky', tol=0.001))\n",
      "('Fitted regression intercept:', 39.64143758826184)\n",
      "('Fitted regression coefficients:', array([-1.15921287e-01,  5.42771620e-02, -2.75737304e-03,  2.77189360e+00,\n",
      "       -1.40509148e+01,  3.52770368e+00, -2.37862166e-03, -1.55666098e+00,\n",
      "        2.71643208e-01, -1.29752514e-02, -8.45447479e-01, -5.93564717e-01]))\n",
      "('Coefficient of determination (R-squared):', 0.7637051669766726)\n",
      "{'normalize': False, 'fit_intercept': True, 'max_iter': None, 'random_state': 1, 'tol': 0.001, 'copy_X': True, 'alpha': 0.5, 'solver': 'cholesky'}\n",
      "('Root mean-squared error:', 2.8338520545360897, '\\n--------------------------------------------------------\\n')\n",
      "('\\nRegression evaluation for:', 'Lasso_.5')\n",
      "('  Scikit Learn method:', Lasso(alpha=0.5, copy_X=True, fit_intercept=True, max_iter=1000,\n",
      "   normalize=False, positive=False, precompute=False, random_state=1,\n",
      "   selection='cyclic', tol=0.0001, warm_start=False))\n",
      "('Fitted regression intercept:', 37.364210552525236)\n",
      "('Fitted regression coefficients:', array([-0.09412439,  0.05440981, -0.02617739,  0.        , -0.        ,\n",
      "        2.27712567,  0.00498108, -1.07857327,  0.24676955, -0.01598525,\n",
      "       -0.65588997, -0.71565065]))\n",
      "('Coefficient of determination (R-squared):', 0.725030161040972)\n",
      "{'normalize': False, 'warm_start': False, 'selection': 'cyclic', 'fit_intercept': True, 'positive': False, 'max_iter': 1000, 'precompute': False, 'random_state': 1, 'tol': 0.0001, 'copy_X': True, 'alpha': 0.5}\n",
      "('Root mean-squared error:', 3.0569799519949594, '\\n--------------------------------------------------------\\n')\n",
      "('\\nRegression evaluation for:', 'Elastic Net_.5')\n",
      "('  Scikit Learn method:', ElasticNet(alpha=0.5, copy_X=True, fit_intercept=True, l1_ratio=0.5,\n",
      "      max_iter=1000, normalize=False, positive=False, precompute=False,\n",
      "      random_state=1, selection='cyclic', tol=0.0001, warm_start=False))\n",
      "('Fitted regression intercept:', 42.76077432859814)\n",
      "('Fitted regression coefficients:', array([-0.10154745,  0.05704571, -0.04671301,  0.        , -0.        ,\n",
      "        1.63963592,  0.01039493, -1.09835902,  0.27882066, -0.01672785,\n",
      "       -0.70762487, -0.75542706]))\n",
      "('Coefficient of determination (R-squared):', 0.7070137253944524)\n",
      "{'normalize': False, 'warm_start': False, 'selection': 'cyclic', 'fit_intercept': True, 'l1_ratio': 0.5, 'max_iter': 1000, 'precompute': False, 'random_state': 1, 'tol': 0.0001, 'positive': False, 'copy_X': True, 'alpha': 0.5}\n",
      "('Root mean-squared error:', 3.155540065623633, '\\n--------------------------------------------------------\\n')\n",
      "('\\nFold index:', 1, '------------------------------------------')\n",
      "('\\nShape of input data for this fold:', '\\nData Set: (Observations, Variables)')\n",
      "('X_train:', (455, 12))\n",
      "('X_test:', (51, 12))\n",
      "('y_train:', (455,))\n",
      "('y_test:', (51,))\n",
      "('\\nRegression evaluation for:', 'Linear')\n",
      "('  Scikit Learn method:', LinearRegression(copy_X=True, fit_intercept=True, n_jobs=1, normalize=False))\n",
      "('Fitted regression intercept:', 47.403987533793384)\n",
      "('Fitted regression coefficients:', array([-1.21875933e-01,  5.40769915e-02,  4.07006705e-02,  2.66538891e+00,\n",
      "       -2.19205324e+01,  3.26801012e+00,  3.92851019e-03, -1.66964492e+00,\n",
      "        3.02927835e-01, -1.38714119e-02, -9.60716666e-01, -5.81912682e-01]))\n",
      "('Coefficient of determination (R-squared):', 0.4606757462846346)\n",
      "{'copy_X': True, 'normalize': False, 'n_jobs': 1, 'fit_intercept': True}\n",
      "('Root mean-squared error:', 3.8058130868094318, '\\n--------------------------------------------------------\\n')\n",
      "('\\nRegression evaluation for:', 'Ridge')\n",
      "('  Scikit Learn method:', Ridge(alpha=0.1, copy_X=True, fit_intercept=True, max_iter=None,\n",
      "   normalize=False, random_state=1, solver='cholesky', tol=0.001))\n",
      "('Fitted regression intercept:', 46.40587519103481)\n",
      "('Fitted regression coefficients:', array([-1.21316006e-01,  5.44220917e-02,  3.46223514e-02,  2.65069898e+00,\n",
      "       -2.05066764e+01,  3.27947478e+00,  2.88615271e-03, -1.64722238e+00,\n",
      "        3.00256591e-01, -1.40151852e-02, -9.44950409e-01, -5.83463505e-01]))\n",
      "('Coefficient of determination (R-squared):', 0.4713209519036493)\n",
      "{'normalize': False, 'fit_intercept': True, 'max_iter': None, 'random_state': 1, 'tol': 0.001, 'copy_X': True, 'alpha': 0.1, 'solver': 'cholesky'}\n",
      "('Root mean-squared error:', 3.7680662440392436, '\\n--------------------------------------------------------\\n')\n",
      "('\\nRegression evaluation for:', 'Lasso')\n",
      "('  Scikit Learn method:', Lasso(alpha=0.1, copy_X=True, fit_intercept=True, max_iter=1000,\n",
      "   normalize=False, positive=False, precompute=False, random_state=1,\n",
      "   selection='cyclic', tol=0.0001, warm_start=False))\n",
      "('Fitted regression intercept:', 33.56981930897048)\n",
      "('Fitted regression coefficients:', array([-0.11214849,  0.06012736, -0.03567078,  1.1232907 , -0.        ,\n",
      "        3.20386047, -0.00723254, -1.26385568,  0.2737115 , -0.01702921,\n",
      "       -0.72899774, -0.62929789]))\n",
      "('Coefficient of determination (R-squared):', 0.5661737376287599)\n",
      "{'normalize': False, 'warm_start': False, 'selection': 'cyclic', 'fit_intercept': True, 'positive': False, 'max_iter': 1000, 'precompute': False, 'random_state': 1, 'tol': 0.0001, 'copy_X': True, 'alpha': 0.1}\n",
      "('Root mean-squared error:', 3.4133466728169775, '\\n--------------------------------------------------------\\n')\n",
      "('\\nRegression evaluation for:', 'Elastic Net')\n",
      "('  Scikit Learn method:', ElasticNet(alpha=0.1, copy_X=True, fit_intercept=True, l1_ratio=0.5,\n",
      "      max_iter=1000, normalize=False, positive=False, precompute=False,\n",
      "      random_state=1, selection='cyclic', tol=0.0001, warm_start=False))\n",
      "('Fitted regression intercept:', 36.647780617341354)\n",
      "('Fitted regression coefficients:', array([-0.11413983,  0.06209975, -0.03950876,  1.0787751 , -0.35326045,\n",
      "        2.84917834, -0.00446942, -1.27748668,  0.28852452, -0.01742211,\n",
      "       -0.75409548, -0.65112785]))\n",
      "('Coefficient of determination (R-squared):', 0.5391806099732405)\n",
      "{'normalize': False, 'warm_start': False, 'selection': 'cyclic', 'fit_intercept': True, 'l1_ratio': 0.5, 'max_iter': 1000, 'precompute': False, 'random_state': 1, 'tol': 0.0001, 'positive': False, 'copy_X': True, 'alpha': 0.1}\n",
      "('Root mean-squared error:', 3.517935332817824, '\\n--------------------------------------------------------\\n')\n",
      "('\\nRegression evaluation for:', 'Ridge_1')\n",
      "('  Scikit Learn method:', Ridge(alpha=1, copy_X=True, fit_intercept=True, max_iter=None,\n",
      "   normalize=False, random_state=1, solver='cholesky', tol=0.001))\n",
      "('Fitted regression intercept:', 41.16853755350096)\n",
      "('Fitted regression coefficients:', array([-1.18391441e-01,  5.63145893e-02,  2.41392105e-03,  2.54450042e+00,\n",
      "       -1.29740638e+01,  3.33109815e+00, -2.55653107e-03, -1.52753104e+00,\n",
      "        2.86560479e-01, -1.48072101e-02, -8.61743742e-01, -5.92472954e-01]))\n",
      "('Coefficient of determination (R-squared):', 0.5217092020644004)\n",
      "{'normalize': False, 'fit_intercept': True, 'max_iter': None, 'random_state': 1, 'tol': 0.001, 'copy_X': True, 'alpha': 1, 'solver': 'cholesky'}\n",
      "('Root mean-squared error:', 3.5840040540610563, '\\n--------------------------------------------------------\\n')\n",
      "('\\nRegression evaluation for:', 'Lasso_1')\n",
      "('  Scikit Learn method:', Lasso(alpha=1, copy_X=True, fit_intercept=True, max_iter=1000,\n",
      "   normalize=False, positive=False, precompute=False, random_state=1,\n",
      "   selection='cyclic', tol=0.0001, warm_start=False))\n",
      "('Fitted regression intercept:', 47.54773381592179)\n",
      "('Fitted regression coefficients:', array([-0.08107626,  0.06303243, -0.        ,  0.        , -0.        ,\n",
      "        0.56911738,  0.0239407 , -0.74935898,  0.28480317, -0.01820702,\n",
      "       -0.69314256, -0.80384122]))\n",
      "('Coefficient of determination (R-squared):', 0.32848463910556003)\n",
      "{'normalize': False, 'warm_start': False, 'selection': 'cyclic', 'fit_intercept': True, 'positive': False, 'max_iter': 1000, 'precompute': False, 'random_state': 1, 'tol': 0.0001, 'copy_X': True, 'alpha': 1}\n",
      "('Root mean-squared error:', 4.246688981650514, '\\n--------------------------------------------------------\\n')\n",
      "('\\nRegression evaluation for:', 'Elastic Net_1')\n",
      "('  Scikit Learn method:', ElasticNet(alpha=1, copy_X=True, fit_intercept=True, l1_ratio=0.5,\n",
      "      max_iter=1000, normalize=False, positive=False, precompute=False,\n",
      "      random_state=1, selection='cyclic', tol=0.0001, warm_start=False))\n",
      "('Fitted regression intercept:', 46.725585303119004)\n",
      "('Fitted regression coefficients:', array([-0.09564247,  0.06527882, -0.        ,  0.        , -0.        ,\n",
      "        0.80222269,  0.02287901, -0.80253422,  0.31547815, -0.01937339,\n",
      "       -0.71419039, -0.78635604]))\n",
      "('Coefficient of determination (R-squared):', 0.3473613430341792)\n",
      "{'normalize': False, 'warm_start': False, 'selection': 'cyclic', 'fit_intercept': True, 'l1_ratio': 0.5, 'max_iter': 1000, 'precompute': False, 'random_state': 1, 'tol': 0.0001, 'positive': False, 'copy_X': True, 'alpha': 1}\n",
      "('Root mean-squared error:', 4.186575009216591, '\\n--------------------------------------------------------\\n')\n",
      "('\\nRegression evaluation for:', 'Ridge_.5')\n",
      "('  Scikit Learn method:', Ridge(alpha=0.5, copy_X=True, fit_intercept=True, max_iter=None,\n",
      "   normalize=False, random_state=1, solver='cholesky', tol=0.001))\n",
      "('Fitted regression intercept:', 43.45926932851671)\n",
      "('Fitted regression coefficients:', array([-1.19666983e-01,  5.54638286e-02,  1.65905263e-02,  2.59907445e+00,\n",
      "       -1.63007754e+01,  3.31093003e+00, -1.83533514e-04, -1.58045709e+00,\n",
      "        2.92461196e-01, -1.44502325e-02, -8.98272753e-01, -5.88286655e-01]))\n",
      "('Coefficient of determination (R-squared):', 0.5008244431403415)\n",
      "{'normalize': False, 'fit_intercept': True, 'max_iter': None, 'random_state': 1, 'tol': 0.001, 'copy_X': True, 'alpha': 0.5, 'solver': 'cholesky'}\n",
      "('Root mean-squared error:', 3.661416506548418, '\\n--------------------------------------------------------\\n')\n",
      "('\\nRegression evaluation for:', 'Lasso_.5')\n",
      "('  Scikit Learn method:', Lasso(alpha=0.5, copy_X=True, fit_intercept=True, max_iter=1000,\n",
      "   normalize=False, positive=False, precompute=False, random_state=1,\n",
      "   selection='cyclic', tol=0.0001, warm_start=False))\n",
      "('Fitted regression intercept:', 39.942206879499466)\n",
      "('Fitted regression coefficients:', array([-0.09929842,  0.06190738, -0.        ,  0.        , -0.        ,\n",
      "        2.05130476,  0.00644185, -1.02612651,  0.28843664, -0.0183547 ,\n",
      "       -0.72387743, -0.71013883]))\n",
      "('Coefficient of determination (R-squared):', 0.4737219641311242)\n",
      "{'normalize': False, 'warm_start': False, 'selection': 'cyclic', 'fit_intercept': True, 'positive': False, 'max_iter': 1000, 'precompute': False, 'random_state': 1, 'tol': 0.0001, 'copy_X': True, 'alpha': 0.5}\n",
      "('Root mean-squared error:', 3.7595001125136314, '\\n--------------------------------------------------------\\n')\n",
      "('\\nRegression evaluation for:', 'Elastic Net_.5')\n",
      "('  Scikit Learn method:', ElasticNet(alpha=0.5, copy_X=True, fit_intercept=True, l1_ratio=0.5,\n",
      "      max_iter=1000, normalize=False, positive=False, precompute=False,\n",
      "      random_state=1, selection='cyclic', tol=0.0001, warm_start=False))\n",
      "('Fitted regression intercept:', 44.41258294135129)\n",
      "('Fitted regression coefficients:', array([-0.10694227,  0.06573931, -0.016115  ,  0.        , -0.        ,\n",
      "        1.51344367,  0.01165731, -1.04514498,  0.32027796, -0.0192224 ,\n",
      "       -0.76441571, -0.74295628]))\n",
      "('Coefficient of determination (R-squared):', 0.42413550482028783)\n",
      "{'normalize': False, 'warm_start': False, 'selection': 'cyclic', 'fit_intercept': True, 'l1_ratio': 0.5, 'max_iter': 1000, 'precompute': False, 'random_state': 1, 'tol': 0.0001, 'positive': False, 'copy_X': True, 'alpha': 0.5}\n",
      "('Root mean-squared error:', 3.9326258633184654, '\\n--------------------------------------------------------\\n')\n",
      "('\\nFold index:', 2, '------------------------------------------')\n",
      "('\\nShape of input data for this fold:', '\\nData Set: (Observations, Variables)')\n",
      "('X_train:', (455, 12))\n",
      "('X_test:', (51, 12))\n",
      "('y_train:', (455,))\n",
      "('y_test:', (51,))\n",
      "('\\nRegression evaluation for:', 'Linear')\n",
      "('  Scikit Learn method:', LinearRegression(copy_X=True, fit_intercept=True, n_jobs=1, normalize=False))\n",
      "('Fitted regression intercept:', 44.898906011830036)\n",
      "('Fitted regression coefficients:', array([-1.13842361e-01,  3.92971495e-02, -6.12697039e-02,  3.23644180e+00,\n",
      "       -2.38105623e+01,  3.49921729e+00,  1.26891520e-02, -1.57279572e+00,\n",
      "        3.05546270e-01, -9.49592799e-03, -9.18685892e-01, -6.20215279e-01]))\n",
      "('Coefficient of determination (R-squared):', -1.311175137650737)\n",
      "{'copy_X': True, 'normalize': False, 'n_jobs': 1, 'fit_intercept': True}\n",
      "('Root mean-squared error:', 4.026425004752752, '\\n--------------------------------------------------------\\n')\n",
      "('\\nRegression evaluation for:', 'Ridge')\n",
      "('  Scikit Learn method:', Ridge(alpha=0.1, copy_X=True, fit_intercept=True, max_iter=None,\n",
      "   normalize=False, random_state=1, solver='cholesky', tol=0.001))\n",
      "('Fitted regression intercept:', 43.80876258315455)\n",
      "('Fitted regression coefficients:', array([-1.13176413e-01,  3.95616568e-02, -6.68987016e-02,  3.21873480e+00,\n",
      "       -2.18434301e+01,  3.50303987e+00,  1.08773688e-02, -1.54416809e+00,\n",
      "        2.99626347e-01, -9.65448379e-03, -9.08475744e-01, -6.21043966e-01]))\n",
      "('Coefficient of determination (R-squared):', -1.1891601558720817)\n",
      "{'normalize': False, 'fit_intercept': True, 'max_iter': None, 'random_state': 1, 'tol': 0.001, 'copy_X': True, 'alpha': 0.1, 'solver': 'cholesky'}\n",
      "('Root mean-squared error:', 3.9186994279842167, '\\n--------------------------------------------------------\\n')\n",
      "('\\nRegression evaluation for:', 'Lasso')\n",
      "('  Scikit Learn method:', Lasso(alpha=0.1, copy_X=True, fit_intercept=True, max_iter=1000,\n",
      "   normalize=False, positive=False, precompute=False, random_state=1,\n",
      "   selection='cyclic', tol=0.0001, warm_start=False))\n",
      "('Fitted regression intercept:', 33.04055445407756)\n",
      "('Fitted regression coefficients:', array([-0.10520947,  0.04452701, -0.09369939,  1.58113982, -0.        ,\n",
      "        3.33320419, -0.00422588, -1.18100891,  0.24468201, -0.01292804,\n",
      "       -0.7966376 , -0.65176881]))\n",
      "('Coefficient of determination (R-squared):', -0.5108784463612348)\n",
      "{'normalize': False, 'warm_start': False, 'selection': 'cyclic', 'fit_intercept': True, 'positive': False, 'max_iter': 1000, 'precompute': False, 'random_state': 1, 'tol': 0.0001, 'copy_X': True, 'alpha': 0.1}\n",
      "('Root mean-squared error:', 3.2555018676591616, '\\n--------------------------------------------------------\\n')\n",
      "('\\nRegression evaluation for:', 'Elastic Net')\n",
      "('  Scikit Learn method:', ElasticNet(alpha=0.1, copy_X=True, fit_intercept=True, l1_ratio=0.5,\n",
      "      max_iter=1000, normalize=False, positive=False, precompute=False,\n",
      "      random_state=1, selection='cyclic', tol=0.0001, warm_start=False))\n",
      "('Fitted regression intercept:', 36.37358085724038)\n",
      "('Fitted regression coefficients:', array([-1.07246142e-01,  4.57105294e-02, -1.02520482e-01,  1.34664820e+00,\n",
      "       -1.21361807e-01,  2.96164745e+00, -1.69934182e-03, -1.19784570e+00,\n",
      "        2.61102803e-01, -1.32788639e-02, -8.31014435e-01, -6.76777097e-01]))\n",
      "('Coefficient of determination (R-squared):', -0.5861759574460925)\n",
      "{'normalize': False, 'warm_start': False, 'selection': 'cyclic', 'fit_intercept': True, 'l1_ratio': 0.5, 'max_iter': 1000, 'precompute': False, 'random_state': 1, 'tol': 0.0001, 'positive': False, 'copy_X': True, 'alpha': 0.1}\n",
      "('Root mean-squared error:', 3.3356376513101207, '\\n--------------------------------------------------------\\n')\n",
      "('\\nRegression evaluation for:', 'Ridge_1')\n",
      "('  Scikit Learn method:', Ridge(alpha=1, copy_X=True, fit_intercept=True, max_iter=None,\n",
      "   normalize=False, random_state=1, solver='cholesky', tol=0.001))\n",
      "('Fitted regression intercept:', 38.739528227271606)\n",
      "('Fitted regression coefficients:', array([-1.10114912e-01,  4.08916336e-02, -9.29988598e-02,  3.09175980e+00,\n",
      "       -1.25239807e+01,  3.51061814e+00,  2.42569989e-03, -1.40863072e+00,\n",
      "        2.72262727e-01, -1.04507603e-02, -8.61097377e-01, -6.25846836e-01]))\n",
      "('Coefficient of determination (R-squared):', -0.7752440008139703)\n",
      "{'normalize': False, 'fit_intercept': True, 'max_iter': None, 'random_state': 1, 'tol': 0.001, 'copy_X': True, 'alpha': 1, 'solver': 'cholesky'}\n",
      "('Root mean-squared error:', 3.5288419923606194, '\\n--------------------------------------------------------\\n')\n",
      "('\\nRegression evaluation for:', 'Lasso_1')\n",
      "('  Scikit Learn method:', Lasso(alpha=1, copy_X=True, fit_intercept=True, max_iter=1000,\n",
      "   normalize=False, positive=False, precompute=False, random_state=1,\n",
      "   selection='cyclic', tol=0.0001, warm_start=False))\n",
      "('Fitted regression intercept:', 46.47727163520952)\n",
      "('Fitted regression coefficients:', array([-0.07269986,  0.04832882, -0.        ,  0.        , -0.        ,\n",
      "        0.84352967,  0.02510312, -0.73232359,  0.24986809, -0.01557153,\n",
      "       -0.7560123 , -0.83048004]))\n",
      "('Coefficient of determination (R-squared):', -0.6584160014770248)\n",
      "{'normalize': False, 'warm_start': False, 'selection': 'cyclic', 'fit_intercept': True, 'positive': False, 'max_iter': 1000, 'precompute': False, 'random_state': 1, 'tol': 0.0001, 'copy_X': True, 'alpha': 1}\n",
      "('Root mean-squared error:', 3.4107502975195074, '\\n--------------------------------------------------------\\n')\n",
      "('\\nRegression evaluation for:', 'Elastic Net_1')\n",
      "('  Scikit Learn method:', ElasticNet(alpha=1, copy_X=True, fit_intercept=True, l1_ratio=0.5,\n",
      "      max_iter=1000, normalize=False, positive=False, precompute=False,\n",
      "      random_state=1, selection='cyclic', tol=0.0001, warm_start=False))\n",
      "('Fitted regression intercept:', 47.17528486500829)\n",
      "('Fitted regression coefficients:', array([-0.08794   ,  0.04955434, -0.03471269,  0.        , -0.        ,\n",
      "        0.89147803,  0.02461704, -0.80557082,  0.28266468, -0.01596526,\n",
      "       -0.78529313, -0.82236069]))\n",
      "('Coefficient of determination (R-squared):', -0.6759593733798728)\n",
      "{'normalize': False, 'warm_start': False, 'selection': 'cyclic', 'fit_intercept': True, 'l1_ratio': 0.5, 'max_iter': 1000, 'precompute': False, 'random_state': 1, 'tol': 0.0001, 'positive': False, 'copy_X': True, 'alpha': 1}\n",
      "('Root mean-squared error:', 3.4287429634315356, '\\n--------------------------------------------------------\\n')\n",
      "('\\nRegression evaluation for:', 'Ridge_.5')\n",
      "('  Scikit Learn method:', Ridge(alpha=0.5, copy_X=True, fit_intercept=True, max_iter=None,\n",
      "   normalize=False, random_state=1, solver='cholesky', tol=0.001))\n",
      "('Fitted regression intercept:', 40.829070905186654)\n",
      "('Fitted regression coefficients:', array([-1.11366887e-01,  4.03140787e-02, -8.22596101e-02,  3.15711691e+00,\n",
      "       -1.64162947e+01,  3.51051285e+00,  5.91749802e-03, -1.46521493e+00,\n",
      "        2.83494800e-01, -1.01052661e-02, -8.80598571e-01, -6.23586879e-01]))\n",
      "('Coefficient of determination (R-squared):', -0.9153728881398275)\n",
      "{'normalize': False, 'fit_intercept': True, 'max_iter': None, 'random_state': 1, 'tol': 0.001, 'copy_X': True, 'alpha': 0.5, 'solver': 'cholesky'}\n",
      "('Root mean-squared error:', 3.66547155677265, '\\n--------------------------------------------------------\\n')\n",
      "('\\nRegression evaluation for:', 'Lasso_.5')\n",
      "('  Scikit Learn method:', Lasso(alpha=0.5, copy_X=True, fit_intercept=True, max_iter=1000,\n",
      "   normalize=False, positive=False, precompute=False, random_state=1,\n",
      "   selection='cyclic', tol=0.0001, warm_start=False))\n",
      "('Fitted regression intercept:', 39.05835801110916)\n",
      "('Fitted regression coefficients:', array([-0.09278902,  0.04759821, -0.02737423,  0.        , -0.        ,\n",
      "        2.2592525 ,  0.00923743, -0.98470134,  0.25639067, -0.0152097 ,\n",
      "       -0.78380984, -0.73245309]))\n",
      "('Coefficient of determination (R-squared):', -0.4747509925676996)\n",
      "{'normalize': False, 'warm_start': False, 'selection': 'cyclic', 'fit_intercept': True, 'positive': False, 'max_iter': 1000, 'precompute': False, 'random_state': 1, 'tol': 0.0001, 'copy_X': True, 'alpha': 0.5}\n",
      "('Root mean-squared error:', 3.2163443151146835, '\\n--------------------------------------------------------\\n')\n",
      "('\\nRegression evaluation for:', 'Elastic Net_.5')\n",
      "('  Scikit Learn method:', ElasticNet(alpha=0.5, copy_X=True, fit_intercept=True, l1_ratio=0.5,\n",
      "      max_iter=1000, normalize=False, positive=False, precompute=False,\n",
      "      random_state=1, selection='cyclic', tol=0.0001, warm_start=False))\n",
      "('Fitted regression intercept:', 44.78717628287684)\n",
      "('Fitted regression coefficients:', array([-0.09992633,  0.04911681, -0.06681837,  0.        , -0.        ,\n",
      "        1.61448296,  0.01391425, -1.01890704,  0.29002663, -0.01538709,\n",
      "       -0.84726909, -0.77380754]))\n",
      "('Coefficient of determination (R-squared):', -0.6570113003195186)\n",
      "{'normalize': False, 'warm_start': False, 'selection': 'cyclic', 'fit_intercept': True, 'l1_ratio': 0.5, 'max_iter': 1000, 'precompute': False, 'random_state': 1, 'tol': 0.0001, 'positive': False, 'copy_X': True, 'alpha': 0.5}\n",
      "('Root mean-squared error:', 3.409305515316126, '\\n--------------------------------------------------------\\n')\n",
      "('\\nFold index:', 3, '------------------------------------------')\n",
      "('\\nShape of input data for this fold:', '\\nData Set: (Observations, Variables)')\n",
      "('X_train:', (455, 12))\n",
      "('X_test:', (51, 12))\n",
      "('y_train:', (455,))\n",
      "('y_test:', (51,))\n",
      "('\\nRegression evaluation for:', 'Linear')\n",
      "('  Scikit Learn method:', LinearRegression(copy_X=True, fit_intercept=True, n_jobs=1, normalize=False))\n",
      "('Fitted regression intercept:', 45.41507055377943)\n",
      "('Fitted regression coefficients:', array([-1.24949774e-01,  4.36402918e-02, -1.33154756e-04,  3.14689203e+00,\n",
      "       -1.63114318e+01,  2.85558897e+00,  2.27892228e-03, -1.39796237e+00,\n",
      "        2.87758221e-01, -1.26066331e-02, -9.47606162e-01, -5.64112965e-01]))\n",
      "('Coefficient of determination (R-squared):', 0.6328856607774336)\n",
      "{'copy_X': True, 'normalize': False, 'n_jobs': 1, 'fit_intercept': True}\n",
      "('Root mean-squared error:', 5.983096356609132, '\\n--------------------------------------------------------\\n')\n",
      "('\\nRegression evaluation for:', 'Ridge')\n",
      "('  Scikit Learn method:', Ridge(alpha=0.1, copy_X=True, fit_intercept=True, max_iter=None,\n",
      "   normalize=False, random_state=1, solver='cholesky', tol=0.001))\n",
      "('Fitted regression intercept:', 44.58750235882413)\n",
      "('Fitted regression coefficients:', array([-1.24477996e-01,  4.37352655e-02, -4.74547305e-03,  3.13966759e+00,\n",
      "       -1.51315160e+01,  2.86362173e+00,  1.16103458e-03, -1.37987598e+00,\n",
      "        2.85084572e-01, -1.27263890e-02, -9.33281808e-01, -5.65105559e-01]))\n",
      "('Coefficient of determination (R-squared):', 0.6305692785612048)\n",
      "{'normalize': False, 'fit_intercept': True, 'max_iter': None, 'random_state': 1, 'tol': 0.001, 'copy_X': True, 'alpha': 0.1, 'solver': 'cholesky'}\n",
      "('Root mean-squared error:', 6.001942453670567, '\\n--------------------------------------------------------\\n')\n",
      "('\\nRegression evaluation for:', 'Lasso')\n",
      "('  Scikit Learn method:', Lasso(alpha=0.1, copy_X=True, fit_intercept=True, max_iter=1000,\n",
      "   normalize=False, positive=False, precompute=False, random_state=1,\n",
      "   selection='cyclic', tol=0.0001, warm_start=False))\n",
      "('Fitted regression intercept:', 35.98959204131873)\n",
      "('Fitted regression coefficients:', array([-0.11816248,  0.04515297, -0.05004228,  1.54912015, -0.        ,\n",
      "        2.68668137, -0.00792788, -1.1027022 ,  0.26506786, -0.01525675,\n",
      "       -0.76403786, -0.60229002]))\n",
      "('Coefficient of determination (R-squared):', 0.5762259974214279)\n",
      "{'normalize': False, 'warm_start': False, 'selection': 'cyclic', 'fit_intercept': True, 'positive': False, 'max_iter': 1000, 'precompute': False, 'random_state': 1, 'tol': 0.0001, 'copy_X': True, 'alpha': 0.1}\n",
      "('Root mean-squared error:', 6.428245852347235, '\\n--------------------------------------------------------\\n')\n",
      "('\\nRegression evaluation for:', 'Elastic Net')\n",
      "('  Scikit Learn method:', ElasticNet(alpha=0.1, copy_X=True, fit_intercept=True, l1_ratio=0.5,\n",
      "      max_iter=1000, normalize=False, positive=False, precompute=False,\n",
      "      random_state=1, selection='cyclic', tol=0.0001, warm_start=False))\n",
      "('Fitted regression intercept:', 38.46716350348335)\n",
      "('Fitted regression coefficients:', array([-0.12052646,  0.04633022, -0.05605091,  1.28999529, -0.        ,\n",
      "        2.40113227, -0.00589979, -1.12058151,  0.277827  , -0.0156785 ,\n",
      "       -0.78508367, -0.62069936]))\n",
      "('Coefficient of determination (R-squared):', 0.5634862354458225)\n",
      "{'normalize': False, 'warm_start': False, 'selection': 'cyclic', 'fit_intercept': True, 'l1_ratio': 0.5, 'max_iter': 1000, 'precompute': False, 'random_state': 1, 'tol': 0.0001, 'positive': False, 'copy_X': True, 'alpha': 0.1}\n",
      "('Root mean-squared error:', 6.5241553621708075, '\\n--------------------------------------------------------\\n')\n",
      "('\\nRegression evaluation for:', 'Ridge_1')\n",
      "('  Scikit Learn method:', Ridge(alpha=1, copy_X=True, fit_intercept=True, max_iter=None,\n",
      "   normalize=False, random_state=1, solver='cholesky', tol=0.001))\n",
      "('Fitted regression intercept:', 40.493208648924394)\n",
      "('Fitted regression coefficients:', array([-1.22196993e-01,  4.42568500e-02, -2.79575363e-02,  3.05967356e+00,\n",
      "       -9.16666021e+00,  2.89466999e+00, -4.36964100e-03, -1.28871878e+00,\n",
      "        2.72212993e-01, -1.33638965e-02, -8.61842863e-01, -5.70890500e-01]))\n",
      "('Coefficient of determination (R-squared):', 0.6162118982230194)\n",
      "{'normalize': False, 'fit_intercept': True, 'max_iter': None, 'random_state': 1, 'tol': 0.001, 'copy_X': True, 'alpha': 1, 'solver': 'cholesky'}\n",
      "('Root mean-squared error:', 6.1174591274730075, '\\n--------------------------------------------------------\\n')\n",
      "('\\nRegression evaluation for:', 'Lasso_1')\n",
      "('  Scikit Learn method:', Lasso(alpha=1, copy_X=True, fit_intercept=True, max_iter=1000,\n",
      "   normalize=False, positive=False, precompute=False, random_state=1,\n",
      "   selection='cyclic', tol=0.0001, warm_start=False))\n",
      "('Fitted regression intercept:', 50.40474620025955)\n",
      "('Fitted regression coefficients:', array([-0.08795991,  0.04069299, -0.        ,  0.        , -0.        ,\n",
      "        0.        ,  0.02258861, -0.60916265,  0.28283018, -0.01721364,\n",
      "       -0.72301527, -0.77708151]))\n",
      "('Coefficient of determination (R-squared):', 0.3739365372689093)\n",
      "{'normalize': False, 'warm_start': False, 'selection': 'cyclic', 'fit_intercept': True, 'positive': False, 'max_iter': 1000, 'precompute': False, 'random_state': 1, 'tol': 0.0001, 'copy_X': True, 'alpha': 1}\n",
      "('Root mean-squared error:', 7.813300049328244, '\\n--------------------------------------------------------\\n')\n",
      "('\\nRegression evaluation for:', 'Elastic Net_1')\n",
      "('  Scikit Learn method:', ElasticNet(alpha=1, copy_X=True, fit_intercept=True, l1_ratio=0.5,\n",
      "      max_iter=1000, normalize=False, positive=False, precompute=False,\n",
      "      random_state=1, selection='cyclic', tol=0.0001, warm_start=False))\n",
      "('Fitted regression intercept:', 46.934884846979465)\n",
      "('Fitted regression coefficients:', array([-0.1031585 ,  0.04285196, -0.01503866,  0.        , -0.        ,\n",
      "        0.58447463,  0.01791548, -0.70389469,  0.29975353, -0.01765051,\n",
      "       -0.71408082, -0.73496182]))\n",
      "('Coefficient of determination (R-squared):', 0.42087447900165353)\n",
      "{'normalize': False, 'warm_start': False, 'selection': 'cyclic', 'fit_intercept': True, 'l1_ratio': 0.5, 'max_iter': 1000, 'precompute': False, 'random_state': 1, 'tol': 0.0001, 'positive': False, 'copy_X': True, 'alpha': 1}\n",
      "('Root mean-squared error:', 7.5147004772215595, '\\n--------------------------------------------------------\\n')\n",
      "('\\nRegression evaluation for:', 'Ridge_.5')\n",
      "('  Scikit Learn method:', Ridge(alpha=0.5, copy_X=True, fit_intercept=True, max_iter=None,\n",
      "   normalize=False, random_state=1, solver='cholesky', tol=0.001))\n",
      "('Fitted regression intercept:', 42.23191021735745)\n",
      "('Fitted regression coefficients:', array([-1.23150688e-01,  4.40204948e-02, -1.79861612e-02,  3.10627856e+00,\n",
      "       -1.17364644e+01,  2.88400191e+00, -2.02091820e-03, -1.32791642e+00,\n",
      "        2.77577410e-01, -1.30802438e-02, -8.92346890e-01, -5.68181550e-01]))\n",
      "('Coefficient of determination (R-squared):', 0.6229574100608699)\n",
      "{'normalize': False, 'fit_intercept': True, 'max_iter': None, 'random_state': 1, 'tol': 0.001, 'copy_X': True, 'alpha': 0.5, 'solver': 'cholesky'}\n",
      "('Root mean-squared error:', 6.0634601557781975, '\\n--------------------------------------------------------\\n')\n",
      "('\\nRegression evaluation for:', 'Lasso_.5')\n",
      "('  Scikit Learn method:', Lasso(alpha=0.5, copy_X=True, fit_intercept=True, max_iter=1000,\n",
      "   normalize=False, positive=False, precompute=False, random_state=1,\n",
      "   selection='cyclic', tol=0.0001, warm_start=False))\n",
      "('Fitted regression intercept:', 42.96333792707114)\n",
      "('Fitted regression coefficients:', array([-0.1065421 ,  0.04375951, -0.01569473,  0.        , -0.        ,\n",
      "        1.47370147,  0.00622527, -0.88721115,  0.28314409, -0.01682396,\n",
      "       -0.76155413, -0.68542764]))\n",
      "('Coefficient of determination (R-squared):', 0.4946655485852929)\n",
      "{'normalize': False, 'warm_start': False, 'selection': 'cyclic', 'fit_intercept': True, 'positive': False, 'max_iter': 1000, 'precompute': False, 'random_state': 1, 'tol': 0.0001, 'copy_X': True, 'alpha': 0.5}\n",
      "('Root mean-squared error:', 7.019638978260867, '\\n--------------------------------------------------------\\n')\n",
      "('\\nRegression evaluation for:', 'Elastic Net_.5')\n",
      "('  Scikit Learn method:', ElasticNet(alpha=0.5, copy_X=True, fit_intercept=True, l1_ratio=0.5,\n",
      "      max_iter=1000, normalize=False, positive=False, precompute=False,\n",
      "      random_state=1, selection='cyclic', tol=0.0001, warm_start=False))\n",
      "('Fitted regression intercept:', 45.498454050907185)\n",
      "('Fitted regression coefficients:', array([-0.11433037,  0.04572318, -0.03701895,  0.        , -0.        ,\n",
      "        1.20098963,  0.00863031, -0.93014993,  0.30468385, -0.01729021,\n",
      "       -0.78362191, -0.69999468]))\n",
      "('Coefficient of determination (R-squared):', 0.4822496588597752)\n",
      "{'normalize': False, 'warm_start': False, 'selection': 'cyclic', 'fit_intercept': True, 'l1_ratio': 0.5, 'max_iter': 1000, 'precompute': False, 'random_state': 1, 'tol': 0.0001, 'positive': False, 'copy_X': True, 'alpha': 0.5}\n",
      "('Root mean-squared error:', 7.105350726403653, '\\n--------------------------------------------------------\\n')\n",
      "('\\nFold index:', 4, '------------------------------------------')\n",
      "('\\nShape of input data for this fold:', '\\nData Set: (Observations, Variables)')\n",
      "('X_train:', (455, 12))\n",
      "('X_test:', (51, 12))\n",
      "('y_train:', (455,))\n",
      "('y_test:', (51,))\n",
      "('\\nRegression evaluation for:', 'Linear')\n",
      "('  Scikit Learn method:', LinearRegression(copy_X=True, fit_intercept=True, n_jobs=1, normalize=False))\n",
      "('Fitted regression intercept:', 49.28550717377007)\n",
      "('Fitted regression coefficients:', array([-1.18162844e-01,  5.81850832e-02, -7.58932140e-03,  4.60849593e+00,\n",
      "       -2.12742148e+01,  2.68311537e+00,  2.34497918e-02, -1.58966558e+00,\n",
      "        2.89825195e-01, -1.22160742e-02, -9.78717205e-01, -6.07740439e-01]))\n",
      "('Coefficient of determination (R-squared):', 0.5342286831540085)\n",
      "{'copy_X': True, 'normalize': False, 'n_jobs': 1, 'fit_intercept': True}\n",
      "('Root mean-squared error:', 5.703679957645045, '\\n--------------------------------------------------------\\n')\n",
      "('\\nRegression evaluation for:', 'Ridge')\n",
      "('  Scikit Learn method:', Ridge(alpha=0.1, copy_X=True, fit_intercept=True, max_iter=None,\n",
      "   normalize=False, random_state=1, solver='cholesky', tol=0.001))\n",
      "('Fitted regression intercept:', 48.28638352937124)\n",
      "('Fitted regression coefficients:', array([-1.17423973e-01,  5.84343934e-02, -1.27547762e-02,  4.52442260e+00,\n",
      "       -1.98672369e+01,  2.69797184e+00,  2.19851996e-02, -1.57007734e+00,\n",
      "        2.85823821e-01, -1.22821696e-02, -9.62448426e-01, -6.10199100e-01]))\n",
      "('Coefficient of determination (R-squared):', 0.5397650143967576)\n",
      "{'normalize': False, 'fit_intercept': True, 'max_iter': None, 'random_state': 1, 'tol': 0.001, 'copy_X': True, 'alpha': 0.1, 'solver': 'cholesky'}\n",
      "('Root mean-squared error:', 5.669680591832977, '\\n--------------------------------------------------------\\n')\n",
      "('\\nRegression evaluation for:', 'Lasso')\n",
      "('  Scikit Learn method:', Lasso(alpha=0.1, copy_X=True, fit_intercept=True, max_iter=1000,\n",
      "   normalize=False, positive=False, precompute=False, random_state=1,\n",
      "   selection='cyclic', tol=0.0001, warm_start=False))\n",
      "('Fitted regression intercept:', 35.786487093838204)\n",
      "('Fitted regression coefficients:', array([-0.10497089,  0.06355325, -0.06377852,  1.41145408, -0.        ,\n",
      "        2.67032047,  0.00546741, -1.24954069,  0.23568791, -0.0135943 ,\n",
      "       -0.74689399, -0.6761582 ]))\n",
      "('Coefficient of determination (R-squared):', 0.5843832279313381)\n",
      "{'normalize': False, 'warm_start': False, 'selection': 'cyclic', 'fit_intercept': True, 'positive': False, 'max_iter': 1000, 'precompute': False, 'random_state': 1, 'tol': 0.0001, 'copy_X': True, 'alpha': 0.1}\n",
      "('Root mean-squared error:', 5.387847701063725, '\\n--------------------------------------------------------\\n')\n",
      "('\\nRegression evaluation for:', 'Elastic Net')\n",
      "('  Scikit Learn method:', ElasticNet(alpha=0.1, copy_X=True, fit_intercept=True, l1_ratio=0.5,\n",
      "      max_iter=1000, normalize=False, positive=False, precompute=False,\n",
      "      random_state=1, selection='cyclic', tol=0.0001, warm_start=False))\n",
      "('Fitted regression intercept:', 38.2075241246027)\n",
      "('Fitted regression coefficients:', array([-0.10684545,  0.06522728, -0.06702378,  1.21033014, -0.21353621,\n",
      "        2.38420317,  0.00824249, -1.25905123,  0.24681985, -0.01386156,\n",
      "       -0.76805058, -0.69488249]))\n",
      "('Coefficient of determination (R-squared):', 0.5643706476387833)\n",
      "{'normalize': False, 'warm_start': False, 'selection': 'cyclic', 'fit_intercept': True, 'l1_ratio': 0.5, 'max_iter': 1000, 'precompute': False, 'random_state': 1, 'tol': 0.0001, 'positive': False, 'copy_X': True, 'alpha': 0.1}\n",
      "('Root mean-squared error:', 5.51603922343342, '\\n--------------------------------------------------------\\n')\n",
      "('\\nRegression evaluation for:', 'Ridge_1')\n",
      "('  Scikit Learn method:', Ridge(alpha=1, copy_X=True, fit_intercept=True, max_iter=None,\n",
      "   normalize=False, random_state=1, solver='cholesky', tol=0.001))\n",
      "('Fitted regression intercept:', 43.077779209971574)\n",
      "('Fitted regression coefficients:', array([ -0.11357812,   0.05983081,  -0.03962163,   4.02006984,\n",
      "       -12.43437512,   2.76898963,   0.01435464,  -1.46675563,\n",
      "         0.26513393,  -0.01264807,  -0.877439  ,  -0.62415619]))\n",
      "('Coefficient of determination (R-squared):', 0.5654652441953751)\n",
      "{'normalize': False, 'fit_intercept': True, 'max_iter': None, 'random_state': 1, 'tol': 0.001, 'copy_X': True, 'alpha': 1, 'solver': 'cholesky'}\n",
      "('Root mean-squared error:', 5.509104847838566, '\\n--------------------------------------------------------\\n')\n",
      "('\\nRegression evaluation for:', 'Lasso_1')\n",
      "('  Scikit Learn method:', Lasso(alpha=1, copy_X=True, fit_intercept=True, max_iter=1000,\n",
      "   normalize=False, positive=False, precompute=False, random_state=1,\n",
      "   selection='cyclic', tol=0.0001, warm_start=False))\n",
      "('Fitted regression intercept:', 49.09308488686733)\n",
      "('Fitted regression coefficients:', array([-0.06917869,  0.06701496, -0.        ,  0.        , -0.        ,\n",
      "        0.        ,  0.03838388, -0.68262702,  0.22330611, -0.01382989,\n",
      "       -0.70961534, -0.85547494]))\n",
      "('Coefficient of determination (R-squared):', 0.3270160166345043)\n",
      "{'normalize': False, 'warm_start': False, 'selection': 'cyclic', 'fit_intercept': True, 'positive': False, 'max_iter': 1000, 'precompute': False, 'random_state': 1, 'tol': 0.0001, 'copy_X': True, 'alpha': 1}\n",
      "('Root mean-squared error:', 6.856005268413233, '\\n--------------------------------------------------------\\n')\n",
      "('\\nRegression evaluation for:', 'Elastic Net_1')\n",
      "('  Scikit Learn method:', ElasticNet(alpha=1, copy_X=True, fit_intercept=True, l1_ratio=0.5,\n",
      "      max_iter=1000, normalize=False, positive=False, precompute=False,\n",
      "      random_state=1, selection='cyclic', tol=0.0001, warm_start=False))\n",
      "('Fitted regression intercept:', 46.0569351351764)\n",
      "('Fitted regression coefficients:', array([-0.08537402,  0.06659937, -0.0198687 ,  0.        , -0.        ,\n",
      "        0.55628101,  0.03471657, -0.76557581,  0.24494031, -0.01433586,\n",
      "       -0.7150154 , -0.81546745]))\n",
      "('Coefficient of determination (R-squared):', 0.3909115005738224)\n",
      "{'normalize': False, 'warm_start': False, 'selection': 'cyclic', 'fit_intercept': True, 'l1_ratio': 0.5, 'max_iter': 1000, 'precompute': False, 'random_state': 1, 'tol': 0.0001, 'positive': False, 'copy_X': True, 'alpha': 1}\n",
      "('Root mean-squared error:', 6.522423261013005, '\\n--------------------------------------------------------\\n')\n",
      "('\\nRegression evaluation for:', 'Ridge_.5')\n",
      "('  Scikit Learn method:', Ridge(alpha=0.5, copy_X=True, fit_intercept=True, max_iter=None,\n",
      "   normalize=False, random_state=1, solver='cholesky', tol=0.001))\n",
      "('Fitted regression intercept:', 45.34947964685732)\n",
      "('Fitted regression coefficients:', array([-1.15254148e-01,  5.91946997e-02, -2.79185799e-02,  4.25834979e+00,\n",
      "       -1.57038248e+01,  2.73984459e+00,  1.76814084e-02, -1.51216274e+00,\n",
      "        2.74111092e-01, -1.24825285e-02, -9.14574328e-01, -6.17749259e-01]))\n",
      "('Coefficient of determination (R-squared):', 0.5548936902474602)\n",
      "{'normalize': False, 'fit_intercept': True, 'max_iter': None, 'random_state': 1, 'tol': 0.001, 'copy_X': True, 'alpha': 0.5, 'solver': 'cholesky'}\n",
      "('Root mean-squared error:', 5.575716116356923, '\\n--------------------------------------------------------\\n')\n",
      "('\\nRegression evaluation for:', 'Lasso_.5')\n",
      "('  Scikit Learn method:', Lasso(alpha=0.5, copy_X=True, fit_intercept=True, max_iter=1000,\n",
      "   normalize=False, positive=False, precompute=False, random_state=1,\n",
      "   selection='cyclic', tol=0.0001, warm_start=False))\n",
      "('Fitted regression intercept:', 42.39167723964015)\n",
      "('Fitted regression coefficients:', array([-0.0898929 ,  0.06620692, -0.02752929,  0.        , -0.        ,\n",
      "        1.4249508 ,  0.02086522, -1.00581047,  0.23604548, -0.01397817,\n",
      "       -0.74199477, -0.76636347]))\n",
      "('Coefficient of determination (R-squared):', 0.47683663077705163)\n",
      "{'normalize': False, 'warm_start': False, 'selection': 'cyclic', 'fit_intercept': True, 'positive': False, 'max_iter': 1000, 'precompute': False, 'random_state': 1, 'tol': 0.0001, 'copy_X': True, 'alpha': 0.5}\n",
      "('Root mean-squared error:', 6.044876639654467, '\\n--------------------------------------------------------\\n')\n",
      "('\\nRegression evaluation for:', 'Elastic Net_.5')\n",
      "('  Scikit Learn method:', ElasticNet(alpha=0.5, copy_X=True, fit_intercept=True, l1_ratio=0.5,\n",
      "      max_iter=1000, normalize=False, positive=False, precompute=False,\n",
      "      random_state=1, selection='cyclic', tol=0.0001, warm_start=False))\n",
      "('Fitted regression intercept:', 44.60159916804844)\n",
      "('Fitted regression coefficients:', array([-0.09747604,  0.06782698, -0.04330547,  0.        , -0.        ,\n",
      "        1.17995096,  0.02405512, -1.02169941,  0.25767949, -0.01444881,\n",
      "       -0.76872637, -0.77957253]))\n",
      "('Coefficient of determination (R-squared):', 0.4585514565065748)\n",
      "{'normalize': False, 'warm_start': False, 'selection': 'cyclic', 'fit_intercept': True, 'l1_ratio': 0.5, 'max_iter': 1000, 'precompute': False, 'random_state': 1, 'tol': 0.0001, 'positive': False, 'copy_X': True, 'alpha': 0.5}\n",
      "('Root mean-squared error:', 6.149607154824086, '\\n--------------------------------------------------------\\n')\n",
      "('\\nFold index:', 5, '------------------------------------------')\n",
      "('\\nShape of input data for this fold:', '\\nData Set: (Observations, Variables)')\n",
      "('X_train:', (455, 12))\n",
      "('X_test:', (51, 12))\n",
      "('y_train:', (455,))\n",
      "('y_test:', (51,))\n",
      "('\\nRegression evaluation for:', 'Linear')\n",
      "('  Scikit Learn method:', LinearRegression(copy_X=True, fit_intercept=True, n_jobs=1, normalize=False))\n",
      "('Fitted regression intercept:', 45.552108362842176)\n",
      "('Fitted regression coefficients:', array([-1.20649135e-01,  5.83774298e-02,  4.64438663e-02,  3.26058996e+00,\n",
      "       -2.09592732e+01,  3.02720907e+00,  5.52530822e-04, -1.51876132e+00,\n",
      "        2.92569647e-01, -1.31027250e-02, -8.54090809e-01, -5.76673407e-01]))\n",
      "('Coefficient of determination (R-squared):', 0.7248910073380521)\n",
      "{'copy_X': True, 'normalize': False, 'n_jobs': 1, 'fit_intercept': True}\n",
      "('Root mean-squared error:', 4.549962411957732, '\\n--------------------------------------------------------\\n')\n",
      "('\\nRegression evaluation for:', 'Ridge')\n",
      "('  Scikit Learn method:', Ridge(alpha=0.1, copy_X=True, fit_intercept=True, max_iter=None,\n",
      "   normalize=False, random_state=1, solver='cholesky', tol=0.001))\n",
      "('Fitted regression intercept:', 44.62803502606731)\n",
      "('Fitted regression coefficients:', array([-1.20212817e-01,  5.86175060e-02,  3.91698414e-02,  3.22643448e+00,\n",
      "       -1.95980590e+01,  3.03941208e+00, -4.51925788e-04, -1.50284397e+00,\n",
      "        2.89052193e-01, -1.31905733e-02, -8.39550591e-01, -5.78290182e-01]))\n",
      "('Coefficient of determination (R-squared):', 0.7280856637889471)\n",
      "{'normalize': False, 'fit_intercept': True, 'max_iter': None, 'random_state': 1, 'tol': 0.001, 'copy_X': True, 'alpha': 0.1, 'solver': 'cholesky'}\n",
      "('Root mean-squared error:', 4.523467437401004, '\\n--------------------------------------------------------\\n')\n",
      "('\\nRegression evaluation for:', 'Lasso')\n",
      "('  Scikit Learn method:', Lasso(alpha=0.1, copy_X=True, fit_intercept=True, max_iter=1000,\n",
      "   normalize=False, positive=False, precompute=False, random_state=1,\n",
      "   selection='cyclic', tol=0.0001, warm_start=False))\n",
      "('Fitted regression intercept:', 33.17408765487225)\n",
      "('Fitted regression coefficients:', array([-0.11344417,  0.059828  , -0.04754903,  1.10488933, -0.        ,\n",
      "        2.94011601, -0.00910691, -1.1947957 ,  0.2461816 , -0.01493145,\n",
      "       -0.65559793, -0.62707422]))\n",
      "('Coefficient of determination (R-squared):', 0.7444571981700712)\n",
      "{'normalize': False, 'warm_start': False, 'selection': 'cyclic', 'fit_intercept': True, 'positive': False, 'max_iter': 1000, 'precompute': False, 'random_state': 1, 'tol': 0.0001, 'copy_X': True, 'alpha': 0.1}\n",
      "('Root mean-squared error:', 4.385178151582622, '\\n--------------------------------------------------------\\n')\n",
      "('\\nRegression evaluation for:', 'Elastic Net')\n",
      "('  Scikit Learn method:', ElasticNet(alpha=0.1, copy_X=True, fit_intercept=True, l1_ratio=0.5,\n",
      "      max_iter=1000, normalize=False, positive=False, precompute=False,\n",
      "      random_state=1, selection='cyclic', tol=0.0001, warm_start=False))\n",
      "('Fitted regression intercept:', 35.915150011900415)\n",
      "('Fitted regression coefficients:', array([-0.11525291,  0.06096632, -0.05179461,  1.05285386, -0.27977658,\n",
      "        2.61868747, -0.00692969, -1.20621558,  0.25783209, -0.01517301,\n",
      "       -0.67697315, -0.64677884]))\n",
      "('Coefficient of determination (R-squared):', 0.7301973520966232)\n",
      "{'normalize': False, 'warm_start': False, 'selection': 'cyclic', 'fit_intercept': True, 'l1_ratio': 0.5, 'max_iter': 1000, 'precompute': False, 'random_state': 1, 'tol': 0.0001, 'positive': False, 'copy_X': True, 'alpha': 0.1}\n",
      "('Root mean-squared error:', 4.505868565428564, '\\n--------------------------------------------------------\\n')\n",
      "('\\nRegression evaluation for:', 'Ridge_1')\n",
      "('  Scikit Learn method:', Ridge(alpha=1, copy_X=True, fit_intercept=True, max_iter=None,\n",
      "   normalize=False, random_state=1, solver='cholesky', tol=0.001))\n",
      "('Fitted regression intercept:', 39.80244554870382)\n",
      "('Fitted regression coefficients:', array([-1.17981151e-01,  5.98809909e-02,  6.88325707e-04,  3.00488165e+00,\n",
      "       -1.23644082e+01,  3.09487519e+00, -5.65973076e-03, -1.41774717e+00,\n",
      "        2.70847885e-01, -1.36763461e-02, -7.63542807e-01, -5.87650431e-01]))\n",
      "('Coefficient of determination (R-squared):', 0.7426421087485537)\n",
      "{'normalize': False, 'fit_intercept': True, 'max_iter': None, 'random_state': 1, 'tol': 0.001, 'copy_X': True, 'alpha': 1, 'solver': 'cholesky'}\n",
      "('Root mean-squared error:', 4.400724288214436, '\\n--------------------------------------------------------\\n')\n",
      "('\\nRegression evaluation for:', 'Lasso_1')\n",
      "('  Scikit Learn method:', Lasso(alpha=1, copy_X=True, fit_intercept=True, max_iter=1000,\n",
      "   normalize=False, positive=False, precompute=False, random_state=1,\n",
      "   selection='cyclic', tol=0.0001, warm_start=False))\n",
      "('Fitted regression intercept:', 45.611298748442266)\n",
      "('Fitted regression coefficients:', array([-0.07759958,  0.04897041, -0.        ,  0.        , -0.        ,\n",
      "        0.09753135,  0.02002281, -0.55062637,  0.20552243, -0.0129802 ,\n",
      "       -0.53431787, -0.81035406]))\n",
      "('Coefficient of determination (R-squared):', 0.44239191360708585)\n",
      "{'normalize': False, 'warm_start': False, 'selection': 'cyclic', 'fit_intercept': True, 'positive': False, 'max_iter': 1000, 'precompute': False, 'random_state': 1, 'tol': 0.0001, 'copy_X': True, 'alpha': 1}\n",
      "('Root mean-squared error:', 6.477686820643997, '\\n--------------------------------------------------------\\n')\n",
      "('\\nRegression evaluation for:', 'Elastic Net_1')\n",
      "('  Scikit Learn method:', ElasticNet(alpha=1, copy_X=True, fit_intercept=True, l1_ratio=0.5,\n",
      "      max_iter=1000, normalize=False, positive=False, precompute=False,\n",
      "      random_state=1, selection='cyclic', tol=0.0001, warm_start=False))\n",
      "('Fitted regression intercept:', 43.66567009801617)\n",
      "('Fitted regression coefficients:', array([-0.09382816,  0.0527453 , -0.        ,  0.        , -0.        ,\n",
      "        0.64534935,  0.01552342, -0.66813596,  0.24088676, -0.01460483,\n",
      "       -0.57944328, -0.77262916]))\n",
      "('Coefficient of determination (R-squared):', 0.5246357910452375)\n",
      "{'normalize': False, 'warm_start': False, 'selection': 'cyclic', 'fit_intercept': True, 'l1_ratio': 0.5, 'max_iter': 1000, 'precompute': False, 'random_state': 1, 'tol': 0.0001, 'positive': False, 'copy_X': True, 'alpha': 1}\n",
      "('Root mean-squared error:', 5.9809291176146715, '\\n--------------------------------------------------------\\n')\n",
      "('\\nRegression evaluation for:', 'Ridge_.5')\n",
      "('  Scikit Learn method:', Ridge(alpha=0.5, copy_X=True, fit_intercept=True, max_iter=None,\n",
      "   normalize=False, random_state=1, solver='cholesky', tol=0.001))\n",
      "('Fitted regression intercept:', 41.907481524795635)\n",
      "('Fitted regression coefficients:', array([-1.18941811e-01,  5.93269643e-02,  1.76153862e-02,  3.11357180e+00,\n",
      "       -1.55552171e+01,  3.07302244e+00, -3.39846385e-03, -1.45542675e+00,\n",
      "        2.78743639e-01, -1.34568698e-02, -7.96724547e-01, -5.83308430e-01]))\n",
      "('Coefficient of determination (R-squared):', 0.736743287994438)\n",
      "{'normalize': False, 'fit_intercept': True, 'max_iter': None, 'random_state': 1, 'tol': 0.001, 'copy_X': True, 'alpha': 0.5, 'solver': 'cholesky'}\n",
      "('Root mean-squared error:', 4.450872380224163, '\\n--------------------------------------------------------\\n')\n",
      "('\\nRegression evaluation for:', 'Lasso_.5')\n",
      "('  Scikit Learn method:', Lasso(alpha=0.5, copy_X=True, fit_intercept=True, max_iter=1000,\n",
      "   normalize=False, positive=False, precompute=False, random_state=1,\n",
      "   selection='cyclic', tol=0.0001, warm_start=False))\n",
      "('Fitted regression intercept:', 38.86138180550717)\n",
      "('Fitted regression coefficients:', array([-0.09831028,  0.0548977 , -0.00296677,  0.        , -0.        ,\n",
      "        1.69408999,  0.00380735, -0.88771861,  0.23761745, -0.01485301,\n",
      "       -0.61716889, -0.71213195]))\n",
      "('Coefficient of determination (R-squared):', 0.6356679147884524)\n",
      "{'normalize': False, 'warm_start': False, 'selection': 'cyclic', 'fit_intercept': True, 'positive': False, 'max_iter': 1000, 'precompute': False, 'random_state': 1, 'tol': 0.0001, 'copy_X': True, 'alpha': 0.5}\n",
      "('Root mean-squared error:', 5.236054101723689, '\\n--------------------------------------------------------\\n')\n",
      "('\\nRegression evaluation for:', 'Elastic Net_.5')\n",
      "('  Scikit Learn method:', ElasticNet(alpha=0.5, copy_X=True, fit_intercept=True, l1_ratio=0.5,\n",
      "      max_iter=1000, normalize=False, positive=False, precompute=False,\n",
      "      random_state=1, selection='cyclic', tol=0.0001, warm_start=False))\n",
      "('Fitted regression intercept:', 42.43046390142513)\n",
      "('Fitted regression coefficients:', array([-0.10634911,  0.05751509, -0.02431412,  0.        , -0.        ,\n",
      "        1.32149764,  0.00691524, -0.93376159,  0.26346475, -0.01540903,\n",
      "       -0.65902146, -0.73350069]))\n",
      "('Coefficient of determination (R-squared):', 0.6239889791820881)\n",
      "{'normalize': False, 'warm_start': False, 'selection': 'cyclic', 'fit_intercept': True, 'l1_ratio': 0.5, 'max_iter': 1000, 'precompute': False, 'random_state': 1, 'tol': 0.0001, 'positive': False, 'copy_X': True, 'alpha': 0.5}\n",
      "('Root mean-squared error:', 5.319314919836056, '\\n--------------------------------------------------------\\n')\n",
      "('\\nFold index:', 6, '------------------------------------------')\n",
      "('\\nShape of input data for this fold:', '\\nData Set: (Observations, Variables)')\n",
      "('X_train:', (456, 12))\n",
      "('X_test:', (50, 12))\n",
      "('y_train:', (456,))\n",
      "('y_test:', (50,))\n",
      "('\\nRegression evaluation for:', 'Linear')\n",
      "('  Scikit Learn method:', LinearRegression(copy_X=True, fit_intercept=True, n_jobs=1, normalize=False))\n",
      "('Fitted regression intercept:', 45.52923380788419)\n",
      "('Fitted regression coefficients:', array([-1.22200654e-01,  4.44457779e-02, -1.05673064e-03,  2.64075142e+00,\n",
      "       -1.98608982e+01,  3.46831807e+00,  2.89348203e-04, -1.73113746e+00,\n",
      "        2.94304186e-01, -1.36476268e-02, -9.41804003e-01, -5.72247277e-01]))\n",
      "('Coefficient of determination (R-squared):', 0.3782678938987105)\n",
      "{'copy_X': True, 'normalize': False, 'n_jobs': 1, 'fit_intercept': True}\n",
      "('Root mean-squared error:', 3.153969671867562, '\\n--------------------------------------------------------\\n')\n",
      "('\\nRegression evaluation for:', 'Ridge')\n",
      "('  Scikit Learn method:', Ridge(alpha=0.1, copy_X=True, fit_intercept=True, max_iter=None,\n",
      "   normalize=False, random_state=1, solver='cholesky', tol=0.001))\n",
      "('Fitted regression intercept:', 44.56349899797072)\n",
      "('Fitted regression coefficients:', array([-1.21413960e-01,  4.45584739e-02, -6.78551010e-03,  2.62397787e+00,\n",
      "       -1.85218000e+01,  3.47495115e+00, -8.05984141e-04, -1.70445405e+00,\n",
      "        2.90730580e-01, -1.37470213e-02, -9.24197590e-01, -5.74434541e-01]))\n",
      "('Coefficient of determination (R-squared):', 0.3856692122378981)\n",
      "{'normalize': False, 'fit_intercept': True, 'max_iter': None, 'random_state': 1, 'tol': 0.001, 'copy_X': True, 'alpha': 0.1, 'solver': 'cholesky'}\n",
      "('Root mean-squared error:', 3.1351404829184535, '\\n--------------------------------------------------------\\n')\n",
      "('\\nRegression evaluation for:', 'Lasso')\n",
      "('  Scikit Learn method:', Lasso(alpha=0.1, copy_X=True, fit_intercept=True, max_iter=1000,\n",
      "   normalize=False, positive=False, precompute=False, random_state=1,\n",
      "   selection='cyclic', tol=0.0001, warm_start=False))\n",
      "('Fitted regression intercept:', 32.75984490943051)\n",
      "('Fitted regression coefficients:', array([-0.10900627,  0.04637792, -0.06967589,  1.06934108, -0.        ,\n",
      "        3.32526302, -0.01084942, -1.27366854,  0.25120062, -0.01595274,\n",
      "       -0.68893326, -0.62881129]))\n",
      "('Coefficient of determination (R-squared):', 0.3444316531108855)\n",
      "{'normalize': False, 'warm_start': False, 'selection': 'cyclic', 'fit_intercept': True, 'positive': False, 'max_iter': 1000, 'precompute': False, 'random_state': 1, 'tol': 0.0001, 'copy_X': True, 'alpha': 0.1}\n",
      "('Root mean-squared error:', 3.2386562425562206, '\\n--------------------------------------------------------\\n')\n",
      "('\\nRegression evaluation for:', 'Elastic Net')\n",
      "('  Scikit Learn method:', ElasticNet(alpha=0.1, copy_X=True, fit_intercept=True, l1_ratio=0.5,\n",
      "      max_iter=1000, normalize=False, positive=False, precompute=False,\n",
      "      random_state=1, selection='cyclic', tol=0.0001, warm_start=False))\n",
      "('Fitted regression intercept:', 35.793278501738435)\n",
      "('Fitted regression coefficients:', array([-0.11061971,  0.04792603, -0.0756019 ,  1.04548675, -0.14855522,\n",
      "        2.95965079, -0.00841705, -1.28657071,  0.2646537 , -0.01633348,\n",
      "       -0.70986057, -0.65217144]))\n",
      "('Coefficient of determination (R-squared):', 0.31402194516848125)\n",
      "{'normalize': False, 'warm_start': False, 'selection': 'cyclic', 'fit_intercept': True, 'l1_ratio': 0.5, 'max_iter': 1000, 'precompute': False, 'random_state': 1, 'tol': 0.0001, 'positive': False, 'copy_X': True, 'alpha': 0.1}\n",
      "('Root mean-squared error:', 3.3129202133428497, '\\n--------------------------------------------------------\\n')\n",
      "('\\nRegression evaluation for:', 'Ridge_1')\n",
      "('  Scikit Learn method:', Ridge(alpha=1, copy_X=True, fit_intercept=True, max_iter=None,\n",
      "   normalize=False, random_state=1, solver='cholesky', tol=0.001))\n",
      "('Fitted regression intercept:', 39.59991806458959)\n",
      "('Fitted regression coefficients:', array([-1.17353448e-01,  4.51893788e-02, -3.65868602e-02,  2.50807405e+00,\n",
      "       -1.15230596e+01,  3.49966421e+00, -6.41999581e-03, -1.56483940e+00,\n",
      "        2.72573619e-01, -1.42926976e-02, -8.32888861e-01, -5.86666007e-01]))\n",
      "('Coefficient of determination (R-squared):', 0.4066626417685947)\n",
      "{'normalize': False, 'fit_intercept': True, 'max_iter': None, 'random_state': 1, 'tol': 0.001, 'copy_X': True, 'alpha': 1, 'solver': 'cholesky'}\n",
      "('Root mean-squared error:', 3.081106515060066, '\\n--------------------------------------------------------\\n')\n",
      "('\\nRegression evaluation for:', 'Lasso_1')\n",
      "('  Scikit Learn method:', Lasso(alpha=1, copy_X=True, fit_intercept=True, max_iter=1000,\n",
      "   normalize=False, positive=False, precompute=False, random_state=1,\n",
      "   selection='cyclic', tol=0.0001, warm_start=False))\n",
      "('Fitted regression intercept:', 45.2155621675351)\n",
      "('Fitted regression coefficients:', array([-0.07039523,  0.04504022, -0.01222623,  0.        , -0.        ,\n",
      "        0.74405953,  0.02034349, -0.63498408,  0.23975381, -0.01652532,\n",
      "       -0.61664892, -0.81328695]))\n",
      "('Coefficient of determination (R-squared):', -0.11902547926952312)\n",
      "{'normalize': False, 'warm_start': False, 'selection': 'cyclic', 'fit_intercept': True, 'positive': False, 'max_iter': 1000, 'precompute': False, 'random_state': 1, 'tol': 0.0001, 'copy_X': True, 'alpha': 1}\n",
      "('Root mean-squared error:', 4.23131982773303, '\\n--------------------------------------------------------\\n')\n",
      "('\\nRegression evaluation for:', 'Elastic Net_1')\n",
      "('  Scikit Learn method:', ElasticNet(alpha=1, copy_X=True, fit_intercept=True, l1_ratio=0.5,\n",
      "      max_iter=1000, normalize=False, positive=False, precompute=False,\n",
      "      random_state=1, selection='cyclic', tol=0.0001, warm_start=False))\n",
      "('Fitted regression intercept:', 45.82756452478932)\n",
      "('Fitted regression coefficients:', array([-0.08741065,  0.04755441, -0.04145946,  0.        , -0.        ,\n",
      "        0.85526417,  0.01906033, -0.75885953,  0.27062278, -0.0172054 ,\n",
      "       -0.65043234, -0.79796332]))\n",
      "('Coefficient of determination (R-squared):', -0.04759942907485959)\n",
      "{'normalize': False, 'warm_start': False, 'selection': 'cyclic', 'fit_intercept': True, 'l1_ratio': 0.5, 'max_iter': 1000, 'precompute': False, 'random_state': 1, 'tol': 0.0001, 'positive': False, 'copy_X': True, 'alpha': 1}\n",
      "('Root mean-squared error:', 4.094053296547483, '\\n--------------------------------------------------------\\n')\n",
      "('\\nRegression evaluation for:', 'Ridge_.5')\n",
      "('  Scikit Learn method:', Ridge(alpha=0.5, copy_X=True, fit_intercept=True, max_iter=None,\n",
      "   normalize=False, random_state=1, solver='cholesky', tol=0.001))\n",
      "('Fitted regression intercept:', 41.74889075466193)\n",
      "('Fitted regression coefficients:', array([-1.19116530e-01,  4.49015647e-02, -2.35822384e-02,  2.56661168e+00,\n",
      "       -1.45861734e+01,  3.49163699e+00, -3.99386541e-03, -1.62598936e+00,\n",
      "        2.80375596e-01, -1.40466027e-02, -8.72654230e-01, -5.81089106e-01]))\n"
     ]
    },
    {
     "name": "stdout",
     "output_type": "stream",
     "text": [
      "('Coefficient of determination (R-squared):', 0.4012157455545784)\n",
      "{'normalize': False, 'fit_intercept': True, 'max_iter': None, 'random_state': 1, 'tol': 0.001, 'copy_X': True, 'alpha': 0.5, 'solver': 'cholesky'}\n",
      "('Root mean-squared error:', 3.0952166387368423, '\\n--------------------------------------------------------\\n')\n",
      "('\\nRegression evaluation for:', 'Lasso_.5')\n",
      "('  Scikit Learn method:', Lasso(alpha=0.5, copy_X=True, fit_intercept=True, max_iter=1000,\n",
      "   normalize=False, positive=False, precompute=False, random_state=1,\n",
      "   selection='cyclic', tol=0.0001, warm_start=False))\n",
      "('Fitted regression intercept:', 38.548103789654036)\n",
      "('Fitted regression coefficients:', array([-0.09322967,  0.04588504, -0.03916186,  0.        , -0.        ,\n",
      "        2.1855214 ,  0.00319365, -0.99831153,  0.25193063, -0.01658924,\n",
      "       -0.66564314, -0.71278269]))\n",
      "('Coefficient of determination (R-squared):', 0.19096397165124035)\n",
      "{'normalize': False, 'warm_start': False, 'selection': 'cyclic', 'fit_intercept': True, 'positive': False, 'max_iter': 1000, 'precompute': False, 'random_state': 1, 'tol': 0.0001, 'copy_X': True, 'alpha': 0.5}\n",
      "('Root mean-squared error:', 3.5978230232499677, '\\n--------------------------------------------------------\\n')\n",
      "('\\nRegression evaluation for:', 'Elastic Net_.5')\n",
      "('  Scikit Learn method:', ElasticNet(alpha=0.5, copy_X=True, fit_intercept=True, l1_ratio=0.5,\n",
      "      max_iter=1000, normalize=False, positive=False, precompute=False,\n",
      "      random_state=1, selection='cyclic', tol=0.0001, warm_start=False))\n",
      "('Fitted regression intercept:', 43.61206625453452)\n",
      "('Fitted regression coefficients:', array([-0.10082213,  0.04906119, -0.05909013,  0.        , -0.        ,\n",
      "        1.58855823,  0.00792529, -1.03172641,  0.28378742, -0.01743656,\n",
      "       -0.70782989, -0.74976426]))\n",
      "('Coefficient of determination (R-squared):', 0.12987647992081408)\n",
      "{'normalize': False, 'warm_start': False, 'selection': 'cyclic', 'fit_intercept': True, 'l1_ratio': 0.5, 'max_iter': 1000, 'precompute': False, 'random_state': 1, 'tol': 0.0001, 'positive': False, 'copy_X': True, 'alpha': 0.5}\n",
      "('Root mean-squared error:', 3.731181019960955, '\\n--------------------------------------------------------\\n')\n",
      "('\\nFold index:', 7, '------------------------------------------')\n",
      "('\\nShape of input data for this fold:', '\\nData Set: (Observations, Variables)')\n",
      "('X_train:', (456, 12))\n",
      "('X_test:', (50, 12))\n",
      "('y_train:', (456,))\n",
      "('y_test:', (50,))\n",
      "('\\nRegression evaluation for:', 'Linear')\n",
      "('  Scikit Learn method:', LinearRegression(copy_X=True, fit_intercept=True, n_jobs=1, normalize=False))\n",
      "('Fitted regression intercept:', 15.376998156379553)\n",
      "('Fitted regression coefficients:', array([-2.35842270e-02,  2.18838968e-02,  5.74600792e-02,  1.11875513e+00,\n",
      "       -1.51655350e+01,  6.95334942e+00, -3.10916158e-02, -1.15260201e+00,\n",
      "        9.02858130e-02, -1.25252512e-02, -8.42913668e-01, -2.44761573e-01]))\n",
      "('Coefficient of determination (R-squared):', -0.01456620783029039)\n",
      "{'copy_X': True, 'normalize': False, 'n_jobs': 1, 'fit_intercept': True}\n",
      "('Root mean-squared error:', 12.299539666052398, '\\n--------------------------------------------------------\\n')\n",
      "('\\nRegression evaluation for:', 'Ridge')\n",
      "('  Scikit Learn method:', Ridge(alpha=0.1, copy_X=True, fit_intercept=True, max_iter=None,\n",
      "   normalize=False, random_state=1, solver='cholesky', tol=0.001))\n",
      "('Fitted regression intercept:', 14.716641378586218)\n",
      "('Fitted regression coefficients:', array([-2.34150283e-02,  2.20375092e-02,  5.32220106e-02,  1.12294821e+00,\n",
      "       -1.41697968e+01,  6.95559674e+00, -3.18972604e-02, -1.13755549e+00,\n",
      "        8.84041993e-02, -1.25961141e-02, -8.31413759e-01, -2.46857591e-01]))\n",
      "('Coefficient of determination (R-squared):', -0.014178566154023242)\n",
      "{'normalize': False, 'fit_intercept': True, 'max_iter': None, 'random_state': 1, 'tol': 0.001, 'copy_X': True, 'alpha': 0.1, 'solver': 'cholesky'}\n",
      "('Root mean-squared error:', 12.297189760427289, '\\n--------------------------------------------------------\\n')\n",
      "('\\nRegression evaluation for:', 'Lasso')\n",
      "('  Scikit Learn method:', Lasso(alpha=0.1, copy_X=True, fit_intercept=True, max_iter=1000,\n",
      "   normalize=False, positive=False, precompute=False, random_state=1,\n",
      "   selection='cyclic', tol=0.0001, warm_start=False))\n",
      "('Fitted regression intercept:', 7.198220738606256)\n",
      "('Fitted regression coefficients:', array([-0.01707388,  0.02439114, -0.        ,  0.        , -0.        ,\n",
      "        6.7221845 , -0.03889311, -0.88098468,  0.06552451, -0.01415199,\n",
      "       -0.68248558, -0.29604018]))\n",
      "('Coefficient of determination (R-squared):', -0.007712069171582847)\n",
      "{'normalize': False, 'warm_start': False, 'selection': 'cyclic', 'fit_intercept': True, 'positive': False, 'max_iter': 1000, 'precompute': False, 'random_state': 1, 'tol': 0.0001, 'copy_X': True, 'alpha': 0.1}\n",
      "('Root mean-squared error:', 12.257923054752068, '\\n--------------------------------------------------------\\n')\n",
      "('\\nRegression evaluation for:', 'Elastic Net')\n",
      "('  Scikit Learn method:', ElasticNet(alpha=0.1, copy_X=True, fit_intercept=True, l1_ratio=0.5,\n",
      "      max_iter=1000, normalize=False, positive=False, precompute=False,\n",
      "      random_state=1, selection='cyclic', tol=0.0001, warm_start=False))\n",
      "('Fitted regression intercept:', 16.4273264989643)\n",
      "('Fitted regression coefficients:', array([-0.03400463,  0.03184187, -0.01624707,  0.20718354, -0.        ,\n",
      "        5.5320972 , -0.03087339, -0.95142445,  0.11439422, -0.01512408,\n",
      "       -0.72761593, -0.38189211]))\n",
      "('Coefficient of determination (R-squared):', 0.14121354272115827)\n",
      "{'normalize': False, 'warm_start': False, 'selection': 'cyclic', 'fit_intercept': True, 'l1_ratio': 0.5, 'max_iter': 1000, 'precompute': False, 'random_state': 1, 'tol': 0.0001, 'positive': False, 'copy_X': True, 'alpha': 0.1}\n",
      "('Root mean-squared error:', 11.315956112568687, '\\n--------------------------------------------------------\\n')\n",
      "('\\nRegression evaluation for:', 'Ridge_1')\n",
      "('  Scikit Learn method:', Ridge(alpha=1, copy_X=True, fit_intercept=True, max_iter=None,\n",
      "   normalize=False, random_state=1, solver='cholesky', tol=0.001))\n",
      "('Fitted regression intercept:', 11.455020684025074)\n",
      "('Fitted regression coefficients:', array([-0.02285579,  0.02301129,  0.03056149,  1.12891945, -8.91531104,\n",
      "        6.93914829, -0.03592818, -1.05945349,  0.07959192, -0.01299929,\n",
      "       -0.77202934, -0.25994844]))\n",
      "('Coefficient of determination (R-squared):', -0.00942407633146547)\n",
      "{'normalize': False, 'fit_intercept': True, 'max_iter': None, 'random_state': 1, 'tol': 0.001, 'copy_X': True, 'alpha': 1, 'solver': 'cholesky'}\n",
      "('Root mean-squared error:', 12.268331159945152, '\\n--------------------------------------------------------\\n')\n",
      "('\\nRegression evaluation for:', 'Lasso_1')\n",
      "('  Scikit Learn method:', Lasso(alpha=1, copy_X=True, fit_intercept=True, max_iter=1000,\n",
      "   normalize=False, positive=False, precompute=False, random_state=1,\n",
      "   selection='cyclic', tol=0.0001, warm_start=False))\n",
      "('Fitted regression intercept:', 28.044824716805937)\n",
      "('Fitted regression coefficients:', array([-0.        ,  0.03133825, -0.        ,  0.        , -0.        ,\n",
      "        3.16563664,  0.        , -0.50094913,  0.10066582, -0.01450962,\n",
      "       -0.66067725, -0.55320493]))\n",
      "('Coefficient of determination (R-squared):', 0.3146939270375394)\n",
      "{'normalize': False, 'warm_start': False, 'selection': 'cyclic', 'fit_intercept': True, 'positive': False, 'max_iter': 1000, 'precompute': False, 'random_state': 1, 'tol': 0.0001, 'copy_X': True, 'alpha': 1}\n",
      "('Root mean-squared error:', 10.108598587664455, '\\n--------------------------------------------------------\\n')\n",
      "('\\nRegression evaluation for:', 'Elastic Net_1')\n",
      "('  Scikit Learn method:', ElasticNet(alpha=1, copy_X=True, fit_intercept=True, l1_ratio=0.5,\n",
      "      max_iter=1000, normalize=False, positive=False, precompute=False,\n",
      "      random_state=1, selection='cyclic', tol=0.0001, warm_start=False))\n",
      "('Fitted regression intercept:', 41.84858622034566)\n",
      "('Fitted regression coefficients:', array([-0.03697576,  0.04590237, -0.01799915,  0.        , -0.        ,\n",
      "        1.54587862,  0.00807698, -0.70062488,  0.20442029, -0.01745019,\n",
      "       -0.74321603, -0.6686094 ]))\n",
      "('Coefficient of determination (R-squared):', 0.45168569114026047)\n",
      "{'normalize': False, 'warm_start': False, 'selection': 'cyclic', 'fit_intercept': True, 'l1_ratio': 0.5, 'max_iter': 1000, 'precompute': False, 'random_state': 1, 'tol': 0.0001, 'positive': False, 'copy_X': True, 'alpha': 1}\n",
      "('Root mean-squared error:', 9.041978094557505, '\\n--------------------------------------------------------\\n')\n",
      "('\\nRegression evaluation for:', 'Ridge_.5')\n",
      "('  Scikit Learn method:', Ridge(alpha=0.5, copy_X=True, fit_intercept=True, max_iter=None,\n",
      "   normalize=False, random_state=1, solver='cholesky', tol=0.001))\n",
      "('Fitted regression intercept:', 12.826928798147065)\n",
      "('Fitted regression coefficients:', array([ -0.02300882,   0.02253772,   0.0406074 ,   1.13072809,\n",
      "       -11.22551621,   6.95426705,  -0.03421735,  -1.09343178,\n",
      "         0.08315555,  -0.01281392,  -0.79777766,  -0.25362719]))\n",
      "('Coefficient of determination (R-squared):', -0.012317611297276265)\n",
      "{'normalize': False, 'fit_intercept': True, 'max_iter': None, 'random_state': 1, 'tol': 0.001, 'copy_X': True, 'alpha': 0.5, 'solver': 'cholesky'}\n",
      "('Root mean-squared error:', 12.285902289299136, '\\n--------------------------------------------------------\\n')\n",
      "('\\nRegression evaluation for:', 'Lasso_.5')\n",
      "('  Scikit Learn method:', Lasso(alpha=0.5, copy_X=True, fit_intercept=True, max_iter=1000,\n",
      "   normalize=False, positive=False, precompute=False, random_state=1,\n",
      "   selection='cyclic', tol=0.0001, warm_start=False))\n",
      "('Fitted regression intercept:', 16.405898851872045)\n",
      "('Fitted regression coefficients:', array([-2.62906539e-03,  2.75775790e-02, -0.00000000e+00,  0.00000000e+00,\n",
      "       -0.00000000e+00,  5.13074774e+00, -1.96996323e-02, -6.98023491e-01,\n",
      "        7.84091587e-02, -1.43374591e-02, -6.72218132e-01, -4.14740925e-01]))\n",
      "('Coefficient of determination (R-squared):', 0.1511428236676381)\n",
      "{'normalize': False, 'warm_start': False, 'selection': 'cyclic', 'fit_intercept': True, 'positive': False, 'max_iter': 1000, 'precompute': False, 'random_state': 1, 'tol': 0.0001, 'copy_X': True, 'alpha': 0.5}\n",
      "('Root mean-squared error:', 11.250348433281452, '\\n--------------------------------------------------------\\n')\n",
      "('\\nRegression evaluation for:', 'Elastic Net_.5')\n",
      "('  Scikit Learn method:', ElasticNet(alpha=0.5, copy_X=True, fit_intercept=True, l1_ratio=0.5,\n",
      "      max_iter=1000, normalize=False, positive=False, precompute=False,\n",
      "      random_state=1, selection='cyclic', tol=0.0001, warm_start=False))\n",
      "('Fitted regression intercept:', 35.27679980619101)\n",
      "('Fitted regression coefficients:', array([-0.04636255,  0.04362737, -0.02950023,  0.        , -0.        ,\n",
      "        2.76156232, -0.00432261, -0.86612019,  0.19209779, -0.01694659,\n",
      "       -0.77497539, -0.58416278]))\n",
      "('Coefficient of determination (R-squared):', 0.3838224285230004)\n",
      "{'normalize': False, 'warm_start': False, 'selection': 'cyclic', 'fit_intercept': True, 'l1_ratio': 0.5, 'max_iter': 1000, 'precompute': False, 'random_state': 1, 'tol': 0.0001, 'positive': False, 'copy_X': True, 'alpha': 0.5}\n",
      "('Root mean-squared error:', 9.58520937710249, '\\n--------------------------------------------------------\\n')\n",
      "('\\nFold index:', 8, '------------------------------------------')\n",
      "('\\nShape of input data for this fold:', '\\nData Set: (Observations, Variables)')\n",
      "('X_train:', (456, 12))\n",
      "('X_test:', (50, 12))\n",
      "('y_train:', (456,))\n",
      "('y_test:', (50,))\n",
      "('\\nRegression evaluation for:', 'Linear')\n",
      "('  Scikit Learn method:', LinearRegression(copy_X=True, fit_intercept=True, n_jobs=1, normalize=False))\n",
      "('Fitted regression intercept:', 31.02860203591619)\n",
      "('Fitted regression coefficients:', array([-1.66164101e-01,  4.49942457e-02,  2.49720324e-02,  2.33771398e+00,\n",
      "       -1.43674285e+01,  4.57266292e+00, -5.87165662e-03, -1.40961706e+00,\n",
      "        3.41780778e-01, -1.27710193e-02, -8.19508081e-01, -5.12349340e-01]))\n",
      "('Coefficient of determination (R-squared):', -1.0410008417604262)\n",
      "{'copy_X': True, 'normalize': False, 'n_jobs': 1, 'fit_intercept': True}\n",
      "('Root mean-squared error:', 6.143267726936837, '\\n--------------------------------------------------------\\n')\n",
      "('\\nRegression evaluation for:', 'Ridge')\n",
      "('  Scikit Learn method:', Ridge(alpha=0.1, copy_X=True, fit_intercept=True, max_iter=None,\n",
      "   normalize=False, random_state=1, solver='cholesky', tol=0.001))\n",
      "('Fitted regression intercept:', 30.318473991741598)\n",
      "('Fitted regression coefficients:', array([-1.66143318e-01,  4.51053963e-02,  2.09488439e-02,  2.32191036e+00,\n",
      "       -1.33955150e+01,  4.58450255e+00, -6.70316695e-03, -1.39437107e+00,\n",
      "        3.39661878e-01, -1.28476972e-02, -8.08456087e-01, -5.13246495e-01]))\n",
      "('Coefficient of determination (R-squared):', -1.0582311623492764)\n",
      "{'normalize': False, 'fit_intercept': True, 'max_iter': None, 'random_state': 1, 'tol': 0.001, 'copy_X': True, 'alpha': 0.1, 'solver': 'cholesky'}\n",
      "('Root mean-squared error:', 6.169144249956228, '\\n--------------------------------------------------------\\n')\n",
      "('\\nRegression evaluation for:', 'Lasso')\n",
      "('  Scikit Learn method:', Lasso(alpha=0.1, copy_X=True, fit_intercept=True, max_iter=1000,\n",
      "   normalize=False, positive=False, precompute=False, random_state=1,\n",
      "   selection='cyclic', tol=0.0001, warm_start=False))\n",
      "('Fitted regression intercept:', 22.26380023355751)\n",
      "('Fitted regression coefficients:', array([-0.1616405 ,  0.04701213, -0.01833956,  0.77391408, -0.        ,\n",
      "        4.50101957, -0.01319752, -1.13629827,  0.31927795, -0.01466987,\n",
      "       -0.66985284, -0.55159306]))\n",
      "('Coefficient of determination (R-squared):', -1.2907643128490696)\n",
      "{'normalize': False, 'warm_start': False, 'selection': 'cyclic', 'fit_intercept': True, 'positive': False, 'max_iter': 1000, 'precompute': False, 'random_state': 1, 'tol': 0.0001, 'copy_X': True, 'alpha': 0.1}\n",
      "('Root mean-squared error:', 6.508307364901382, '\\n--------------------------------------------------------\\n')\n",
      "('\\nRegression evaluation for:', 'Elastic Net')\n",
      "('  Scikit Learn method:', ElasticNet(alpha=0.1, copy_X=True, fit_intercept=True, l1_ratio=0.5,\n",
      "      max_iter=1000, normalize=False, positive=False, precompute=False,\n",
      "      random_state=1, selection='cyclic', tol=0.0001, warm_start=False))\n",
      "('Fitted regression intercept:', 27.16399995788921)\n",
      "('Fitted regression coefficients:', array([-0.15883165,  0.04979546, -0.02997748,  0.89732458, -0.        ,\n",
      "        3.88822953, -0.00952542, -1.16430032,  0.33073049, -0.01508104,\n",
      "       -0.6985518 , -0.59481127]))\n",
      "('Coefficient of determination (R-squared):', -1.1035389330233012)\n",
      "{'normalize': False, 'warm_start': False, 'selection': 'cyclic', 'fit_intercept': True, 'l1_ratio': 0.5, 'max_iter': 1000, 'precompute': False, 'random_state': 1, 'tol': 0.0001, 'positive': False, 'copy_X': True, 'alpha': 0.1}\n",
      "('Root mean-squared error:', 6.236675212222235, '\\n--------------------------------------------------------\\n')\n",
      "('\\nRegression evaluation for:', 'Ridge_1')\n",
      "('  Scikit Learn method:', Ridge(alpha=1, copy_X=True, fit_intercept=True, max_iter=None,\n",
      "   normalize=False, random_state=1, solver='cholesky', tol=0.001))\n",
      "('Fitted regression intercept:', 26.744126190240806)\n",
      "('Fitted regression coefficients:', array([-1.65975077e-01,  4.57529081e-02,  1.47637005e-06,  2.21548418e+00,\n",
      "       -8.33132363e+00,  4.63096593e+00, -1.08979334e-02, -1.31521166e+00,\n",
      "        3.29091685e-01, -1.32706589e-02, -7.51831593e-01, -5.19140850e-01]))\n",
      "('Coefficient of determination (R-squared):', -1.1501289171156923)\n",
      "{'normalize': False, 'fit_intercept': True, 'max_iter': None, 'random_state': 1, 'tol': 0.001, 'copy_X': True, 'alpha': 1, 'solver': 'cholesky'}\n",
      "('Root mean-squared error:', 6.305363096650568, '\\n--------------------------------------------------------\\n')\n",
      "('\\nRegression evaluation for:', 'Lasso_1')\n",
      "('  Scikit Learn method:', Lasso(alpha=1, copy_X=True, fit_intercept=True, max_iter=1000,\n",
      "   normalize=False, positive=False, precompute=False, random_state=1,\n",
      "   selection='cyclic', tol=0.0001, warm_start=False))\n",
      "('Fitted regression intercept:', 39.73199557677625)\n",
      "('Fitted regression coefficients:', array([-0.08645982,  0.04767487, -0.        ,  0.        , -0.        ,\n",
      "        1.50546864,  0.01887213, -0.71833003,  0.28209209, -0.01501355,\n",
      "       -0.64700023, -0.77923242]))\n",
      "('Coefficient of determination (R-squared):', -0.5056181342680071)\n",
      "{'normalize': False, 'warm_start': False, 'selection': 'cyclic', 'fit_intercept': True, 'positive': False, 'max_iter': 1000, 'precompute': False, 'random_state': 1, 'tol': 0.0001, 'copy_X': True, 'alpha': 1}\n",
      "('Root mean-squared error:', 5.276370324107555, '\\n--------------------------------------------------------\\n')\n",
      "('\\nRegression evaluation for:', 'Elastic Net_1')\n",
      "('  Scikit Learn method:', ElasticNet(alpha=1, copy_X=True, fit_intercept=True, l1_ratio=0.5,\n",
      "      max_iter=1000, normalize=False, positive=False, precompute=False,\n",
      "      random_state=1, selection='cyclic', tol=0.0001, warm_start=False))\n",
      "('Fitted regression intercept:', 43.74281305988103)\n",
      "('Fitted regression coefficients:', array([-0.10616579,  0.05308279, -0.00337406,  0.        , -0.        ,\n",
      "        1.12891098,  0.02073138, -0.79638229,  0.32917823, -0.01671847,\n",
      "       -0.69576803, -0.80216835]))\n",
      "('Coefficient of determination (R-squared):', -0.4811145600395048)\n",
      "{'normalize': False, 'warm_start': False, 'selection': 'cyclic', 'fit_intercept': True, 'l1_ratio': 0.5, 'max_iter': 1000, 'precompute': False, 'random_state': 1, 'tol': 0.0001, 'positive': False, 'copy_X': True, 'alpha': 1}\n",
      "('Root mean-squared error:', 5.233258364229544, '\\n--------------------------------------------------------\\n')\n",
      "('\\nRegression evaluation for:', 'Ridge_.5')\n",
      "('  Scikit Learn method:', Ridge(alpha=0.5, copy_X=True, fit_intercept=True, max_iter=None,\n",
      "   normalize=False, random_state=1, solver='cholesky', tol=0.001))\n",
      "('Fitted regression intercept:', 28.271025599804176)\n",
      "('Fitted regression coefficients:', array([-1.66065681e-01,  4.54508028e-02,  9.15246292e-03,  2.26866540e+00,\n",
      "       -1.05445690e+01,  4.61492877e+00, -9.10324187e-03, -1.34973007e+00,\n",
      "        3.33580284e-01, -1.30792845e-02, -7.76310297e-01, -5.16223198e-01]))\n",
      "('Coefficient of determination (R-squared):', -1.109834878748087)\n",
      "{'normalize': False, 'fit_intercept': True, 'max_iter': None, 'random_state': 1, 'tol': 0.001, 'copy_X': True, 'alpha': 0.5, 'solver': 'cholesky'}\n",
      "('Root mean-squared error:', 6.246001503038174, '\\n--------------------------------------------------------\\n')\n",
      "('\\nRegression evaluation for:', 'Lasso_.5')\n",
      "('  Scikit Learn method:', Lasso(alpha=0.5, copy_X=True, fit_intercept=True, max_iter=1000,\n",
      "   normalize=False, positive=False, precompute=False, random_state=1,\n",
      "   selection='cyclic', tol=0.0001, warm_start=False))\n",
      "('Fitted regression intercept:', 30.082664815158346)\n",
      "('Fitted regression coefficients:', array([-1.29415582e-01,  4.75396374e-02, -0.00000000e+00,  0.00000000e+00,\n",
      "       -0.00000000e+00,  3.18807178e+00,  9.67327088e-04, -9.48358680e-01,\n",
      "        3.08804824e-01, -1.52360800e-02, -6.66472638e-01, -6.53972034e-01]))\n",
      "('Coefficient of determination (R-squared):', -0.8838955685073149)\n",
      "{'normalize': False, 'warm_start': False, 'selection': 'cyclic', 'fit_intercept': True, 'positive': False, 'max_iter': 1000, 'precompute': False, 'random_state': 1, 'tol': 0.0001, 'copy_X': True, 'alpha': 0.5}\n",
      "('Root mean-squared error:', 5.902095914008435, '\\n--------------------------------------------------------\\n')\n",
      "('\\nRegression evaluation for:', 'Elastic Net_.5')\n",
      "('  Scikit Learn method:', ElasticNet(alpha=0.5, copy_X=True, fit_intercept=True, l1_ratio=0.5,\n",
      "      max_iter=1000, normalize=False, positive=False, precompute=False,\n",
      "      random_state=1, selection='cyclic', tol=0.0001, warm_start=False))\n",
      "('Fitted regression intercept:', 39.47739811273693)\n",
      "('Fitted regression coefficients:', array([-0.1314942 ,  0.05362135, -0.02017082,  0.        , -0.        ,\n",
      "        2.04738568,  0.00894419, -1.00599003,  0.34487016, -0.01651907,\n",
      "       -0.73264651, -0.73492576]))\n",
      "('Coefficient of determination (R-squared):', -0.6592907935610757)\n",
      "{'normalize': False, 'warm_start': False, 'selection': 'cyclic', 'fit_intercept': True, 'l1_ratio': 0.5, 'max_iter': 1000, 'precompute': False, 'random_state': 1, 'tol': 0.0001, 'positive': False, 'copy_X': True, 'alpha': 0.5}\n",
      "('Root mean-squared error:', 5.539098681697153, '\\n--------------------------------------------------------\\n')\n",
      "('\\nFold index:', 9, '------------------------------------------')\n",
      "('\\nShape of input data for this fold:', '\\nData Set: (Observations, Variables)')\n",
      "('X_train:', (456, 12))\n",
      "('X_test:', (50, 12))\n",
      "('y_train:', (456,))\n",
      "('y_test:', (50,))\n",
      "('\\nRegression evaluation for:', 'Linear')\n",
      "('  Scikit Learn method:', LinearRegression(copy_X=True, fit_intercept=True, n_jobs=1, normalize=False))\n",
      "('Fitted regression intercept:', 40.59884593244499)\n",
      "('Fitted regression coefficients:', array([-1.14512292e-01,  5.15325608e-02,  1.79501677e-02,  2.73745462e+00,\n",
      "       -1.79163064e+01,  3.65696565e+00,  1.35502664e-02, -1.46299491e+00,\n",
      "        3.44031018e-01, -1.68109659e-02, -8.75463418e-01, -5.81379716e-01]))\n",
      "('Coefficient of determination (R-squared):', 0.47795735726100186)\n",
      "{'copy_X': True, 'normalize': False, 'n_jobs': 1, 'fit_intercept': True}\n",
      "('Root mean-squared error:', 3.055905385718936, '\\n--------------------------------------------------------\\n')\n",
      "('\\nRegression evaluation for:', 'Ridge')\n",
      "('  Scikit Learn method:', Ridge(alpha=0.1, copy_X=True, fit_intercept=True, max_iter=None,\n",
      "   normalize=False, random_state=1, solver='cholesky', tol=0.001))\n",
      "('Fitted regression intercept:', 39.78879393823654)\n",
      "('Fitted regression coefficients:', array([-1.13604584e-01,  5.18062347e-02,  1.18646198e-02,  2.72262735e+00,\n",
      "       -1.66673838e+01,  3.66400450e+00,  1.24696516e-02, -1.44768726e+00,\n",
      "        3.41836451e-01, -1.70176527e-02, -8.60693256e-01, -5.82894455e-01]))\n",
      "('Coefficient of determination (R-squared):', 0.47169543273662407)\n",
      "{'normalize': False, 'fit_intercept': True, 'max_iter': None, 'random_state': 1, 'tol': 0.001, 'copy_X': True, 'alpha': 0.1, 'solver': 'cholesky'}\n",
      "('Root mean-squared error:', 3.0741786119665577, '\\n--------------------------------------------------------\\n')\n",
      "('\\nRegression evaluation for:', 'Lasso')\n",
      "('  Scikit Learn method:', Lasso(alpha=0.1, copy_X=True, fit_intercept=True, max_iter=1000,\n",
      "   normalize=False, positive=False, precompute=False, random_state=1,\n",
      "   selection='cyclic', tol=0.0001, warm_start=False))\n",
      "('Fitted regression intercept:', 30.524582381634694)\n",
      "('Fitted regression coefficients:', array([-1.01300634e-01,  5.55489806e-02, -5.19078044e-02,  1.20025061e+00,\n",
      "       -0.00000000e+00,  3.53529946e+00,  1.96378303e-03, -1.19734861e+00,\n",
      "        3.22307199e-01, -2.04313604e-02, -6.75586362e-01, -6.25798458e-01]))\n",
      "('Coefficient of determination (R-squared):', 0.3061093524320342)\n",
      "{'normalize': False, 'warm_start': False, 'selection': 'cyclic', 'fit_intercept': True, 'positive': False, 'max_iter': 1000, 'precompute': False, 'random_state': 1, 'tol': 0.0001, 'copy_X': True, 'alpha': 0.1}\n",
      "('Root mean-squared error:', 3.5231605233734333, '\\n--------------------------------------------------------\\n')\n",
      "('\\nRegression evaluation for:', 'Elastic Net')\n",
      "('  Scikit Learn method:', ElasticNet(alpha=0.1, copy_X=True, fit_intercept=True, l1_ratio=0.5,\n",
      "      max_iter=1000, normalize=False, positive=False, precompute=False,\n",
      "      random_state=1, selection='cyclic', tol=0.0001, warm_start=False))\n",
      "('Fitted regression intercept:', 33.83794818388027)\n",
      "('Fitted regression coefficients:', array([-0.10305426,  0.05735404, -0.05973567,  1.12153426, -0.02539481,\n",
      "        3.13805749,  0.00471661, -1.21282793,  0.34034845, -0.02100697,\n",
      "       -0.70082065, -0.65166434]))\n",
      "('Coefficient of determination (R-squared):', 0.29372345600339866)\n",
      "{'normalize': False, 'warm_start': False, 'selection': 'cyclic', 'fit_intercept': True, 'l1_ratio': 0.5, 'max_iter': 1000, 'precompute': False, 'random_state': 1, 'tol': 0.0001, 'positive': False, 'copy_X': True, 'alpha': 0.1}\n",
      "('Root mean-squared error:', 3.5544655199026796, '\\n--------------------------------------------------------\\n')\n",
      "('\\nRegression evaluation for:', 'Ridge_1')\n",
      "('  Scikit Learn method:', Ridge(alpha=1, copy_X=True, fit_intercept=True, max_iter=None,\n",
      "   normalize=False, random_state=1, solver='cholesky', tol=0.001))\n",
      "('Fitted regression intercept:', 35.712286636603096)\n",
      "('Fitted regression coefficients:', array([-1.09015441e-01,  5.32577876e-02, -1.93147006e-02,  2.61586020e+00,\n",
      "       -1.02409152e+01,  3.68969602e+00,  7.01819486e-03, -1.36893184e+00,\n",
      "        3.31189495e-01, -1.81086660e-02, -7.85585384e-01, -5.91542437e-01]))\n",
      "('Coefficient of determination (R-squared):', 0.4250087598023611)\n",
      "{'normalize': False, 'fit_intercept': True, 'max_iter': None, 'random_state': 1, 'tol': 0.001, 'copy_X': True, 'alpha': 1, 'solver': 'cholesky'}\n",
      "('Root mean-squared error:', 3.207137119037866, '\\n--------------------------------------------------------\\n')\n",
      "('\\nRegression evaluation for:', 'Lasso_1')\n",
      "('  Scikit Learn method:', Lasso(alpha=1, copy_X=True, fit_intercept=True, max_iter=1000,\n",
      "   normalize=False, positive=False, precompute=False, random_state=1,\n",
      "   selection='cyclic', tol=0.0001, warm_start=False))\n",
      "('Fitted regression intercept:', 43.744724613682)\n",
      "('Fitted regression coefficients:', array([-0.06747036,  0.05596457, -0.        ,  0.        , -0.        ,\n",
      "        1.0373152 ,  0.03025835, -0.7400678 ,  0.30700875, -0.02065367,\n",
      "       -0.63926517, -0.80233876]))\n",
      "('Coefficient of determination (R-squared):', 0.33388737534662094)\n",
      "{'normalize': False, 'warm_start': False, 'selection': 'cyclic', 'fit_intercept': True, 'positive': False, 'max_iter': 1000, 'precompute': False, 'random_state': 1, 'tol': 0.0001, 'copy_X': True, 'alpha': 1}\n",
      "('Root mean-squared error:', 3.451920193408514, '\\n--------------------------------------------------------\\n')\n",
      "('\\nRegression evaluation for:', 'Elastic Net_1')\n",
      "('  Scikit Learn method:', ElasticNet(alpha=1, copy_X=True, fit_intercept=True, l1_ratio=0.5,\n",
      "      max_iter=1000, normalize=False, positive=False, precompute=False,\n",
      "      random_state=1, selection='cyclic', tol=0.0001, warm_start=False))\n",
      "('Fitted regression intercept:', 45.62085085687957)\n",
      "('Fitted regression coefficients:', array([-0.08332947,  0.05841573, -0.02444324,  0.        , -0.        ,\n",
      "        0.96046275,  0.03091655, -0.81440123,  0.35243444, -0.02197436,\n",
      "       -0.68102226, -0.8010848 ]))\n",
      "('Coefficient of determination (R-squared):', 0.29596183739215076)\n",
      "{'normalize': False, 'warm_start': False, 'selection': 'cyclic', 'fit_intercept': True, 'l1_ratio': 0.5, 'max_iter': 1000, 'precompute': False, 'random_state': 1, 'tol': 0.0001, 'positive': False, 'copy_X': True, 'alpha': 1}\n",
      "('Root mean-squared error:', 3.5488285187731825, '\\n--------------------------------------------------------\\n')\n",
      "('\\nRegression evaluation for:', 'Ridge_.5')\n",
      "('  Scikit Learn method:', Ridge(alpha=0.5, copy_X=True, fit_intercept=True, max_iter=None,\n",
      "   normalize=False, random_state=1, solver='cholesky', tol=0.001))\n",
      "('Fitted regression intercept:', 37.45754705560094)\n",
      "('Fitted regression coefficients:', array([-1.10986568e-01,  5.26149792e-02, -5.80579402e-03,  2.67072185e+00,\n",
      "       -1.30329131e+01,  3.68150107e+00,  9.35597776e-03, -1.40314524e+00,\n",
      "        3.35634452e-01, -1.76269900e-02, -8.17966206e-01, -5.87545307e-01]))\n",
      "('Coefficient of determination (R-squared):', 0.44828517987009076)\n",
      "{'normalize': False, 'fit_intercept': True, 'max_iter': None, 'random_state': 1, 'tol': 0.001, 'copy_X': True, 'alpha': 0.5, 'solver': 'cholesky'}\n",
      "('Root mean-squared error:', 3.1415519020119027, '\\n--------------------------------------------------------\\n')\n",
      "('\\nRegression evaluation for:', 'Lasso_.5')\n",
      "('  Scikit Learn method:', Lasso(alpha=0.5, copy_X=True, fit_intercept=True, max_iter=1000,\n",
      "   normalize=False, positive=False, precompute=False, random_state=1,\n",
      "   selection='cyclic', tol=0.0001, warm_start=False))\n",
      "('Fitted regression intercept:', 36.57664853319858)\n",
      "('Fitted regression coefficients:', array([-0.08817809,  0.05591637, -0.01900957,  0.        , -0.        ,\n",
      "        2.43676182,  0.01508679, -0.99235077,  0.32355945, -0.02100288,\n",
      "       -0.66951619, -0.70781515]))\n",
      "('Coefficient of determination (R-squared):', 0.3246260490489502)\n",
      "{'normalize': False, 'warm_start': False, 'selection': 'cyclic', 'fit_intercept': True, 'positive': False, 'max_iter': 1000, 'precompute': False, 'random_state': 1, 'tol': 0.0001, 'copy_X': True, 'alpha': 0.5}\n",
      "('Root mean-squared error:', 3.475834320000315, '\\n--------------------------------------------------------\\n')\n",
      "('\\nRegression evaluation for:', 'Elastic Net_.5')\n",
      "('  Scikit Learn method:', ElasticNet(alpha=0.5, copy_X=True, fit_intercept=True, l1_ratio=0.5,\n",
      "      max_iter=1000, normalize=False, positive=False, precompute=False,\n",
      "      random_state=1, selection='cyclic', tol=0.0001, warm_start=False))\n",
      "('Fitted regression intercept:', 42.77094636219079)\n",
      "('Fitted regression coefficients:', array([-0.0957013 ,  0.0594165 , -0.04347328,  0.        , -0.        ,\n",
      "        1.72068204,  0.02039328, -1.0313412 ,  0.36718856, -0.02226917,\n",
      "       -0.72364357, -0.75178213]))\n",
      "('Coefficient of determination (R-squared):', 0.28304762872240075)\n",
      "{'normalize': False, 'warm_start': False, 'selection': 'cyclic', 'fit_intercept': True, 'l1_ratio': 0.5, 'max_iter': 1000, 'precompute': False, 'random_state': 1, 'tol': 0.0001, 'positive': False, 'copy_X': True, 'alpha': 0.5}\n",
      "('Root mean-squared error:', 3.581228787132965, '\\n--------------------------------------------------------\\n')\n"
     ]
    }
   ],
   "source": [
    "# check the splitting process by looking at fold observation counts\n",
    "index_for_fold = 0  # fold count initialized \n",
    "for train_index, test_index in kf.split(prelim_model_data):\n",
    "    print('\\nFold index:', index_for_fold,\n",
    "          '------------------------------------------')\n",
    "#   note that 0:model_data.shape[1]-1 slices for explanatory variables\n",
    "#   and model_data.shape[1]-1 is the index for the response variable    \n",
    "    X_train = prelim_model_data[train_index, 1:prelim_model_data.shape[1]]\n",
    "    X_test = prelim_model_data[test_index, 1:prelim_model_data.shape[1]]\n",
    "    y_train = prelim_model_data[train_index, 0]\n",
    "    y_test = prelim_model_data[test_index, 0]   \n",
    "    print('\\nShape of input data for this fold:',\n",
    "          '\\nData Set: (Observations, Variables)')\n",
    "    print('X_train:', X_train.shape)\n",
    "    print('X_test:',X_test.shape)\n",
    "    print('y_train:', y_train.shape)\n",
    "    print('y_test:',y_test.shape)\n",
    "\n",
    "    index_for_method = 0  # initialize\n",
    "    for name, lin_model in zip(names, regressions):\n",
    "        print('\\nRegression evaluation for:', name)\n",
    "        print('  Scikit Learn method:', lin_model)\n",
    "        lin_model.fit(X_train, y_train)  # fit on the train set for this fold\n",
    "        print('Fitted regression intercept:', lin_model.intercept_)\n",
    "        print('Fitted regression coefficients:', lin_model.coef_)\n",
    "        # evaluate on the test set for this fold\n",
    "        y_test_predict = lin_model.predict(X_test)\n",
    "        print('Coefficient of determination (R-squared):',\n",
    "              r2_score(y_test, y_test_predict))\n",
    "        fold_method_result = sqrt(mean_squared_error(y_test, y_test_predict))\n",
    "        print(lin_model.get_params(deep=True))\n",
    "        print('Root mean-squared error:', fold_method_result,\n",
    "              '\\n--------------------------------------------------------\\n')\n",
    "        cv_results[index_for_fold, index_for_method] = fold_method_result\n",
    "        index_for_method += 1\n",
    "    \n",
    "    index_for_fold += 1"
   ]
  },
  {
   "cell_type": "code",
   "execution_count": 0,
   "metadata": {
    "colab": {
     "autoexec": {
      "startup": false,
      "wait_interval": 0
     }
    },
    "colab_type": "code",
    "id": "nPsgQPXkGNGc"
   },
   "outputs": [],
   "source": [
    "cv_results_df = pd.DataFrame(cv_results)\n",
    "cv_results_df.columns = names"
   ]
  },
  {
   "cell_type": "code",
   "execution_count": 191,
   "metadata": {
    "colab": {
     "autoexec": {
      "startup": false,
      "wait_interval": 0
     },
     "base_uri": "https://localhost:8080/",
     "height": 238
    },
    "colab_type": "code",
    "executionInfo": {
     "elapsed": 239,
     "status": "ok",
     "timestamp": 1532191123029,
     "user": {
      "displayName": "dalya adams",
      "photoUrl": "https://lh3.googleusercontent.com/a/default-user=s128",
      "userId": "101705127410802501621"
     },
     "user_tz": 240
    },
    "id": "Uh-ava6zgcEh",
    "outputId": "a0e27bf3-a55c-45f2-deba-960026af1c6a"
   },
   "outputs": [
    {
     "name": "stdout",
     "output_type": "stream",
     "text": [
      "Root Mean Squared Errors\n",
      "----------------------------------------------\n",
      "Linear            5.15473\n",
      "Ridge             5.13838\n",
      "Lasso             5.13338\n",
      "Elastic Net       5.08043\n",
      "Ridge_1           5.08482\n",
      "Lasso_1           5.52316\n",
      "Elastic Net_1     5.28702\n",
      "Ridge_.5          5.10195\n",
      "Lasso_.5          5.25595\n",
      "Elastic Net_.5    5.15085\n",
      "dtype: float64\n"
     ]
    }
   ],
   "source": [
    "pd.set_option('precision', 5)\n",
    "print('Root Mean Squared Errors\\n----------------------------------------------')\n",
    "#print('Average results from ', N_FOLDS, '-fold cross-validation\\n',\n",
    "#      'in standardized units (mean 0, standard deviation 1)\\n',\n",
    "#      '\\nMethod Root mean-squared error', sep = '') \n",
    "print(cv_results_df.mean())   \n",
    "with open(\"cv-results-df-mean.txt\", \"w\") as text_file:\n",
    "    text_file.write('\\nAverage results from '+ str(N_FOLDS) + '-fold cross-validation\\n'+\n",
    "                    'in standardized units (mean 0, standard deviation 1)\\n'+\n",
    "                     '\\nMethod Root mean-squared error:\\n'+ \n",
    "                     str(cv_results_df.mean()))"
   ]
  },
  {
   "cell_type": "code",
   "execution_count": 0,
   "metadata": {
    "colab": {
     "autoexec": {
      "startup": false,
      "wait_interval": 0
     }
    },
    "colab_type": "code",
    "id": "x9DapNJ6geJ5"
   },
   "outputs": [],
   "source": [
    "#With out standardized obseervaitons Elastic Net with .1 has the smallest RMSE.\n",
    "#lets look at just that one"
   ]
  },
  {
   "cell_type": "code",
   "execution_count": 0,
   "metadata": {
    "colab": {
     "autoexec": {
      "startup": false,
      "wait_interval": 0
     }
    },
    "colab_type": "code",
    "id": "T3kStgrGheqR"
   },
   "outputs": [],
   "source": [
    "X=boston[['crim', 'zn', 'indus', 'chas', 'nox', 'rooms', 'age', 'dis', 'rad', 'tax', 'ptratio', 'lstat']]\n",
    "y=boston[['mv']]"
   ]
  },
  {
   "cell_type": "code",
   "execution_count": 0,
   "metadata": {
    "colab": {
     "autoexec": {
      "startup": false,
      "wait_interval": 0
     }
    },
    "colab_type": "code",
    "id": "uWsN0BWohF3F"
   },
   "outputs": [],
   "source": [
    "elastic_net=ElasticNet(alpha=0.1, \n",
    "                         l1_ratio=0.5, \n",
    "                         fit_intercept = SET_FIT_INTERCEPT,\n",
    "                        random_state = RANDOM_SEED)"
   ]
  },
  {
   "cell_type": "code",
   "execution_count": 194,
   "metadata": {
    "colab": {
     "autoexec": {
      "startup": false,
      "wait_interval": 0
     },
     "base_uri": "https://localhost:8080/",
     "height": 68
    },
    "colab_type": "code",
    "executionInfo": {
     "elapsed": 252,
     "status": "ok",
     "timestamp": 1532191185021,
     "user": {
      "displayName": "dalya adams",
      "photoUrl": "https://lh3.googleusercontent.com/a/default-user=s128",
      "userId": "101705127410802501621"
     },
     "user_tz": 240
    },
    "id": "Le-KYCJrhSEV",
    "outputId": "a0da6bc9-accd-45de-a6f4-1dbb5a06bdd7"
   },
   "outputs": [
    {
     "data": {
      "text/plain": [
       "ElasticNet(alpha=0.1, copy_X=True, fit_intercept=True, l1_ratio=0.5,\n",
       "      max_iter=1000, normalize=False, positive=False, precompute=False,\n",
       "      random_state=1, selection='cyclic', tol=0.0001, warm_start=False)"
      ]
     },
     "execution_count": 194,
     "metadata": {
      "tags": []
     },
     "output_type": "execute_result"
    }
   ],
   "source": [
    "elastic_net.fit(X,y)"
   ]
  },
  {
   "cell_type": "code",
   "execution_count": 195,
   "metadata": {
    "colab": {
     "autoexec": {
      "startup": false,
      "wait_interval": 0
     },
     "base_uri": "https://localhost:8080/",
     "height": 68
    },
    "colab_type": "code",
    "executionInfo": {
     "elapsed": 246,
     "status": "ok",
     "timestamp": 1532191186031,
     "user": {
      "displayName": "dalya adams",
      "photoUrl": "https://lh3.googleusercontent.com/a/default-user=s128",
      "userId": "101705127410802501621"
     },
     "user_tz": 240
    },
    "id": "mhjzlI3YhjL4",
    "outputId": "d8f20d38-2afd-4116-ae58-b40e3cdc78e0"
   },
   "outputs": [
    {
     "data": {
      "text/plain": [
       "array([-0.11216605,  0.05318999, -0.05372293,  1.07483501, -0.11746863,\n",
       "        3.10897999, -0.00518971, -1.20704105,  0.2663905 , -0.01578661,\n",
       "       -0.73847995, -0.63244652])"
      ]
     },
     "execution_count": 195,
     "metadata": {
      "tags": []
     },
     "output_type": "execute_result"
    }
   ],
   "source": [
    "elastic_net.coef_"
   ]
  },
  {
   "cell_type": "code",
   "execution_count": 196,
   "metadata": {
    "colab": {
     "autoexec": {
      "startup": false,
      "wait_interval": 0
     },
     "base_uri": "https://localhost:8080/",
     "height": 34
    },
    "colab_type": "code",
    "executionInfo": {
     "elapsed": 427,
     "status": "ok",
     "timestamp": 1532191187334,
     "user": {
      "displayName": "dalya adams",
      "photoUrl": "https://lh3.googleusercontent.com/a/default-user=s128",
      "userId": "101705127410802501621"
     },
     "user_tz": 240
    },
    "id": "5zqYZYubhs8o",
    "outputId": "a8a321f4-d460-4f88-a05c-2360020cee51"
   },
   "outputs": [
    {
     "data": {
      "text/plain": [
       "array([33.84893839])"
      ]
     },
     "execution_count": 196,
     "metadata": {
      "tags": []
     },
     "output_type": "execute_result"
    }
   ],
   "source": [
    "elastic_net.intercept_"
   ]
  },
  {
   "cell_type": "markdown",
   "metadata": {
    "colab_type": "text",
    "id": "-Q35tf6g3IfJ"
   },
   "source": [
    "# **Random Forest**"
   ]
  },
  {
   "cell_type": "code",
   "execution_count": 197,
   "metadata": {
    "colab": {
     "autoexec": {
      "startup": false,
      "wait_interval": 0
     },
     "base_uri": "https://localhost:8080/",
     "height": 74
    },
    "colab_type": "code",
    "executionInfo": {
     "elapsed": 233,
     "status": "ok",
     "timestamp": 1532191189995,
     "user": {
      "displayName": "dalya adams",
      "photoUrl": "https://lh3.googleusercontent.com/a/default-user=s128",
      "userId": "101705127410802501621"
     },
     "user_tz": 240
    },
    "id": "feBwixIJh1L2",
    "outputId": "1fa96583-5e73-4aa0-e65c-39a0337e2738"
   },
   "outputs": [
    {
     "data": {
      "text/plain": [
       "Index([u'crim', u'zn', u'indus', u'chas', u'nox', u'rooms', u'age', u'dis', u'rad', u'tax', u'ptratio', u'lstat'], dtype='object')"
      ]
     },
     "execution_count": 197,
     "metadata": {
      "tags": []
     },
     "output_type": "execute_result"
    }
   ],
   "source": [
    "X.columns\n"
   ]
  },
  {
   "cell_type": "code",
   "execution_count": 198,
   "metadata": {
    "colab": {
     "autoexec": {
      "startup": false,
      "wait_interval": 0
     },
     "base_uri": "https://localhost:8080/",
     "height": 34
    },
    "colab_type": "code",
    "executionInfo": {
     "elapsed": 147,
     "status": "ok",
     "timestamp": 1532191190526,
     "user": {
      "displayName": "dalya adams",
      "photoUrl": "https://lh3.googleusercontent.com/a/default-user=s128",
      "userId": "101705127410802501621"
     },
     "user_tz": 240
    },
    "id": "hTyx_63c4Sq5",
    "outputId": "953cc5cc-e846-40bd-d71d-3cf209fa3e97"
   },
   "outputs": [
    {
     "data": {
      "text/plain": [
       "Index([u'mv'], dtype='object')"
      ]
     },
     "execution_count": 198,
     "metadata": {
      "tags": []
     },
     "output_type": "execute_result"
    }
   ],
   "source": [
    "y.columns"
   ]
  },
  {
   "cell_type": "code",
   "execution_count": 0,
   "metadata": {
    "colab": {
     "autoexec": {
      "startup": false,
      "wait_interval": 0
     }
    },
    "colab_type": "code",
    "id": "nccZxWo94XSa"
   },
   "outputs": [],
   "source": [
    "from sklearn.tree import DecisionTreeRegressor\n",
    "from sklearn.model_selection import cross_val_score"
   ]
  },
  {
   "cell_type": "code",
   "execution_count": 0,
   "metadata": {
    "colab": {
     "autoexec": {
      "startup": false,
      "wait_interval": 0
     }
    },
    "colab_type": "code",
    "id": "FTGXj5Pq7VyG"
   },
   "outputs": [],
   "source": [
    "X_train, X_test, y_train, y_test = train_test_split(\n",
    "...     X, y, test_size=0.33, random_state=42)"
   ]
  },
  {
   "cell_type": "code",
   "execution_count": 0,
   "metadata": {
    "colab": {
     "autoexec": {
      "startup": false,
      "wait_interval": 0
     }
    },
    "colab_type": "code",
    "id": "jTV_tmRN7vjD"
   },
   "outputs": [],
   "source": [
    "tree=DecisionTreeRegressor().fit(X_train,y_train)"
   ]
  },
  {
   "cell_type": "code",
   "execution_count": 202,
   "metadata": {
    "colab": {
     "autoexec": {
      "startup": false,
      "wait_interval": 0
     },
     "base_uri": "https://localhost:8080/",
     "height": 34
    },
    "colab_type": "code",
    "executionInfo": {
     "elapsed": 251,
     "status": "ok",
     "timestamp": 1532191193679,
     "user": {
      "displayName": "dalya adams",
      "photoUrl": "https://lh3.googleusercontent.com/a/default-user=s128",
      "userId": "101705127410802501621"
     },
     "user_tz": 240
    },
    "id": "ae_xnBwr75_6",
    "outputId": "9b9085d6-e6ef-4ba4-a94d-6a9c4a252aa5"
   },
   "outputs": [
    {
     "data": {
      "text/plain": [
       "0.7953293268603279"
      ]
     },
     "execution_count": 202,
     "metadata": {
      "tags": []
     },
     "output_type": "execute_result"
    }
   ],
   "source": [
    "tree.score(X_test, y_test)"
   ]
  },
  {
   "cell_type": "code",
   "execution_count": 203,
   "metadata": {
    "colab": {
     "autoexec": {
      "startup": false,
      "wait_interval": 0
     },
     "base_uri": "https://localhost:8080/",
     "height": 68
    },
    "colab_type": "code",
    "executionInfo": {
     "elapsed": 224,
     "status": "ok",
     "timestamp": 1532191195034,
     "user": {
      "displayName": "dalya adams",
      "photoUrl": "https://lh3.googleusercontent.com/a/default-user=s128",
      "userId": "101705127410802501621"
     },
     "user_tz": 240
    },
    "id": "acIw4AXP8W4V",
    "outputId": "75cb4148-8bc9-4f33-8dcd-9408aa92e172"
   },
   "outputs": [
    {
     "data": {
      "text/plain": [
       "array([ -16.80156863,   -9.58176471,  -15.73980392,  -92.03745098,\n",
       "        -22.9172549 ,  -34.50078431,  -14.448     , -114.4944    ,\n",
       "        -64.5972    ,  -19.0966    ])"
      ]
     },
     "execution_count": 203,
     "metadata": {
      "tags": []
     },
     "output_type": "execute_result"
    }
   ],
   "source": [
    "#‘neg_mean_squared_error’\n",
    "scores = cross_val_score(tree, X, y, cv=10, scoring='neg_mean_squared_error')\n",
    "scores"
   ]
  },
  {
   "cell_type": "code",
   "execution_count": 204,
   "metadata": {
    "colab": {
     "autoexec": {
      "startup": false,
      "wait_interval": 0
     },
     "base_uri": "https://localhost:8080/",
     "height": 51
    },
    "colab_type": "code",
    "executionInfo": {
     "elapsed": 312,
     "status": "ok",
     "timestamp": 1532191196131,
     "user": {
      "displayName": "dalya adams",
      "photoUrl": "https://lh3.googleusercontent.com/a/default-user=s128",
      "userId": "101705127410802501621"
     },
     "user_tz": 240
    },
    "id": "HB5TBHLp839C",
    "outputId": "8c71e54c-7b45-4631-bf3d-9838c7a6532e"
   },
   "outputs": [
    {
     "data": {
      "text/plain": [
       "array([ 4.09897165,  3.09544257,  3.96734217,  9.59361512,  4.78719698,\n",
       "        5.87373683,  3.80105249, 10.70020561,  8.03723833,  4.36996567])"
      ]
     },
     "execution_count": 204,
     "metadata": {
      "tags": []
     },
     "output_type": "execute_result"
    }
   ],
   "source": [
    "r_scores=np.sqrt(np.abs(scores))\n",
    "r_scores"
   ]
  },
  {
   "cell_type": "code",
   "execution_count": 205,
   "metadata": {
    "colab": {
     "autoexec": {
      "startup": false,
      "wait_interval": 0
     },
     "base_uri": "https://localhost:8080/",
     "height": 34
    },
    "colab_type": "code",
    "executionInfo": {
     "elapsed": 243,
     "status": "ok",
     "timestamp": 1532191197016,
     "user": {
      "displayName": "dalya adams",
      "photoUrl": "https://lh3.googleusercontent.com/a/default-user=s128",
      "userId": "101705127410802501621"
     },
     "user_tz": 240
    },
    "id": "K7Nrfz6R9X7m",
    "outputId": "16e337d3-2d7b-4786-917e-45956a439f2c"
   },
   "outputs": [
    {
     "data": {
      "text/plain": [
       "5.832476741648465"
      ]
     },
     "execution_count": 205,
     "metadata": {
      "tags": []
     },
     "output_type": "execute_result"
    }
   ],
   "source": [
    "np.mean(r_scores)"
   ]
  },
  {
   "cell_type": "code",
   "execution_count": 0,
   "metadata": {
    "colab": {
     "autoexec": {
      "startup": false,
      "wait_interval": 0
     }
    },
    "colab_type": "code",
    "id": "Sx5Jm_sYRIGX"
   },
   "outputs": [],
   "source": [
    "#Look at the decisions tree\n",
    "from sklearn.tree import export_graphviz"
   ]
  },
  {
   "cell_type": "code",
   "execution_count": 0,
   "metadata": {
    "colab": {
     "autoexec": {
      "startup": false,
      "wait_interval": 0
     }
    },
    "colab_type": "code",
    "id": "ls63Wr_9XZke"
   },
   "outputs": [],
   "source": [
    "export_graphviz(tree, out_file=\"tree.dot\")"
   ]
  },
  {
   "cell_type": "code",
   "execution_count": 0,
   "metadata": {
    "colab": {
     "autoexec": {
      "startup": false,
      "wait_interval": 0
     }
    },
    "colab_type": "code",
    "id": "v5Wf8e11YKxa"
   },
   "outputs": [],
   "source": [
    "!pip install graphviz\n",
    "!apt-get install graphviz"
   ]
  },
  {
   "cell_type": "code",
   "execution_count": 0,
   "metadata": {
    "colab": {
     "autoexec": {
      "startup": false,
      "wait_interval": 0
     }
    },
    "colab_type": "code",
    "id": "QphugVj5Y-Gx"
   },
   "outputs": [],
   "source": [
    "import graphviz"
   ]
  },
  {
   "cell_type": "code",
   "execution_count": 0,
   "metadata": {
    "colab": {
     "autoexec": {
      "startup": false,
      "wait_interval": 0
     }
    },
    "colab_type": "code",
    "id": "QhzJohEKXlDe"
   },
   "outputs": [],
   "source": [
    "with open(\"tree.dot\") as f:\n",
    "  dot_graph=f.read()\n",
    "display(graphviz.Source(dot_graph))"
   ]
  },
  {
   "cell_type": "code",
   "execution_count": 0,
   "metadata": {
    "colab": {
     "autoexec": {
      "startup": false,
      "wait_interval": 0
     }
    },
    "colab_type": "code",
    "id": "kGin2nNadqZ9"
   },
   "outputs": [],
   "source": [
    "#feature importance\n",
    "def plot_feature_importance(model):\n",
    "  n_features = X.shape[1]\n",
    "  plt.barh(range(n_features), model.feature_importances_, align='center')\n",
    "  plt.yticks(np.arange(n_features), X.columns)\n",
    "  plt.xlabel(\"Feature Importance\")\n",
    "  plt.ylabel(\"Feature\")\n",
    "  plt.ylim(-1, n_features)"
   ]
  },
  {
   "cell_type": "code",
   "execution_count": 134,
   "metadata": {
    "colab": {
     "autoexec": {
      "startup": false,
      "wait_interval": 0
     },
     "base_uri": "https://localhost:8080/",
     "height": 279
    },
    "colab_type": "code",
    "executionInfo": {
     "elapsed": 380,
     "status": "ok",
     "timestamp": 1532187413201,
     "user": {
      "displayName": "dalya adams",
      "photoUrl": "https://lh3.googleusercontent.com/a/default-user=s128",
      "userId": "101705127410802501621"
     },
     "user_tz": 240
    },
    "id": "1_geJ4M6YEsh",
    "outputId": "dff69dc0-f922-4e51-fbfc-b1e9252ceeda"
   },
   "outputs": [
    {
     "data": {
      "image/png": "[encoded data removed]",
      "text/plain": [
       "<matplotlib.figure.Figure at 0x7f3a4ef50510>"
      ]
     },
     "metadata": {
      "tags": []
     },
     "output_type": "display_data"
    }
   ],
   "source": [
    "plot_feature_importance(tree)"
   ]
  },
  {
   "cell_type": "code",
   "execution_count": 210,
   "metadata": {
    "colab": {
     "autoexec": {
      "startup": false,
      "wait_interval": 0
     },
     "base_uri": "https://localhost:8080/",
     "height": 111
    },
    "colab_type": "code",
    "executionInfo": {
     "elapsed": 3181,
     "status": "ok",
     "timestamp": 1532191256868,
     "user": {
      "displayName": "dalya adams",
      "photoUrl": "https://lh3.googleusercontent.com/a/default-user=s128",
      "userId": "101705127410802501621"
     },
     "user_tz": 240
    },
    "id": "P2XYeGL2eysC",
    "outputId": "460fefe1-2272-40dc-d926-fca4254f82fb"
   },
   "outputs": [
    {
     "name": "stderr",
     "output_type": "stream",
     "text": [
      "/usr/local/lib/python2.7/dist-packages/ipykernel_launcher.py:5: DataConversionWarning: A column-vector y was passed when a 1d array was expected. Please change the shape of y to (n_samples,), for example using ravel().\n",
      "  \"\"\"\n"
     ]
    }
   ],
   "source": [
    "# Import the model we are using\n",
    "from sklearn.ensemble import RandomForestRegressor\n",
    "# Instantiate model with 1000 decision trees\n",
    "rf_house = RandomForestRegressor(n_estimators = 1000, random_state = 42)\n",
    "# Train the model on training data\n",
    "rf_house.fit(X_train, y_train);"
   ]
  },
  {
   "cell_type": "code",
   "execution_count": 211,
   "metadata": {
    "colab": {
     "autoexec": {
      "startup": false,
      "wait_interval": 0
     },
     "base_uri": "https://localhost:8080/",
     "height": 34
    },
    "colab_type": "code",
    "executionInfo": {
     "elapsed": 291,
     "status": "ok",
     "timestamp": 1532191258385,
     "user": {
      "displayName": "dalya adams",
      "photoUrl": "https://lh3.googleusercontent.com/a/default-user=s128",
      "userId": "101705127410802501621"
     },
     "user_tz": 240
    },
    "id": "_uebMGBGfpBP",
    "outputId": "0881790f-619f-4db0-98e7-2c18a5f5aa3d"
   },
   "outputs": [
    {
     "data": {
      "text/plain": [
       "0.8640824148289223"
      ]
     },
     "execution_count": 211,
     "metadata": {
      "tags": []
     },
     "output_type": "execute_result"
    }
   ],
   "source": [
    "rf_house.score(X_test, y_test)"
   ]
  },
  {
   "cell_type": "code",
   "execution_count": 212,
   "metadata": {
    "colab": {
     "autoexec": {
      "startup": false,
      "wait_interval": 0
     },
     "base_uri": "https://localhost:8080/",
     "height": 68
    },
    "colab_type": "code",
    "executionInfo": {
     "elapsed": 35704,
     "status": "ok",
     "timestamp": 1532191294888,
     "user": {
      "displayName": "dalya adams",
      "photoUrl": "https://lh3.googleusercontent.com/a/default-user=s128",
      "userId": "101705127410802501621"
     },
     "user_tz": 240
    },
    "id": "dV9zvCYlf0NF",
    "outputId": "2af5d42c-7b51-4653-b3c3-8839227abafa"
   },
   "outputs": [
    {
     "data": {
      "text/plain": [
       "array([ -9.95273149,  -4.96701465,  -5.89277737, -20.74840668,\n",
       "       -10.33533543, -21.56311999,  -7.3729665 , -89.16059799,\n",
       "       -29.62866248, -12.75217339])"
      ]
     },
     "execution_count": 212,
     "metadata": {
      "tags": []
     },
     "output_type": "execute_result"
    }
   ],
   "source": [
    "#‘neg_mean_squared_error’\n",
    "rf_scores = cross_val_score(rf_house, X, y, cv=10, scoring='neg_mean_squared_error')\n",
    "rf_scores"
   ]
  },
  {
   "cell_type": "code",
   "execution_count": 213,
   "metadata": {
    "colab": {
     "autoexec": {
      "startup": false,
      "wait_interval": 0
     },
     "base_uri": "https://localhost:8080/",
     "height": 51
    },
    "colab_type": "code",
    "executionInfo": {
     "elapsed": 225,
     "status": "ok",
     "timestamp": 1532191295198,
     "user": {
      "displayName": "dalya adams",
      "photoUrl": "https://lh3.googleusercontent.com/a/default-user=s128",
      "userId": "101705127410802501621"
     },
     "user_tz": 240
    },
    "id": "sgi3Ph8hgwl-",
    "outputId": "313beb5e-82b8-4e3c-f0dd-f7c28534be31"
   },
   "outputs": [
    {
     "data": {
      "text/plain": [
       "array([3.154795  , 2.22868002, 2.42750435, 4.5550419 , 3.21486165,\n",
       "       4.64361066, 2.7153207 , 9.44248897, 5.4432217 , 3.57101854])"
      ]
     },
     "execution_count": 213,
     "metadata": {
      "tags": []
     },
     "output_type": "execute_result"
    }
   ],
   "source": [
    "rf_scores=np.sqrt(np.abs(rf_scores))\n",
    "rf_scores"
   ]
  },
  {
   "cell_type": "code",
   "execution_count": 214,
   "metadata": {
    "colab": {
     "autoexec": {
      "startup": false,
      "wait_interval": 0
     },
     "base_uri": "https://localhost:8080/",
     "height": 34
    },
    "colab_type": "code",
    "executionInfo": {
     "elapsed": 314,
     "status": "ok",
     "timestamp": 1532191295679,
     "user": {
      "displayName": "dalya adams",
      "photoUrl": "https://lh3.googleusercontent.com/a/default-user=s128",
      "userId": "101705127410802501621"
     },
     "user_tz": 240
    },
    "id": "LQTzQos-gz2g",
    "outputId": "74df67c1-b856-44e3-987b-ed6c0e55aecc"
   },
   "outputs": [
    {
     "data": {
      "text/plain": [
       "4.139654349275048"
      ]
     },
     "execution_count": 214,
     "metadata": {
      "tags": []
     },
     "output_type": "execute_result"
    }
   ],
   "source": [
    "np.mean(rf_scores)"
   ]
  },
  {
   "cell_type": "code",
   "execution_count": 215,
   "metadata": {
    "colab": {
     "autoexec": {
      "startup": false,
      "wait_interval": 0
     },
     "base_uri": "https://localhost:8080/",
     "height": 279
    },
    "colab_type": "code",
    "executionInfo": {
     "elapsed": 523,
     "status": "ok",
     "timestamp": 1532191296437,
     "user": {
      "displayName": "dalya adams",
      "photoUrl": "https://lh3.googleusercontent.com/a/default-user=s128",
      "userId": "101705127410802501621"
     },
     "user_tz": 240
    },
    "id": "UnF0S8SDn4v6",
    "outputId": "518c46e7-c62b-4b23-fc74-748a4c7b042b"
   },
   "outputs": [
    {
     "data": {
      "image/png": "[encoded data removed]",
      "text/plain": [
       "<matplotlib.figure.Figure at 0x7f3a53703290>"
      ]
     },
     "metadata": {
      "tags": []
     },
     "output_type": "display_data"
    }
   ],
   "source": [
    "plot_feature_importance(rf_house)"
   ]
  },
  {
   "cell_type": "code",
   "execution_count": 0,
   "metadata": {
    "colab": {
     "autoexec": {
      "startup": false,
      "wait_interval": 0
     }
    },
    "colab_type": "code",
    "id": "ihskURGuhDnQ"
   },
   "outputs": [],
   "source": [
    "##lets find some optimal paramaters\n",
    "from sklearn.model_selection import GridSearchCV"
   ]
  },
  {
   "cell_type": "code",
   "execution_count": 0,
   "metadata": {
    "colab": {
     "autoexec": {
      "startup": false,
      "wait_interval": 0
     }
    },
    "colab_type": "code",
    "id": "c7mG8C5dhMQ8"
   },
   "outputs": [],
   "source": [
    "# Create the parameter grid based on the results of random search \n",
    "param_grid = {\n",
    "    'bootstrap': [True],\n",
    "    'max_depth': [80, 90, 100, 110],\n",
    "    'max_features': [2, 3],\n",
    "    'min_samples_leaf': [3, 4, 5],\n",
    "    'min_samples_split': [8, 10, 12],\n",
    "    'n_estimators': [100, 200, 300, 1000]\n",
    "}"
   ]
  },
  {
   "cell_type": "code",
   "execution_count": 0,
   "metadata": {
    "colab": {
     "autoexec": {
      "startup": false,
      "wait_interval": 0
     }
    },
    "colab_type": "code",
    "id": "AoeE3NRlhS6b"
   },
   "outputs": [],
   "source": [
    "# Create a based model\n",
    "rf = RandomForestRegressor()\n",
    "# Instantiate the grid search model\n",
    "grid_search = GridSearchCV(estimator = rf, param_grid = param_grid, \n",
    "                          cv = 3, n_jobs = 1, verbose = 2)"
   ]
  },
  {
   "cell_type": "code",
   "execution_count": 0,
   "metadata": {
    "colab": {
     "autoexec": {
      "startup": false,
      "wait_interval": 0
     }
    },
    "colab_type": "code",
    "id": "o9MrIgfzhZSa"
   },
   "outputs": [],
   "source": [
    "# Fit the grid search to the data\n",
    "grid_search.fit(X, y)\n"
   ]
  },
  {
   "cell_type": "code",
   "execution_count": 216,
   "metadata": {
    "colab": {
     "autoexec": {
      "startup": false,
      "wait_interval": 0
     },
     "base_uri": "https://localhost:8080/",
     "height": 119
    },
    "colab_type": "code",
    "executionInfo": {
     "elapsed": 242,
     "status": "ok",
     "timestamp": 1532191405582,
     "user": {
      "displayName": "dalya adams",
      "photoUrl": "https://lh3.googleusercontent.com/a/default-user=s128",
      "userId": "101705127410802501621"
     },
     "user_tz": 240
    },
    "id": "1yyZvxalo3LR",
    "outputId": "cd5b4347-90b2-4f44-c5da-0bdd28162c0d"
   },
   "outputs": [
    {
     "data": {
      "text/plain": [
       "{'bootstrap': True,\n",
       " 'max_depth': 110,\n",
       " 'max_features': 3,\n",
       " 'min_samples_leaf': 4,\n",
       " 'min_samples_split': 8,\n",
       " 'n_estimators': 200}"
      ]
     },
     "execution_count": 216,
     "metadata": {
      "tags": []
     },
     "output_type": "execute_result"
    }
   ],
   "source": [
    "grid_search.best_params_"
   ]
  },
  {
   "cell_type": "code",
   "execution_count": 217,
   "metadata": {
    "colab": {
     "autoexec": {
      "startup": false,
      "wait_interval": 0
     },
     "base_uri": "https://localhost:8080/",
     "height": 91
    },
    "colab_type": "code",
    "executionInfo": {
     "elapsed": 663,
     "status": "ok",
     "timestamp": 1532191464915,
     "user": {
      "displayName": "dalya adams",
      "photoUrl": "https://lh3.googleusercontent.com/a/default-user=s128",
      "userId": "101705127410802501621"
     },
     "user_tz": 240
    },
    "id": "C0AfVLzAhc_R",
    "outputId": "c6567ba4-1293-466d-a977-ccacc47c8581"
   },
   "outputs": [
    {
     "name": "stderr",
     "output_type": "stream",
     "text": [
      "/usr/local/lib/python2.7/dist-packages/ipykernel_launcher.py:3: DataConversionWarning: A column-vector y was passed when a 1d array was expected. Please change the shape of y to (n_samples,), for example using ravel().\n",
      "  This is separate from the ipykernel package so we can avoid doing imports until\n"
     ]
    }
   ],
   "source": [
    "# Instantiate model with 200 decision trees\n",
    "house = RandomForestRegressor(n_estimators=200,  max_depth=110, min_samples_split=8, min_samples_leaf=4,  max_features=3,   bootstrap=True, random_state=42)\n",
    "# Train the model on training data\n",
    "house.fit(X_train, y_train);\n"
   ]
  },
  {
   "cell_type": "code",
   "execution_count": 218,
   "metadata": {
    "colab": {
     "autoexec": {
      "startup": false,
      "wait_interval": 0
     },
     "base_uri": "https://localhost:8080/",
     "height": 34
    },
    "colab_type": "code",
    "executionInfo": {
     "elapsed": 231,
     "status": "ok",
     "timestamp": 1532191467329,
     "user": {
      "displayName": "dalya adams",
      "photoUrl": "https://lh3.googleusercontent.com/a/default-user=s128",
      "userId": "101705127410802501621"
     },
     "user_tz": 240
    },
    "id": "6hrNAyZ4h7dZ",
    "outputId": "45577460-0cb6-4636-de7c-72a78c7fc7dd"
   },
   "outputs": [
    {
     "data": {
      "text/plain": [
       "0.8322629967621061"
      ]
     },
     "execution_count": 218,
     "metadata": {
      "tags": []
     },
     "output_type": "execute_result"
    }
   ],
   "source": [
    "house.score(X_test, y_test)"
   ]
  },
  {
   "cell_type": "code",
   "execution_count": 219,
   "metadata": {
    "colab": {
     "autoexec": {
      "startup": false,
      "wait_interval": 0
     },
     "base_uri": "https://localhost:8080/",
     "height": 68
    },
    "colab_type": "code",
    "executionInfo": {
     "elapsed": 4432,
     "status": "ok",
     "timestamp": 1532191474287,
     "user": {
      "displayName": "dalya adams",
      "photoUrl": "https://lh3.googleusercontent.com/a/default-user=s128",
      "userId": "101705127410802501621"
     },
     "user_tz": 240
    },
    "id": "XLGCjHrqiERW",
    "outputId": "6db7f69d-6f95-4889-c9f8-510d694d68d3"
   },
   "outputs": [
    {
     "data": {
      "text/plain": [
       "array([-11.61233331,  -5.10857504,  -3.86058151, -32.36178047,\n",
       "       -14.62858745, -23.97089755, -11.45960355, -90.99994451,\n",
       "       -16.9164951 , -10.17631147])"
      ]
     },
     "execution_count": 219,
     "metadata": {
      "tags": []
     },
     "output_type": "execute_result"
    }
   ],
   "source": [
    "#‘neg_mean_squared_error’\n",
    "house_scores = cross_val_score(house, X, y, cv=10, scoring='neg_mean_squared_error')\n",
    "house_scores"
   ]
  },
  {
   "cell_type": "code",
   "execution_count": 220,
   "metadata": {
    "colab": {
     "autoexec": {
      "startup": false,
      "wait_interval": 0
     },
     "base_uri": "https://localhost:8080/",
     "height": 51
    },
    "colab_type": "code",
    "executionInfo": {
     "elapsed": 239,
     "status": "ok",
     "timestamp": 1532191476043,
     "user": {
      "displayName": "dalya adams",
      "photoUrl": "https://lh3.googleusercontent.com/a/default-user=s128",
      "userId": "101705127410802501621"
     },
     "user_tz": 240
    },
    "id": "EN1KH4zZiIQP",
    "outputId": "83e93df6-16b2-4693-c6ca-33c220614ee2"
   },
   "outputs": [
    {
     "data": {
      "text/plain": [
       "array([3.40768738, 2.26021571, 1.96483626, 5.68874155, 3.82473364,\n",
       "       4.89600833, 3.38520362, 9.53938911, 4.1129667 , 3.19003315])"
      ]
     },
     "execution_count": 220,
     "metadata": {
      "tags": []
     },
     "output_type": "execute_result"
    }
   ],
   "source": [
    "house_scores=np.sqrt(np.abs(house_scores))\n",
    "house_scores"
   ]
  },
  {
   "cell_type": "code",
   "execution_count": 221,
   "metadata": {
    "colab": {
     "autoexec": {
      "startup": false,
      "wait_interval": 0
     },
     "base_uri": "https://localhost:8080/",
     "height": 34
    },
    "colab_type": "code",
    "executionInfo": {
     "elapsed": 228,
     "status": "ok",
     "timestamp": 1532191477521,
     "user": {
      "displayName": "dalya adams",
      "photoUrl": "https://lh3.googleusercontent.com/a/default-user=s128",
      "userId": "101705127410802501621"
     },
     "user_tz": 240
    },
    "id": "EdeZBkKViK5M",
    "outputId": "a2842842-f218-453c-88ae-ee13b777dbca"
   },
   "outputs": [
    {
     "data": {
      "text/plain": [
       "4.226981544746972"
      ]
     },
     "execution_count": 221,
     "metadata": {
      "tags": []
     },
     "output_type": "execute_result"
    }
   ],
   "source": [
    "np.mean(house_scores)"
   ]
  },
  {
   "cell_type": "code",
   "execution_count": 222,
   "metadata": {
    "colab": {
     "autoexec": {
      "startup": false,
      "wait_interval": 0
     },
     "base_uri": "https://localhost:8080/",
     "height": 279
    },
    "colab_type": "code",
    "executionInfo": {
     "elapsed": 341,
     "status": "ok",
     "timestamp": 1532191489618,
     "user": {
      "displayName": "dalya adams",
      "photoUrl": "https://lh3.googleusercontent.com/a/default-user=s128",
      "userId": "101705127410802501621"
     },
     "user_tz": 240
    },
    "id": "lh5cvgT3iRT9",
    "outputId": "38daf4cc-09dc-4dc5-e694-8623ae2389ec"
   },
   "outputs": [
    {
     "data": {
      "image/png": "[encoded data removed]",
      "text/plain": [
       "<matplotlib.figure.Figure at 0x7f3a4ea35bd0>"
      ]
     },
     "metadata": {
      "tags": []
     },
     "output_type": "display_data"
    }
   ],
   "source": [
    "plot_feature_importance(house)"
   ]
  },
  {
   "cell_type": "code",
   "execution_count": 0,
   "metadata": {
    "colab": {
     "autoexec": {
      "startup": false,
      "wait_interval": 0
     }
    },
    "colab_type": "code",
    "id": "9kabnfzKhmnh"
   },
   "outputs": [],
   "source": []
  }
 ],
 "metadata": {
  "colab": {
   "default_view": {},
   "name": "Assignment_3.ipynb",
   "provenance": [],
   "version": "0.3.2",
   "views": {}
  },
  "kernelspec": {
   "display_name": "Python 3",
   "language": "python",
   "name": "python3"
  },
  "language_info": {
   "codemirror_mode": {
    "name": "ipython",
    "version": 3
   },
   "file_extension": ".py",
   "mimetype": "text/x-python",
   "name": "python",
   "nbconvert_exporter": "python",
   "pygments_lexer": "ipython3",
   "version": "3.6.5"
  },
  "toc": {
   "nav_menu": {},
   "number_sections": true,
   "sideBar": true,
   "skip_h1_title": false,
   "toc_cell": false,
   "toc_position": {},
   "toc_section_display": "block",
   "toc_window_display": false
  }
 },
 "nbformat": 4,
 "nbformat_minor": 1
}
